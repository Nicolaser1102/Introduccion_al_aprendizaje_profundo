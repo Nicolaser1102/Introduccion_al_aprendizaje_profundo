{
  "nbformat": 4,
  "nbformat_minor": 0,
  "metadata": {
    "colab": {
      "name": "Ejercicio_red_neuronal.ipynb",
      "provenance": [],
      "authorship_tag": "ABX9TyPAMdwN7mBozBnYsM33v9Ts",
      "include_colab_link": true
    },
    "kernelspec": {
      "name": "python3",
      "display_name": "Python 3"
    },
    "language_info": {
      "name": "python"
    }
  },
  "cells": [
    {
      "cell_type": "markdown",
      "metadata": {
        "id": "view-in-github",
        "colab_type": "text"
      },
      "source": [
        "<a href=\"https://colab.research.google.com/github/Nicolaser1102/Introduccion_al_aprendizaje_profundo/blob/main/Ejercicio_sobre_redes_neuronales/Ejercicio_red_neuronal.ipynb\" target=\"_parent\"><img src=\"https://colab.research.google.com/assets/colab-badge.svg\" alt=\"Open In Colab\"/></a>"
      ]
    },
    {
      "cell_type": "markdown",
      "source": [
        "# CODING DOJO \n",
        "## Fecha creación:11/3/2022\n",
        "## Fecha de actualización: 20/3/2022\n",
        "## Esteban Simbaña\n",
        "\n",
        "#Ejercicio de Potenciación del gradiente (Concurso de Kaggle) \n",
        "\n",
        "## Sección de Implementación de red neuronal ( https://colab.research.google.com/drive/1k1Glv1pkVQFCvSOt84h9b91k1cgHPaMk#scrollTo=RnR-MLcY5uns&line=2&uniqifier=1 ) "
      ],
      "metadata": {
        "id": "F_rHXZr-vlqe"
      }
    },
    {
      "cell_type": "markdown",
      "source": [
        "Montamos nuestro drive"
      ],
      "metadata": {
        "id": "lSTUGe91Fl4b"
      }
    },
    {
      "cell_type": "code",
      "execution_count": 530,
      "metadata": {
        "colab": {
          "base_uri": "https://localhost:8080/"
        },
        "id": "Lfu9kvc4uQzA",
        "outputId": "4133500b-2c4d-4a41-a5bb-6e23dc0aa4ad"
      },
      "outputs": [
        {
          "output_type": "stream",
          "name": "stdout",
          "text": [
            "Drive already mounted at /content/drive; to attempt to forcibly remount, call drive.mount(\"/content/drive\", force_remount=True).\n"
          ]
        }
      ],
      "source": [
        "from google.colab import drive\n",
        "drive.mount('/content/drive')"
      ]
    },
    {
      "cell_type": "markdown",
      "source": [
        "Importamos librerías "
      ],
      "metadata": {
        "id": "vqzdbxtMFoeE"
      }
    },
    {
      "cell_type": "code",
      "source": [
        "import pandas as pd\n",
        "import matplotlib.pyplot as plt\n",
        "import seaborn as sns\n",
        "import numpy as np"
      ],
      "metadata": {
        "id": "ulg5tjfrwEw9"
      },
      "execution_count": 531,
      "outputs": []
    },
    {
      "cell_type": "markdown",
      "source": [
        "Importamos el df de entrenamiento"
      ],
      "metadata": {
        "id": "rvx5SMrIFrRl"
      }
    },
    {
      "cell_type": "code",
      "source": [
        "nombrearchivo = '/content/drive/MyDrive/Coding Dojo/Códigos/Track 3/Deberes /Week 2 - Track 3/spaceship-titanic.zip (Unzipped Files)/train.csv'\n",
        "df = pd.read_csv(nombrearchivo)\n",
        "df.head()"
      ],
      "metadata": {
        "colab": {
          "base_uri": "https://localhost:8080/",
          "height": 206
        },
        "id": "9c6d-QoUwGyN",
        "outputId": "d381e75a-110a-4744-8169-f53d046c1933"
      },
      "execution_count": 532,
      "outputs": [
        {
          "output_type": "execute_result",
          "data": {
            "text/plain": [
              "  PassengerId HomePlanet CryoSleep  Cabin  Destination   Age    VIP  \\\n",
              "0     0001_01     Europa     False  B/0/P  TRAPPIST-1e  39.0  False   \n",
              "1     0002_01      Earth     False  F/0/S  TRAPPIST-1e  24.0  False   \n",
              "2     0003_01     Europa     False  A/0/S  TRAPPIST-1e  58.0   True   \n",
              "3     0003_02     Europa     False  A/0/S  TRAPPIST-1e  33.0  False   \n",
              "4     0004_01      Earth     False  F/1/S  TRAPPIST-1e  16.0  False   \n",
              "\n",
              "   RoomService  FoodCourt  ShoppingMall     Spa  VRDeck               Name  \\\n",
              "0          0.0        0.0           0.0     0.0     0.0    Maham Ofracculy   \n",
              "1        109.0        9.0          25.0   549.0    44.0       Juanna Vines   \n",
              "2         43.0     3576.0           0.0  6715.0    49.0      Altark Susent   \n",
              "3          0.0     1283.0         371.0  3329.0   193.0       Solam Susent   \n",
              "4        303.0       70.0         151.0   565.0     2.0  Willy Santantines   \n",
              "\n",
              "   Transported  \n",
              "0        False  \n",
              "1         True  \n",
              "2        False  \n",
              "3        False  \n",
              "4         True  "
            ],
            "text/html": [
              "\n",
              "  <div id=\"df-ddc06967-737c-4dfb-bae6-f7190a80275b\">\n",
              "    <div class=\"colab-df-container\">\n",
              "      <div>\n",
              "<style scoped>\n",
              "    .dataframe tbody tr th:only-of-type {\n",
              "        vertical-align: middle;\n",
              "    }\n",
              "\n",
              "    .dataframe tbody tr th {\n",
              "        vertical-align: top;\n",
              "    }\n",
              "\n",
              "    .dataframe thead th {\n",
              "        text-align: right;\n",
              "    }\n",
              "</style>\n",
              "<table border=\"1\" class=\"dataframe\">\n",
              "  <thead>\n",
              "    <tr style=\"text-align: right;\">\n",
              "      <th></th>\n",
              "      <th>PassengerId</th>\n",
              "      <th>HomePlanet</th>\n",
              "      <th>CryoSleep</th>\n",
              "      <th>Cabin</th>\n",
              "      <th>Destination</th>\n",
              "      <th>Age</th>\n",
              "      <th>VIP</th>\n",
              "      <th>RoomService</th>\n",
              "      <th>FoodCourt</th>\n",
              "      <th>ShoppingMall</th>\n",
              "      <th>Spa</th>\n",
              "      <th>VRDeck</th>\n",
              "      <th>Name</th>\n",
              "      <th>Transported</th>\n",
              "    </tr>\n",
              "  </thead>\n",
              "  <tbody>\n",
              "    <tr>\n",
              "      <th>0</th>\n",
              "      <td>0001_01</td>\n",
              "      <td>Europa</td>\n",
              "      <td>False</td>\n",
              "      <td>B/0/P</td>\n",
              "      <td>TRAPPIST-1e</td>\n",
              "      <td>39.0</td>\n",
              "      <td>False</td>\n",
              "      <td>0.0</td>\n",
              "      <td>0.0</td>\n",
              "      <td>0.0</td>\n",
              "      <td>0.0</td>\n",
              "      <td>0.0</td>\n",
              "      <td>Maham Ofracculy</td>\n",
              "      <td>False</td>\n",
              "    </tr>\n",
              "    <tr>\n",
              "      <th>1</th>\n",
              "      <td>0002_01</td>\n",
              "      <td>Earth</td>\n",
              "      <td>False</td>\n",
              "      <td>F/0/S</td>\n",
              "      <td>TRAPPIST-1e</td>\n",
              "      <td>24.0</td>\n",
              "      <td>False</td>\n",
              "      <td>109.0</td>\n",
              "      <td>9.0</td>\n",
              "      <td>25.0</td>\n",
              "      <td>549.0</td>\n",
              "      <td>44.0</td>\n",
              "      <td>Juanna Vines</td>\n",
              "      <td>True</td>\n",
              "    </tr>\n",
              "    <tr>\n",
              "      <th>2</th>\n",
              "      <td>0003_01</td>\n",
              "      <td>Europa</td>\n",
              "      <td>False</td>\n",
              "      <td>A/0/S</td>\n",
              "      <td>TRAPPIST-1e</td>\n",
              "      <td>58.0</td>\n",
              "      <td>True</td>\n",
              "      <td>43.0</td>\n",
              "      <td>3576.0</td>\n",
              "      <td>0.0</td>\n",
              "      <td>6715.0</td>\n",
              "      <td>49.0</td>\n",
              "      <td>Altark Susent</td>\n",
              "      <td>False</td>\n",
              "    </tr>\n",
              "    <tr>\n",
              "      <th>3</th>\n",
              "      <td>0003_02</td>\n",
              "      <td>Europa</td>\n",
              "      <td>False</td>\n",
              "      <td>A/0/S</td>\n",
              "      <td>TRAPPIST-1e</td>\n",
              "      <td>33.0</td>\n",
              "      <td>False</td>\n",
              "      <td>0.0</td>\n",
              "      <td>1283.0</td>\n",
              "      <td>371.0</td>\n",
              "      <td>3329.0</td>\n",
              "      <td>193.0</td>\n",
              "      <td>Solam Susent</td>\n",
              "      <td>False</td>\n",
              "    </tr>\n",
              "    <tr>\n",
              "      <th>4</th>\n",
              "      <td>0004_01</td>\n",
              "      <td>Earth</td>\n",
              "      <td>False</td>\n",
              "      <td>F/1/S</td>\n",
              "      <td>TRAPPIST-1e</td>\n",
              "      <td>16.0</td>\n",
              "      <td>False</td>\n",
              "      <td>303.0</td>\n",
              "      <td>70.0</td>\n",
              "      <td>151.0</td>\n",
              "      <td>565.0</td>\n",
              "      <td>2.0</td>\n",
              "      <td>Willy Santantines</td>\n",
              "      <td>True</td>\n",
              "    </tr>\n",
              "  </tbody>\n",
              "</table>\n",
              "</div>\n",
              "      <button class=\"colab-df-convert\" onclick=\"convertToInteractive('df-ddc06967-737c-4dfb-bae6-f7190a80275b')\"\n",
              "              title=\"Convert this dataframe to an interactive table.\"\n",
              "              style=\"display:none;\">\n",
              "        \n",
              "  <svg xmlns=\"http://www.w3.org/2000/svg\" height=\"24px\"viewBox=\"0 0 24 24\"\n",
              "       width=\"24px\">\n",
              "    <path d=\"M0 0h24v24H0V0z\" fill=\"none\"/>\n",
              "    <path d=\"M18.56 5.44l.94 2.06.94-2.06 2.06-.94-2.06-.94-.94-2.06-.94 2.06-2.06.94zm-11 1L8.5 8.5l.94-2.06 2.06-.94-2.06-.94L8.5 2.5l-.94 2.06-2.06.94zm10 10l.94 2.06.94-2.06 2.06-.94-2.06-.94-.94-2.06-.94 2.06-2.06.94z\"/><path d=\"M17.41 7.96l-1.37-1.37c-.4-.4-.92-.59-1.43-.59-.52 0-1.04.2-1.43.59L10.3 9.45l-7.72 7.72c-.78.78-.78 2.05 0 2.83L4 21.41c.39.39.9.59 1.41.59.51 0 1.02-.2 1.41-.59l7.78-7.78 2.81-2.81c.8-.78.8-2.07 0-2.86zM5.41 20L4 18.59l7.72-7.72 1.47 1.35L5.41 20z\"/>\n",
              "  </svg>\n",
              "      </button>\n",
              "      \n",
              "  <style>\n",
              "    .colab-df-container {\n",
              "      display:flex;\n",
              "      flex-wrap:wrap;\n",
              "      gap: 12px;\n",
              "    }\n",
              "\n",
              "    .colab-df-convert {\n",
              "      background-color: #E8F0FE;\n",
              "      border: none;\n",
              "      border-radius: 50%;\n",
              "      cursor: pointer;\n",
              "      display: none;\n",
              "      fill: #1967D2;\n",
              "      height: 32px;\n",
              "      padding: 0 0 0 0;\n",
              "      width: 32px;\n",
              "    }\n",
              "\n",
              "    .colab-df-convert:hover {\n",
              "      background-color: #E2EBFA;\n",
              "      box-shadow: 0px 1px 2px rgba(60, 64, 67, 0.3), 0px 1px 3px 1px rgba(60, 64, 67, 0.15);\n",
              "      fill: #174EA6;\n",
              "    }\n",
              "\n",
              "    [theme=dark] .colab-df-convert {\n",
              "      background-color: #3B4455;\n",
              "      fill: #D2E3FC;\n",
              "    }\n",
              "\n",
              "    [theme=dark] .colab-df-convert:hover {\n",
              "      background-color: #434B5C;\n",
              "      box-shadow: 0px 1px 3px 1px rgba(0, 0, 0, 0.15);\n",
              "      filter: drop-shadow(0px 1px 2px rgba(0, 0, 0, 0.3));\n",
              "      fill: #FFFFFF;\n",
              "    }\n",
              "  </style>\n",
              "\n",
              "      <script>\n",
              "        const buttonEl =\n",
              "          document.querySelector('#df-ddc06967-737c-4dfb-bae6-f7190a80275b button.colab-df-convert');\n",
              "        buttonEl.style.display =\n",
              "          google.colab.kernel.accessAllowed ? 'block' : 'none';\n",
              "\n",
              "        async function convertToInteractive(key) {\n",
              "          const element = document.querySelector('#df-ddc06967-737c-4dfb-bae6-f7190a80275b');\n",
              "          const dataTable =\n",
              "            await google.colab.kernel.invokeFunction('convertToInteractive',\n",
              "                                                     [key], {});\n",
              "          if (!dataTable) return;\n",
              "\n",
              "          const docLinkHtml = 'Like what you see? Visit the ' +\n",
              "            '<a target=\"_blank\" href=https://colab.research.google.com/notebooks/data_table.ipynb>data table notebook</a>'\n",
              "            + ' to learn more about interactive tables.';\n",
              "          element.innerHTML = '';\n",
              "          dataTable['output_type'] = 'display_data';\n",
              "          await google.colab.output.renderOutput(dataTable, element);\n",
              "          const docLink = document.createElement('div');\n",
              "          docLink.innerHTML = docLinkHtml;\n",
              "          element.appendChild(docLink);\n",
              "        }\n",
              "      </script>\n",
              "    </div>\n",
              "  </div>\n",
              "  "
            ]
          },
          "metadata": {},
          "execution_count": 532
        }
      ]
    },
    {
      "cell_type": "markdown",
      "source": [
        "Observamos la dimensión del df y los valores faltantes de las columnas "
      ],
      "metadata": {
        "id": "BrEFrNtfFyNs"
      }
    },
    {
      "cell_type": "code",
      "source": [
        "df.shape"
      ],
      "metadata": {
        "colab": {
          "base_uri": "https://localhost:8080/"
        },
        "id": "Kfy-41TtwdV-",
        "outputId": "83039226-32b6-4317-ce18-522f87627d0f"
      },
      "execution_count": 533,
      "outputs": [
        {
          "output_type": "execute_result",
          "data": {
            "text/plain": [
              "(8693, 14)"
            ]
          },
          "metadata": {},
          "execution_count": 533
        }
      ]
    },
    {
      "cell_type": "code",
      "source": [
        "df.isnull().sum()"
      ],
      "metadata": {
        "colab": {
          "base_uri": "https://localhost:8080/"
        },
        "id": "c9N9eqICxQaP",
        "outputId": "f2c3ab76-c200-4440-ef00-527456688d15"
      },
      "execution_count": 534,
      "outputs": [
        {
          "output_type": "execute_result",
          "data": {
            "text/plain": [
              "PassengerId       0\n",
              "HomePlanet      201\n",
              "CryoSleep       217\n",
              "Cabin           199\n",
              "Destination     182\n",
              "Age             179\n",
              "VIP             203\n",
              "RoomService     181\n",
              "FoodCourt       183\n",
              "ShoppingMall    208\n",
              "Spa             183\n",
              "VRDeck          188\n",
              "Name            200\n",
              "Transported       0\n",
              "dtype: int64"
            ]
          },
          "metadata": {},
          "execution_count": 534
        }
      ]
    },
    {
      "cell_type": "markdown",
      "source": [
        "# Limpieza de datos "
      ],
      "metadata": {
        "id": "0qFVnGYkzN8c"
      }
    },
    {
      "cell_type": "markdown",
      "source": [
        "##Limpieza de columna 'HomePlanet'\n",
        " \n",
        "En este caso se analizarán los valores faltantes para considerar eliminar las filas que los contengan, y convertiremos las variables en tipo 'dummies'\n",
        "\n",
        "![deber_titanic.png](data:image/png;base64,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)"
      ],
      "metadata": {
        "id": "zEJns6LB1ekp"
      }
    },
    {
      "cell_type": "code",
      "source": [
        "#se muestran que valores contiene la columna 'HomePlanet'\n",
        "df['HomePlanet'].unique()"
      ],
      "metadata": {
        "colab": {
          "base_uri": "https://localhost:8080/"
        },
        "id": "gN8ZbzJxxom8",
        "outputId": "ff335d03-0dc8-4981-fc03-eb702514f150"
      },
      "execution_count": 535,
      "outputs": [
        {
          "output_type": "execute_result",
          "data": {
            "text/plain": [
              "array(['Europa', 'Earth', 'Mars', nan], dtype=object)"
            ]
          },
          "metadata": {},
          "execution_count": 535
        }
      ]
    },
    {
      "cell_type": "code",
      "source": [
        "#Llenamos los valores faltantes con un valor tipo 'str' para poder verificar cuantos valores faltantes hay\n",
        "df['HomePlanet'] = df['HomePlanet'].fillna('Valor_faltante')"
      ],
      "metadata": {
        "id": "4Tj1uGw540_0"
      },
      "execution_count": 536,
      "outputs": []
    },
    {
      "cell_type": "code",
      "source": [
        "#mostramos los diferentes variables dentro de la columna, con sus respectivos contadores de repetición\n",
        "unique,counts =np.unique(df['HomePlanet'],return_counts = True)\n",
        "dict(zip(unique,counts))"
      ],
      "metadata": {
        "colab": {
          "base_uri": "https://localhost:8080/"
        },
        "id": "0PO5bKOfLE9l",
        "outputId": "6827e7e5-1b5c-4a46-a76c-c885fcaccd86"
      },
      "execution_count": 537,
      "outputs": [
        {
          "output_type": "execute_result",
          "data": {
            "text/plain": [
              "{'Earth': 4602, 'Europa': 2131, 'Mars': 1759, 'Valor_faltante': 201}"
            ]
          },
          "metadata": {},
          "execution_count": 537
        }
      ]
    },
    {
      "cell_type": "markdown",
      "source": [
        "Por lo que no encontramos una forma correcta de tratar los datos faltantes para no modificar la realidad de gran forma, elegimos eliminar los datos faltantes"
      ],
      "metadata": {
        "id": "_gM1cE_YL-QS"
      }
    },
    {
      "cell_type": "code",
      "source": [
        "#Buscamos las filas que necesitamos eliminar ya que contienen la cadena 'Valor_faltante'\n",
        "\n",
        "buscador_valor_faltante = df[df['HomePlanet'] == 'Valor_faltante'].index\n",
        "\n",
        "#eliminamos las filas según los índices\n",
        "\n",
        "df = df.drop(buscador_valor_faltante)\n"
      ],
      "metadata": {
        "id": "BmT9GPgXMdCv"
      },
      "execution_count": 538,
      "outputs": []
    },
    {
      "cell_type": "markdown",
      "source": [
        "Código para eliminar las filas con un valor determinado inspirado de: https://www.delftstack.com/es/howto/python-pandas/drop-row-pandas/#:~:text=drop(),-Python&text=Se%20eliminan%20las%20filas%20con,utilizar%20el%20%C3%ADndice%20por%20defecto"
      ],
      "metadata": {
        "id": "oMAqC_cTxny3"
      }
    },
    {
      "cell_type": "code",
      "source": [
        "#Verificamos si no existe perdida de datos\n",
        "unique,counts =np.unique(df['HomePlanet'],return_counts = True)\n",
        "dict(zip(unique,counts))"
      ],
      "metadata": {
        "colab": {
          "base_uri": "https://localhost:8080/"
        },
        "id": "WrFpVQnYOlwN",
        "outputId": "ad15507b-29b9-42fe-c158-6779a1dddc9a"
      },
      "execution_count": 539,
      "outputs": [
        {
          "output_type": "execute_result",
          "data": {
            "text/plain": [
              "{'Earth': 4602, 'Europa': 2131, 'Mars': 1759}"
            ]
          },
          "metadata": {},
          "execution_count": 539
        }
      ]
    },
    {
      "cell_type": "code",
      "source": [
        "#Reemplazamos los datos a variables categóricas\n",
        "\n",
        "df['HomePlanet'] = df['HomePlanet'].replace('Earth',1)\n",
        "df['HomePlanet'] = df['HomePlanet'].replace('Mars',0)\n",
        "df['HomePlanet'] = df['HomePlanet'].replace('Europa',2)"
      ],
      "metadata": {
        "id": "UllSUGSbzKtB"
      },
      "execution_count": 540,
      "outputs": []
    },
    {
      "cell_type": "code",
      "source": [
        "#verificamos los cambios y que solo estén las variables categóricas en todo la columna\n",
        "df['HomePlanet'].unique()"
      ],
      "metadata": {
        "colab": {
          "base_uri": "https://localhost:8080/"
        },
        "id": "dZtxKUz04_Oo",
        "outputId": "902fa87d-d6ae-4fd4-9f40-80e3d87ff01e"
      },
      "execution_count": 541,
      "outputs": [
        {
          "output_type": "execute_result",
          "data": {
            "text/plain": [
              "array([2, 1, 0])"
            ]
          },
          "metadata": {},
          "execution_count": 541
        }
      ]
    },
    {
      "cell_type": "code",
      "source": [
        "#finalmente reseteamos los índices para evitar problemas a futuro con la limpieza de datos\n",
        "df.reset_index(inplace=True, drop=False)"
      ],
      "metadata": {
        "id": "mXF5GZVhQ2BK"
      },
      "execution_count": 542,
      "outputs": []
    },
    {
      "cell_type": "markdown",
      "source": [
        "## Limpuieza de columna Cabin\n",
        "\n",
        "En este caso, eliminamos la columna completa ya que esta columna presenta datos de la misma naturaleza que 'Passenger_ID'"
      ],
      "metadata": {
        "id": "bmn66i9A5chm"
      }
    },
    {
      "cell_type": "code",
      "source": [
        "df = df.drop(columns= 'Cabin')"
      ],
      "metadata": {
        "id": "n9zEisOL6ZgH"
      },
      "execution_count": 543,
      "outputs": []
    },
    {
      "cell_type": "code",
      "source": [
        "#verificamos los cambios\n",
        "df.head(1)"
      ],
      "metadata": {
        "colab": {
          "base_uri": "https://localhost:8080/",
          "height": 81
        },
        "id": "MZD1nv8R6a2_",
        "outputId": "97e1ac31-9147-4d38-d1b0-0b8e6b0ac9d8"
      },
      "execution_count": 544,
      "outputs": [
        {
          "output_type": "execute_result",
          "data": {
            "text/plain": [
              "   index PassengerId  HomePlanet CryoSleep  Destination   Age    VIP  \\\n",
              "0      0     0001_01           2     False  TRAPPIST-1e  39.0  False   \n",
              "\n",
              "   RoomService  FoodCourt  ShoppingMall  Spa  VRDeck             Name  \\\n",
              "0          0.0        0.0           0.0  0.0     0.0  Maham Ofracculy   \n",
              "\n",
              "   Transported  \n",
              "0        False  "
            ],
            "text/html": [
              "\n",
              "  <div id=\"df-06b34fa3-2f6d-45e0-8fe9-0add58beb1da\">\n",
              "    <div class=\"colab-df-container\">\n",
              "      <div>\n",
              "<style scoped>\n",
              "    .dataframe tbody tr th:only-of-type {\n",
              "        vertical-align: middle;\n",
              "    }\n",
              "\n",
              "    .dataframe tbody tr th {\n",
              "        vertical-align: top;\n",
              "    }\n",
              "\n",
              "    .dataframe thead th {\n",
              "        text-align: right;\n",
              "    }\n",
              "</style>\n",
              "<table border=\"1\" class=\"dataframe\">\n",
              "  <thead>\n",
              "    <tr style=\"text-align: right;\">\n",
              "      <th></th>\n",
              "      <th>index</th>\n",
              "      <th>PassengerId</th>\n",
              "      <th>HomePlanet</th>\n",
              "      <th>CryoSleep</th>\n",
              "      <th>Destination</th>\n",
              "      <th>Age</th>\n",
              "      <th>VIP</th>\n",
              "      <th>RoomService</th>\n",
              "      <th>FoodCourt</th>\n",
              "      <th>ShoppingMall</th>\n",
              "      <th>Spa</th>\n",
              "      <th>VRDeck</th>\n",
              "      <th>Name</th>\n",
              "      <th>Transported</th>\n",
              "    </tr>\n",
              "  </thead>\n",
              "  <tbody>\n",
              "    <tr>\n",
              "      <th>0</th>\n",
              "      <td>0</td>\n",
              "      <td>0001_01</td>\n",
              "      <td>2</td>\n",
              "      <td>False</td>\n",
              "      <td>TRAPPIST-1e</td>\n",
              "      <td>39.0</td>\n",
              "      <td>False</td>\n",
              "      <td>0.0</td>\n",
              "      <td>0.0</td>\n",
              "      <td>0.0</td>\n",
              "      <td>0.0</td>\n",
              "      <td>0.0</td>\n",
              "      <td>Maham Ofracculy</td>\n",
              "      <td>False</td>\n",
              "    </tr>\n",
              "  </tbody>\n",
              "</table>\n",
              "</div>\n",
              "      <button class=\"colab-df-convert\" onclick=\"convertToInteractive('df-06b34fa3-2f6d-45e0-8fe9-0add58beb1da')\"\n",
              "              title=\"Convert this dataframe to an interactive table.\"\n",
              "              style=\"display:none;\">\n",
              "        \n",
              "  <svg xmlns=\"http://www.w3.org/2000/svg\" height=\"24px\"viewBox=\"0 0 24 24\"\n",
              "       width=\"24px\">\n",
              "    <path d=\"M0 0h24v24H0V0z\" fill=\"none\"/>\n",
              "    <path d=\"M18.56 5.44l.94 2.06.94-2.06 2.06-.94-2.06-.94-.94-2.06-.94 2.06-2.06.94zm-11 1L8.5 8.5l.94-2.06 2.06-.94-2.06-.94L8.5 2.5l-.94 2.06-2.06.94zm10 10l.94 2.06.94-2.06 2.06-.94-2.06-.94-.94-2.06-.94 2.06-2.06.94z\"/><path d=\"M17.41 7.96l-1.37-1.37c-.4-.4-.92-.59-1.43-.59-.52 0-1.04.2-1.43.59L10.3 9.45l-7.72 7.72c-.78.78-.78 2.05 0 2.83L4 21.41c.39.39.9.59 1.41.59.51 0 1.02-.2 1.41-.59l7.78-7.78 2.81-2.81c.8-.78.8-2.07 0-2.86zM5.41 20L4 18.59l7.72-7.72 1.47 1.35L5.41 20z\"/>\n",
              "  </svg>\n",
              "      </button>\n",
              "      \n",
              "  <style>\n",
              "    .colab-df-container {\n",
              "      display:flex;\n",
              "      flex-wrap:wrap;\n",
              "      gap: 12px;\n",
              "    }\n",
              "\n",
              "    .colab-df-convert {\n",
              "      background-color: #E8F0FE;\n",
              "      border: none;\n",
              "      border-radius: 50%;\n",
              "      cursor: pointer;\n",
              "      display: none;\n",
              "      fill: #1967D2;\n",
              "      height: 32px;\n",
              "      padding: 0 0 0 0;\n",
              "      width: 32px;\n",
              "    }\n",
              "\n",
              "    .colab-df-convert:hover {\n",
              "      background-color: #E2EBFA;\n",
              "      box-shadow: 0px 1px 2px rgba(60, 64, 67, 0.3), 0px 1px 3px 1px rgba(60, 64, 67, 0.15);\n",
              "      fill: #174EA6;\n",
              "    }\n",
              "\n",
              "    [theme=dark] .colab-df-convert {\n",
              "      background-color: #3B4455;\n",
              "      fill: #D2E3FC;\n",
              "    }\n",
              "\n",
              "    [theme=dark] .colab-df-convert:hover {\n",
              "      background-color: #434B5C;\n",
              "      box-shadow: 0px 1px 3px 1px rgba(0, 0, 0, 0.15);\n",
              "      filter: drop-shadow(0px 1px 2px rgba(0, 0, 0, 0.3));\n",
              "      fill: #FFFFFF;\n",
              "    }\n",
              "  </style>\n",
              "\n",
              "      <script>\n",
              "        const buttonEl =\n",
              "          document.querySelector('#df-06b34fa3-2f6d-45e0-8fe9-0add58beb1da button.colab-df-convert');\n",
              "        buttonEl.style.display =\n",
              "          google.colab.kernel.accessAllowed ? 'block' : 'none';\n",
              "\n",
              "        async function convertToInteractive(key) {\n",
              "          const element = document.querySelector('#df-06b34fa3-2f6d-45e0-8fe9-0add58beb1da');\n",
              "          const dataTable =\n",
              "            await google.colab.kernel.invokeFunction('convertToInteractive',\n",
              "                                                     [key], {});\n",
              "          if (!dataTable) return;\n",
              "\n",
              "          const docLinkHtml = 'Like what you see? Visit the ' +\n",
              "            '<a target=\"_blank\" href=https://colab.research.google.com/notebooks/data_table.ipynb>data table notebook</a>'\n",
              "            + ' to learn more about interactive tables.';\n",
              "          element.innerHTML = '';\n",
              "          dataTable['output_type'] = 'display_data';\n",
              "          await google.colab.output.renderOutput(dataTable, element);\n",
              "          const docLink = document.createElement('div');\n",
              "          docLink.innerHTML = docLinkHtml;\n",
              "          element.appendChild(docLink);\n",
              "        }\n",
              "      </script>\n",
              "    </div>\n",
              "  </div>\n",
              "  "
            ]
          },
          "metadata": {},
          "execution_count": 544
        }
      ]
    },
    {
      "cell_type": "markdown",
      "source": [
        "## Limpieza de columna 'Age'\n",
        "En este caso, calcularemos el promedio de la columna 'Age' e imputaremos los valores faltantes con el promedio."
      ],
      "metadata": {
        "id": "JBWWSA5z6fET"
      }
    },
    {
      "cell_type": "code",
      "source": [
        "#realizamos una suma acumulada de todos los valores en la columna 'Age'\n",
        "numerador_prom = df['Age'].sum()\n",
        "numerador_prom"
      ],
      "metadata": {
        "colab": {
          "base_uri": "https://localhost:8080/"
        },
        "id": "YaEozGiY6sPG",
        "outputId": "a28add21-269d-4f3e-c915-633ce534a81b"
      },
      "execution_count": 545,
      "outputs": [
        {
          "output_type": "execute_result",
          "data": {
            "text/plain": [
              "239711.0"
            ]
          },
          "metadata": {},
          "execution_count": 545
        }
      ]
    },
    {
      "cell_type": "code",
      "source": [
        "#para encontrar el denominador, miraremos cuantas filas tiene el df sin valores faltantes en la columna 'Age'\n",
        "\n",
        "#asignamos una nueva df para verificar cuantas filas contiene la columna 'Age' sin valores faltantes\n",
        "\n",
        "df_age = df\n",
        "\n",
        "#eliminaremos los datos faltantes \n",
        "\n",
        "df_age = df_age.dropna(subset=['Age'])\n",
        "#encontraremos cuantas filas tiene el df_age \n",
        "\n",
        "df_age.shape"
      ],
      "metadata": {
        "colab": {
          "base_uri": "https://localhost:8080/"
        },
        "id": "d9J3y48I60oR",
        "outputId": "5d467364-2f8c-4401-fadf-8eca638758fe"
      },
      "execution_count": 546,
      "outputs": [
        {
          "output_type": "execute_result",
          "data": {
            "text/plain": [
              "(8315, 14)"
            ]
          },
          "metadata": {},
          "execution_count": 546
        }
      ]
    },
    {
      "cell_type": "code",
      "source": [
        "#automatizamos la obtención del denominador\n",
        "denominador_prom = list(df_age.shape)\n",
        "denominador_prom = denominador_prom[0]\n",
        "denominador_prom"
      ],
      "metadata": {
        "colab": {
          "base_uri": "https://localhost:8080/"
        },
        "id": "dsegmAAL9hSM",
        "outputId": "e7066775-073d-40c8-f3e6-2bd26b516ee6"
      },
      "execution_count": 547,
      "outputs": [
        {
          "output_type": "execute_result",
          "data": {
            "text/plain": [
              "8315"
            ]
          },
          "metadata": {},
          "execution_count": 547
        }
      ]
    },
    {
      "cell_type": "code",
      "source": [
        "#obtenemos el valor de la edad promedio\n",
        "edad_promedio = numerador_prom/denominador_prom\n",
        "round(edad_promedio)"
      ],
      "metadata": {
        "colab": {
          "base_uri": "https://localhost:8080/"
        },
        "id": "ceak7S0X9zY5",
        "outputId": "2aae0f07-5011-4165-c4d8-d20b4708c6d1"
      },
      "execution_count": 548,
      "outputs": [
        {
          "output_type": "execute_result",
          "data": {
            "text/plain": [
              "29"
            ]
          },
          "metadata": {},
          "execution_count": 548
        }
      ]
    },
    {
      "cell_type": "code",
      "source": [
        "#imputamos los valores en la df\n",
        "df['Age'] = df['Age'].fillna(edad_promedio)"
      ],
      "metadata": {
        "id": "qqxmsv2A9azT"
      },
      "execution_count": 549,
      "outputs": []
    },
    {
      "cell_type": "markdown",
      "source": [
        "Código para rellenar los datos faltantes inspirado de: https://programmerclick.com/article/35261195531/"
      ],
      "metadata": {
        "id": "u8_J3s8lx_wi"
      }
    },
    {
      "cell_type": "markdown",
      "source": [
        "## Limpieza columna VIP\n",
        "En este caso imputaremos los valores con False ya que la gran mayoría de datos presenta que son 'False'"
      ],
      "metadata": {
        "id": "l7gJ4vR3-fFD"
      }
    },
    {
      "cell_type": "code",
      "source": [
        "#cambiaremos los valores a tipo string ya que hay valores booleanos \n",
        "df['VIP']= df['VIP'].astype(str)"
      ],
      "metadata": {
        "id": "Xx9esqQLBrE7"
      },
      "execution_count": 550,
      "outputs": []
    },
    {
      "cell_type": "markdown",
      "source": [
        "Código para convertir todos los datos de la columna en tipo 'String' inspirado de: \n",
        "https://www.delftstack.com/es/howto/python-pandas/pandas-convert-column-values-to-string/#:~:text=Si%20queremos%20cambiar%20el%20tipo,utilizar%20el%20m%C3%A9todo%20applymap()%20.&text=Convierte%20el%20tipo%20de%20datos,por%20object%20en%20la%20salida"
      ],
      "metadata": {
        "id": "P2z3zRTNyH0y"
      }
    },
    {
      "cell_type": "code",
      "source": [
        "#verificamos que la mayoria de los valores son falsos \n",
        "a,b =np.unique(df['VIP'],return_counts = True)\n",
        "dict(zip(a,b))"
      ],
      "metadata": {
        "colab": {
          "base_uri": "https://localhost:8080/"
        },
        "id": "Hjzos7nE-0p1",
        "outputId": "3e76301a-0361-41c1-81b0-0c1308a9a73d"
      },
      "execution_count": 551,
      "outputs": [
        {
          "output_type": "execute_result",
          "data": {
            "text/plain": [
              "{'False': 8098, 'True': 194, 'nan': 200}"
            ]
          },
          "metadata": {},
          "execution_count": 551
        }
      ]
    },
    {
      "cell_type": "markdown",
      "source": [
        "Como podemos observar es una buena estrategia imputar las filas con datos faltantes con el valor de 'False' ya que constituyen más del 97% "
      ],
      "metadata": {
        "id": "u_7IdDm4Psmg"
      }
    },
    {
      "cell_type": "code",
      "source": [
        "#cambiamos los valores de 'nan' a 'False'\n",
        "for i in range (len(list(df['VIP']))):\n",
        "  if df['VIP'][i] == 'nan' :\n",
        "    df['VIP'][i] = 'False'\n"
      ],
      "metadata": {
        "colab": {
          "base_uri": "https://localhost:8080/"
        },
        "id": "sTj6aR1xBMmv",
        "outputId": "bb628e2d-8897-4594-b022-d41e44cd082d"
      },
      "execution_count": 552,
      "outputs": [
        {
          "output_type": "stream",
          "name": "stderr",
          "text": [
            "/usr/local/lib/python3.7/dist-packages/ipykernel_launcher.py:4: SettingWithCopyWarning: \n",
            "A value is trying to be set on a copy of a slice from a DataFrame\n",
            "\n",
            "See the caveats in the documentation: https://pandas.pydata.org/pandas-docs/stable/user_guide/indexing.html#returning-a-view-versus-a-copy\n",
            "  after removing the cwd from sys.path.\n"
          ]
        }
      ]
    },
    {
      "cell_type": "code",
      "source": [
        "#convertimos en variables categóricas las variables en la columna 'VIP'\n",
        "\n",
        "#Reemplazar los valores a 0s y 1s\n",
        "df['VIP'] = df['VIP'].replace('True',1)\n",
        "df['VIP'] = df['VIP'].replace('False',0)"
      ],
      "metadata": {
        "id": "7tqx6me_C_t7"
      },
      "execution_count": 553,
      "outputs": []
    },
    {
      "cell_type": "code",
      "source": [
        "#Verficamos los cambios \n",
        "\n",
        "df.head(3)"
      ],
      "metadata": {
        "colab": {
          "base_uri": "https://localhost:8080/",
          "height": 144
        },
        "id": "7qWAr0WwDZOh",
        "outputId": "56b236df-f424-4894-91d1-4a0759227019"
      },
      "execution_count": 554,
      "outputs": [
        {
          "output_type": "execute_result",
          "data": {
            "text/plain": [
              "   index PassengerId  HomePlanet CryoSleep  Destination   Age  VIP  \\\n",
              "0      0     0001_01           2     False  TRAPPIST-1e  39.0    0   \n",
              "1      1     0002_01           1     False  TRAPPIST-1e  24.0    0   \n",
              "2      2     0003_01           2     False  TRAPPIST-1e  58.0    1   \n",
              "\n",
              "   RoomService  FoodCourt  ShoppingMall     Spa  VRDeck             Name  \\\n",
              "0          0.0        0.0           0.0     0.0     0.0  Maham Ofracculy   \n",
              "1        109.0        9.0          25.0   549.0    44.0     Juanna Vines   \n",
              "2         43.0     3576.0           0.0  6715.0    49.0    Altark Susent   \n",
              "\n",
              "   Transported  \n",
              "0        False  \n",
              "1         True  \n",
              "2        False  "
            ],
            "text/html": [
              "\n",
              "  <div id=\"df-63ad0608-d5d4-4e48-9a54-9e1041f73d52\">\n",
              "    <div class=\"colab-df-container\">\n",
              "      <div>\n",
              "<style scoped>\n",
              "    .dataframe tbody tr th:only-of-type {\n",
              "        vertical-align: middle;\n",
              "    }\n",
              "\n",
              "    .dataframe tbody tr th {\n",
              "        vertical-align: top;\n",
              "    }\n",
              "\n",
              "    .dataframe thead th {\n",
              "        text-align: right;\n",
              "    }\n",
              "</style>\n",
              "<table border=\"1\" class=\"dataframe\">\n",
              "  <thead>\n",
              "    <tr style=\"text-align: right;\">\n",
              "      <th></th>\n",
              "      <th>index</th>\n",
              "      <th>PassengerId</th>\n",
              "      <th>HomePlanet</th>\n",
              "      <th>CryoSleep</th>\n",
              "      <th>Destination</th>\n",
              "      <th>Age</th>\n",
              "      <th>VIP</th>\n",
              "      <th>RoomService</th>\n",
              "      <th>FoodCourt</th>\n",
              "      <th>ShoppingMall</th>\n",
              "      <th>Spa</th>\n",
              "      <th>VRDeck</th>\n",
              "      <th>Name</th>\n",
              "      <th>Transported</th>\n",
              "    </tr>\n",
              "  </thead>\n",
              "  <tbody>\n",
              "    <tr>\n",
              "      <th>0</th>\n",
              "      <td>0</td>\n",
              "      <td>0001_01</td>\n",
              "      <td>2</td>\n",
              "      <td>False</td>\n",
              "      <td>TRAPPIST-1e</td>\n",
              "      <td>39.0</td>\n",
              "      <td>0</td>\n",
              "      <td>0.0</td>\n",
              "      <td>0.0</td>\n",
              "      <td>0.0</td>\n",
              "      <td>0.0</td>\n",
              "      <td>0.0</td>\n",
              "      <td>Maham Ofracculy</td>\n",
              "      <td>False</td>\n",
              "    </tr>\n",
              "    <tr>\n",
              "      <th>1</th>\n",
              "      <td>1</td>\n",
              "      <td>0002_01</td>\n",
              "      <td>1</td>\n",
              "      <td>False</td>\n",
              "      <td>TRAPPIST-1e</td>\n",
              "      <td>24.0</td>\n",
              "      <td>0</td>\n",
              "      <td>109.0</td>\n",
              "      <td>9.0</td>\n",
              "      <td>25.0</td>\n",
              "      <td>549.0</td>\n",
              "      <td>44.0</td>\n",
              "      <td>Juanna Vines</td>\n",
              "      <td>True</td>\n",
              "    </tr>\n",
              "    <tr>\n",
              "      <th>2</th>\n",
              "      <td>2</td>\n",
              "      <td>0003_01</td>\n",
              "      <td>2</td>\n",
              "      <td>False</td>\n",
              "      <td>TRAPPIST-1e</td>\n",
              "      <td>58.0</td>\n",
              "      <td>1</td>\n",
              "      <td>43.0</td>\n",
              "      <td>3576.0</td>\n",
              "      <td>0.0</td>\n",
              "      <td>6715.0</td>\n",
              "      <td>49.0</td>\n",
              "      <td>Altark Susent</td>\n",
              "      <td>False</td>\n",
              "    </tr>\n",
              "  </tbody>\n",
              "</table>\n",
              "</div>\n",
              "      <button class=\"colab-df-convert\" onclick=\"convertToInteractive('df-63ad0608-d5d4-4e48-9a54-9e1041f73d52')\"\n",
              "              title=\"Convert this dataframe to an interactive table.\"\n",
              "              style=\"display:none;\">\n",
              "        \n",
              "  <svg xmlns=\"http://www.w3.org/2000/svg\" height=\"24px\"viewBox=\"0 0 24 24\"\n",
              "       width=\"24px\">\n",
              "    <path d=\"M0 0h24v24H0V0z\" fill=\"none\"/>\n",
              "    <path d=\"M18.56 5.44l.94 2.06.94-2.06 2.06-.94-2.06-.94-.94-2.06-.94 2.06-2.06.94zm-11 1L8.5 8.5l.94-2.06 2.06-.94-2.06-.94L8.5 2.5l-.94 2.06-2.06.94zm10 10l.94 2.06.94-2.06 2.06-.94-2.06-.94-.94-2.06-.94 2.06-2.06.94z\"/><path d=\"M17.41 7.96l-1.37-1.37c-.4-.4-.92-.59-1.43-.59-.52 0-1.04.2-1.43.59L10.3 9.45l-7.72 7.72c-.78.78-.78 2.05 0 2.83L4 21.41c.39.39.9.59 1.41.59.51 0 1.02-.2 1.41-.59l7.78-7.78 2.81-2.81c.8-.78.8-2.07 0-2.86zM5.41 20L4 18.59l7.72-7.72 1.47 1.35L5.41 20z\"/>\n",
              "  </svg>\n",
              "      </button>\n",
              "      \n",
              "  <style>\n",
              "    .colab-df-container {\n",
              "      display:flex;\n",
              "      flex-wrap:wrap;\n",
              "      gap: 12px;\n",
              "    }\n",
              "\n",
              "    .colab-df-convert {\n",
              "      background-color: #E8F0FE;\n",
              "      border: none;\n",
              "      border-radius: 50%;\n",
              "      cursor: pointer;\n",
              "      display: none;\n",
              "      fill: #1967D2;\n",
              "      height: 32px;\n",
              "      padding: 0 0 0 0;\n",
              "      width: 32px;\n",
              "    }\n",
              "\n",
              "    .colab-df-convert:hover {\n",
              "      background-color: #E2EBFA;\n",
              "      box-shadow: 0px 1px 2px rgba(60, 64, 67, 0.3), 0px 1px 3px 1px rgba(60, 64, 67, 0.15);\n",
              "      fill: #174EA6;\n",
              "    }\n",
              "\n",
              "    [theme=dark] .colab-df-convert {\n",
              "      background-color: #3B4455;\n",
              "      fill: #D2E3FC;\n",
              "    }\n",
              "\n",
              "    [theme=dark] .colab-df-convert:hover {\n",
              "      background-color: #434B5C;\n",
              "      box-shadow: 0px 1px 3px 1px rgba(0, 0, 0, 0.15);\n",
              "      filter: drop-shadow(0px 1px 2px rgba(0, 0, 0, 0.3));\n",
              "      fill: #FFFFFF;\n",
              "    }\n",
              "  </style>\n",
              "\n",
              "      <script>\n",
              "        const buttonEl =\n",
              "          document.querySelector('#df-63ad0608-d5d4-4e48-9a54-9e1041f73d52 button.colab-df-convert');\n",
              "        buttonEl.style.display =\n",
              "          google.colab.kernel.accessAllowed ? 'block' : 'none';\n",
              "\n",
              "        async function convertToInteractive(key) {\n",
              "          const element = document.querySelector('#df-63ad0608-d5d4-4e48-9a54-9e1041f73d52');\n",
              "          const dataTable =\n",
              "            await google.colab.kernel.invokeFunction('convertToInteractive',\n",
              "                                                     [key], {});\n",
              "          if (!dataTable) return;\n",
              "\n",
              "          const docLinkHtml = 'Like what you see? Visit the ' +\n",
              "            '<a target=\"_blank\" href=https://colab.research.google.com/notebooks/data_table.ipynb>data table notebook</a>'\n",
              "            + ' to learn more about interactive tables.';\n",
              "          element.innerHTML = '';\n",
              "          dataTable['output_type'] = 'display_data';\n",
              "          await google.colab.output.renderOutput(dataTable, element);\n",
              "          const docLink = document.createElement('div');\n",
              "          docLink.innerHTML = docLinkHtml;\n",
              "          element.appendChild(docLink);\n",
              "        }\n",
              "      </script>\n",
              "    </div>\n",
              "  </div>\n",
              "  "
            ]
          },
          "metadata": {},
          "execution_count": 554
        }
      ]
    },
    {
      "cell_type": "markdown",
      "source": [
        "## Limpieza columnas 'RoomService' , 'FoodCourt' , 'ShppingMall' y otras.\n",
        "\n",
        "En este caso miraremos que columnas contienen una correlación positiva con nuestro vector objetivo \"Transported\"\n",
        "\n",
        "\n"
      ],
      "metadata": {
        "id": "DMfxssLADpy2"
      }
    },
    {
      "cell_type": "code",
      "source": [
        "#matriz de correlación\n",
        "corr = df.corr()\n",
        "corr_cols = corr['Transported'].sort_values(ascending = False).head(10).index\n",
        "corr_Transported = df[corr_cols].corr()\n",
        "plt.subplots(figsize = (20, 20))\n",
        "sns.heatmap(corr_Transported, annot = True)"
      ],
      "metadata": {
        "colab": {
          "base_uri": "https://localhost:8080/",
          "height": 1000
        },
        "id": "7AfURpeuDn6H",
        "outputId": "b5456029-b4c3-4e14-b968-6cca758340e9"
      },
      "execution_count": 555,
      "outputs": [
        {
          "output_type": "execute_result",
          "data": {
            "text/plain": [
              "<matplotlib.axes._subplots.AxesSubplot at 0x7f02a1360090>"
            ]
          },
          "metadata": {},
          "execution_count": 555
        },
        {
          "output_type": "display_data",
          "data": {
            "text/plain": [
              "<Figure size 1440x1440 with 2 Axes>"
            ],
            "image/png": "[encoded data removed]"
          },
          "metadata": {
            "needs_background": "light"
          }
        }
      ]
    },
    {
      "cell_type": "markdown",
      "source": [
        "Como no tienen una alta correlación negativa se mantienen las variables y eliminamos las filas con datos faltantes de diferentes columnas "
      ],
      "metadata": {
        "id": "SvTEy8UfRaGL"
      }
    },
    {
      "cell_type": "code",
      "source": [
        "#asignamos una lista con los nombres de las columnas que eliminaremos \n",
        "\n",
        "lista_columns_drop = ['CryoSleep','RoomService','FoodCourt','ShoppingMall','Spa','VRDeck']\n",
        "#Eliminamos datos faltantes columna 'CryoSleep'\n",
        "df = df.dropna(subset=lista_columns_drop)"
      ],
      "metadata": {
        "id": "m8gRrBJ5EgEb"
      },
      "execution_count": 556,
      "outputs": []
    },
    {
      "cell_type": "code",
      "source": [
        "#verificamos si se eliminaron completamente los datos faltantes\n",
        "df.isnull().sum()"
      ],
      "metadata": {
        "colab": {
          "base_uri": "https://localhost:8080/"
        },
        "id": "iMYqhLCTFGrW",
        "outputId": "4c4c09da-14fc-49a4-8fed-f738ba611289"
      },
      "execution_count": 557,
      "outputs": [
        {
          "output_type": "execute_result",
          "data": {
            "text/plain": [
              "index             0\n",
              "PassengerId       0\n",
              "HomePlanet        0\n",
              "CryoSleep         0\n",
              "Destination     156\n",
              "Age               0\n",
              "VIP               0\n",
              "RoomService       0\n",
              "FoodCourt         0\n",
              "ShoppingMall      0\n",
              "Spa               0\n",
              "VRDeck            0\n",
              "Name            166\n",
              "Transported       0\n",
              "dtype: int64"
            ]
          },
          "metadata": {},
          "execution_count": 557
        }
      ]
    },
    {
      "cell_type": "markdown",
      "source": [
        "##Limpieza columna destination\n",
        "\n",
        "En este caso aplicaremos un proceso similar al de la columna 'HomePlanet' que se realizó previamente"
      ],
      "metadata": {
        "id": "0kUqKiRrGZHi"
      }
    },
    {
      "cell_type": "code",
      "source": [
        "#Llenamos los valores faltantes con un valor tipo str para poder verificar cuantos valores faltantes hay\n",
        "df['Destination'] = df['Destination'].fillna('Valor_faltante')"
      ],
      "metadata": {
        "id": "lSoxPKFWR_Du",
        "colab": {
          "base_uri": "https://localhost:8080/"
        },
        "outputId": "a2784644-f1d7-4f3b-d2fb-4097dbc3f7be"
      },
      "execution_count": 558,
      "outputs": [
        {
          "output_type": "stream",
          "name": "stderr",
          "text": [
            "/usr/local/lib/python3.7/dist-packages/ipykernel_launcher.py:2: SettingWithCopyWarning: \n",
            "A value is trying to be set on a copy of a slice from a DataFrame.\n",
            "Try using .loc[row_indexer,col_indexer] = value instead\n",
            "\n",
            "See the caveats in the documentation: https://pandas.pydata.org/pandas-docs/stable/user_guide/indexing.html#returning-a-view-versus-a-copy\n",
            "  \n"
          ]
        }
      ]
    },
    {
      "cell_type": "code",
      "source": [
        "#Verificamos que y cuantos tipos de valores hay en la columna 'Destination'\n",
        "a,b =np.unique(df['Destination'],return_counts = True)\n",
        "dict(zip(a,b))"
      ],
      "metadata": {
        "colab": {
          "base_uri": "https://localhost:8080/"
        },
        "id": "qqALuhcCRmC1",
        "outputId": "6b5102df-b56f-4071-ecc1-7f6dd8171750"
      },
      "execution_count": 559,
      "outputs": [
        {
          "output_type": "execute_result",
          "data": {
            "text/plain": [
              "{'55 Cancri e': 1547,\n",
              " 'PSO J318.5-22': 686,\n",
              " 'TRAPPIST-1e': 5022,\n",
              " 'Valor_faltante': 156}"
            ]
          },
          "metadata": {},
          "execution_count": 559
        }
      ]
    },
    {
      "cell_type": "code",
      "source": [
        "#Buscamos las filas que necesitamos eliminar ya que contienen la cadena 'Valor_faltante'\n",
        "\n",
        "buscador_valor_faltante_2 = df[df['Destination'] == 'Valor_faltante'].index\n",
        "\n",
        "#eliminamos las filas según los índices\n",
        "\n",
        "df = df.drop(buscador_valor_faltante_2)\n"
      ],
      "metadata": {
        "id": "PR7huZGOS9zP"
      },
      "execution_count": 560,
      "outputs": []
    },
    {
      "cell_type": "code",
      "source": [
        "#Reemplazamos los datos a variables categóricas\n",
        "\n",
        "df['Destination'] = df['Destination'].replace('55 Cancri e',1)\n",
        "df['Destination'] = df['Destination'].replace('PSO J318.5-22',0)\n",
        "df['Destination'] = df['Destination'].replace('TRAPPIST-1e',2)\n"
      ],
      "metadata": {
        "id": "walGqzNrShmP"
      },
      "execution_count": 561,
      "outputs": []
    },
    {
      "cell_type": "code",
      "source": [
        "#verificamos los cambios \n",
        "df['Destination'].unique()"
      ],
      "metadata": {
        "colab": {
          "base_uri": "https://localhost:8080/"
        },
        "id": "Qf9IqK1ESv1m",
        "outputId": "5eb34be5-e4a6-4468-dafc-3ab6514ca2f8"
      },
      "execution_count": 562,
      "outputs": [
        {
          "output_type": "execute_result",
          "data": {
            "text/plain": [
              "array([2, 0, 1])"
            ]
          },
          "metadata": {},
          "execution_count": 562
        }
      ]
    },
    {
      "cell_type": "code",
      "source": [
        "#reseteamos los índices\n",
        "df.reset_index(inplace=True, drop=False)"
      ],
      "metadata": {
        "id": "DPdpjS_ETTWB"
      },
      "execution_count": 563,
      "outputs": []
    },
    {
      "cell_type": "markdown",
      "source": [
        "## Convertir a variables dummies los datos en la columna 'CryOsleep'"
      ],
      "metadata": {
        "id": "8KSpC03WHBmn"
      }
    },
    {
      "cell_type": "code",
      "source": [
        "df.head(1) #los datos están entre 'True' y 'False'"
      ],
      "metadata": {
        "colab": {
          "base_uri": "https://localhost:8080/",
          "height": 81
        },
        "id": "400hBga-HUUH",
        "outputId": "9e99a635-487c-413b-9286-4b67e5afe094"
      },
      "execution_count": 564,
      "outputs": [
        {
          "output_type": "execute_result",
          "data": {
            "text/plain": [
              "   level_0  index PassengerId  HomePlanet CryoSleep  Destination   Age  VIP  \\\n",
              "0        0      0     0001_01           2     False            2  39.0    0   \n",
              "\n",
              "   RoomService  FoodCourt  ShoppingMall  Spa  VRDeck             Name  \\\n",
              "0          0.0        0.0           0.0  0.0     0.0  Maham Ofracculy   \n",
              "\n",
              "   Transported  \n",
              "0        False  "
            ],
            "text/html": [
              "\n",
              "  <div id=\"df-da23b5c8-f434-4a8c-9b61-31e36b671650\">\n",
              "    <div class=\"colab-df-container\">\n",
              "      <div>\n",
              "<style scoped>\n",
              "    .dataframe tbody tr th:only-of-type {\n",
              "        vertical-align: middle;\n",
              "    }\n",
              "\n",
              "    .dataframe tbody tr th {\n",
              "        vertical-align: top;\n",
              "    }\n",
              "\n",
              "    .dataframe thead th {\n",
              "        text-align: right;\n",
              "    }\n",
              "</style>\n",
              "<table border=\"1\" class=\"dataframe\">\n",
              "  <thead>\n",
              "    <tr style=\"text-align: right;\">\n",
              "      <th></th>\n",
              "      <th>level_0</th>\n",
              "      <th>index</th>\n",
              "      <th>PassengerId</th>\n",
              "      <th>HomePlanet</th>\n",
              "      <th>CryoSleep</th>\n",
              "      <th>Destination</th>\n",
              "      <th>Age</th>\n",
              "      <th>VIP</th>\n",
              "      <th>RoomService</th>\n",
              "      <th>FoodCourt</th>\n",
              "      <th>ShoppingMall</th>\n",
              "      <th>Spa</th>\n",
              "      <th>VRDeck</th>\n",
              "      <th>Name</th>\n",
              "      <th>Transported</th>\n",
              "    </tr>\n",
              "  </thead>\n",
              "  <tbody>\n",
              "    <tr>\n",
              "      <th>0</th>\n",
              "      <td>0</td>\n",
              "      <td>0</td>\n",
              "      <td>0001_01</td>\n",
              "      <td>2</td>\n",
              "      <td>False</td>\n",
              "      <td>2</td>\n",
              "      <td>39.0</td>\n",
              "      <td>0</td>\n",
              "      <td>0.0</td>\n",
              "      <td>0.0</td>\n",
              "      <td>0.0</td>\n",
              "      <td>0.0</td>\n",
              "      <td>0.0</td>\n",
              "      <td>Maham Ofracculy</td>\n",
              "      <td>False</td>\n",
              "    </tr>\n",
              "  </tbody>\n",
              "</table>\n",
              "</div>\n",
              "      <button class=\"colab-df-convert\" onclick=\"convertToInteractive('df-da23b5c8-f434-4a8c-9b61-31e36b671650')\"\n",
              "              title=\"Convert this dataframe to an interactive table.\"\n",
              "              style=\"display:none;\">\n",
              "        \n",
              "  <svg xmlns=\"http://www.w3.org/2000/svg\" height=\"24px\"viewBox=\"0 0 24 24\"\n",
              "       width=\"24px\">\n",
              "    <path d=\"M0 0h24v24H0V0z\" fill=\"none\"/>\n",
              "    <path d=\"M18.56 5.44l.94 2.06.94-2.06 2.06-.94-2.06-.94-.94-2.06-.94 2.06-2.06.94zm-11 1L8.5 8.5l.94-2.06 2.06-.94-2.06-.94L8.5 2.5l-.94 2.06-2.06.94zm10 10l.94 2.06.94-2.06 2.06-.94-2.06-.94-.94-2.06-.94 2.06-2.06.94z\"/><path d=\"M17.41 7.96l-1.37-1.37c-.4-.4-.92-.59-1.43-.59-.52 0-1.04.2-1.43.59L10.3 9.45l-7.72 7.72c-.78.78-.78 2.05 0 2.83L4 21.41c.39.39.9.59 1.41.59.51 0 1.02-.2 1.41-.59l7.78-7.78 2.81-2.81c.8-.78.8-2.07 0-2.86zM5.41 20L4 18.59l7.72-7.72 1.47 1.35L5.41 20z\"/>\n",
              "  </svg>\n",
              "      </button>\n",
              "      \n",
              "  <style>\n",
              "    .colab-df-container {\n",
              "      display:flex;\n",
              "      flex-wrap:wrap;\n",
              "      gap: 12px;\n",
              "    }\n",
              "\n",
              "    .colab-df-convert {\n",
              "      background-color: #E8F0FE;\n",
              "      border: none;\n",
              "      border-radius: 50%;\n",
              "      cursor: pointer;\n",
              "      display: none;\n",
              "      fill: #1967D2;\n",
              "      height: 32px;\n",
              "      padding: 0 0 0 0;\n",
              "      width: 32px;\n",
              "    }\n",
              "\n",
              "    .colab-df-convert:hover {\n",
              "      background-color: #E2EBFA;\n",
              "      box-shadow: 0px 1px 2px rgba(60, 64, 67, 0.3), 0px 1px 3px 1px rgba(60, 64, 67, 0.15);\n",
              "      fill: #174EA6;\n",
              "    }\n",
              "\n",
              "    [theme=dark] .colab-df-convert {\n",
              "      background-color: #3B4455;\n",
              "      fill: #D2E3FC;\n",
              "    }\n",
              "\n",
              "    [theme=dark] .colab-df-convert:hover {\n",
              "      background-color: #434B5C;\n",
              "      box-shadow: 0px 1px 3px 1px rgba(0, 0, 0, 0.15);\n",
              "      filter: drop-shadow(0px 1px 2px rgba(0, 0, 0, 0.3));\n",
              "      fill: #FFFFFF;\n",
              "    }\n",
              "  </style>\n",
              "\n",
              "      <script>\n",
              "        const buttonEl =\n",
              "          document.querySelector('#df-da23b5c8-f434-4a8c-9b61-31e36b671650 button.colab-df-convert');\n",
              "        buttonEl.style.display =\n",
              "          google.colab.kernel.accessAllowed ? 'block' : 'none';\n",
              "\n",
              "        async function convertToInteractive(key) {\n",
              "          const element = document.querySelector('#df-da23b5c8-f434-4a8c-9b61-31e36b671650');\n",
              "          const dataTable =\n",
              "            await google.colab.kernel.invokeFunction('convertToInteractive',\n",
              "                                                     [key], {});\n",
              "          if (!dataTable) return;\n",
              "\n",
              "          const docLinkHtml = 'Like what you see? Visit the ' +\n",
              "            '<a target=\"_blank\" href=https://colab.research.google.com/notebooks/data_table.ipynb>data table notebook</a>'\n",
              "            + ' to learn more about interactive tables.';\n",
              "          element.innerHTML = '';\n",
              "          dataTable['output_type'] = 'display_data';\n",
              "          await google.colab.output.renderOutput(dataTable, element);\n",
              "          const docLink = document.createElement('div');\n",
              "          docLink.innerHTML = docLinkHtml;\n",
              "          element.appendChild(docLink);\n",
              "        }\n",
              "      </script>\n",
              "    </div>\n",
              "  </div>\n",
              "  "
            ]
          },
          "metadata": {},
          "execution_count": 564
        }
      ]
    },
    {
      "cell_type": "code",
      "source": [
        "#Reemplazar los valores a 0s y 1s en la columna 'CryoSleep'\n",
        "df['CryoSleep'] = df['CryoSleep'].replace(True,1)\n",
        "df['CryoSleep'] = df['CryoSleep'].replace(False,0)"
      ],
      "metadata": {
        "id": "IviMtir5HYl7"
      },
      "execution_count": 565,
      "outputs": []
    },
    {
      "cell_type": "code",
      "source": [
        "df.head()"
      ],
      "metadata": {
        "colab": {
          "base_uri": "https://localhost:8080/",
          "height": 206
        },
        "id": "5mO4i2RKHhG3",
        "outputId": "35bffddd-d4c4-484d-da8d-daa62ee7ae48"
      },
      "execution_count": 566,
      "outputs": [
        {
          "output_type": "execute_result",
          "data": {
            "text/plain": [
              "   level_0  index PassengerId  HomePlanet  CryoSleep  Destination   Age  VIP  \\\n",
              "0        0      0     0001_01           2          0            2  39.0    0   \n",
              "1        1      1     0002_01           1          0            2  24.0    0   \n",
              "2        2      2     0003_01           2          0            2  58.0    1   \n",
              "3        3      3     0003_02           2          0            2  33.0    0   \n",
              "4        4      4     0004_01           1          0            2  16.0    0   \n",
              "\n",
              "   RoomService  FoodCourt  ShoppingMall     Spa  VRDeck               Name  \\\n",
              "0          0.0        0.0           0.0     0.0     0.0    Maham Ofracculy   \n",
              "1        109.0        9.0          25.0   549.0    44.0       Juanna Vines   \n",
              "2         43.0     3576.0           0.0  6715.0    49.0      Altark Susent   \n",
              "3          0.0     1283.0         371.0  3329.0   193.0       Solam Susent   \n",
              "4        303.0       70.0         151.0   565.0     2.0  Willy Santantines   \n",
              "\n",
              "   Transported  \n",
              "0        False  \n",
              "1         True  \n",
              "2        False  \n",
              "3        False  \n",
              "4         True  "
            ],
            "text/html": [
              "\n",
              "  <div id=\"df-ff06068e-29fa-4573-8e74-cac2c6da87a6\">\n",
              "    <div class=\"colab-df-container\">\n",
              "      <div>\n",
              "<style scoped>\n",
              "    .dataframe tbody tr th:only-of-type {\n",
              "        vertical-align: middle;\n",
              "    }\n",
              "\n",
              "    .dataframe tbody tr th {\n",
              "        vertical-align: top;\n",
              "    }\n",
              "\n",
              "    .dataframe thead th {\n",
              "        text-align: right;\n",
              "    }\n",
              "</style>\n",
              "<table border=\"1\" class=\"dataframe\">\n",
              "  <thead>\n",
              "    <tr style=\"text-align: right;\">\n",
              "      <th></th>\n",
              "      <th>level_0</th>\n",
              "      <th>index</th>\n",
              "      <th>PassengerId</th>\n",
              "      <th>HomePlanet</th>\n",
              "      <th>CryoSleep</th>\n",
              "      <th>Destination</th>\n",
              "      <th>Age</th>\n",
              "      <th>VIP</th>\n",
              "      <th>RoomService</th>\n",
              "      <th>FoodCourt</th>\n",
              "      <th>ShoppingMall</th>\n",
              "      <th>Spa</th>\n",
              "      <th>VRDeck</th>\n",
              "      <th>Name</th>\n",
              "      <th>Transported</th>\n",
              "    </tr>\n",
              "  </thead>\n",
              "  <tbody>\n",
              "    <tr>\n",
              "      <th>0</th>\n",
              "      <td>0</td>\n",
              "      <td>0</td>\n",
              "      <td>0001_01</td>\n",
              "      <td>2</td>\n",
              "      <td>0</td>\n",
              "      <td>2</td>\n",
              "      <td>39.0</td>\n",
              "      <td>0</td>\n",
              "      <td>0.0</td>\n",
              "      <td>0.0</td>\n",
              "      <td>0.0</td>\n",
              "      <td>0.0</td>\n",
              "      <td>0.0</td>\n",
              "      <td>Maham Ofracculy</td>\n",
              "      <td>False</td>\n",
              "    </tr>\n",
              "    <tr>\n",
              "      <th>1</th>\n",
              "      <td>1</td>\n",
              "      <td>1</td>\n",
              "      <td>0002_01</td>\n",
              "      <td>1</td>\n",
              "      <td>0</td>\n",
              "      <td>2</td>\n",
              "      <td>24.0</td>\n",
              "      <td>0</td>\n",
              "      <td>109.0</td>\n",
              "      <td>9.0</td>\n",
              "      <td>25.0</td>\n",
              "      <td>549.0</td>\n",
              "      <td>44.0</td>\n",
              "      <td>Juanna Vines</td>\n",
              "      <td>True</td>\n",
              "    </tr>\n",
              "    <tr>\n",
              "      <th>2</th>\n",
              "      <td>2</td>\n",
              "      <td>2</td>\n",
              "      <td>0003_01</td>\n",
              "      <td>2</td>\n",
              "      <td>0</td>\n",
              "      <td>2</td>\n",
              "      <td>58.0</td>\n",
              "      <td>1</td>\n",
              "      <td>43.0</td>\n",
              "      <td>3576.0</td>\n",
              "      <td>0.0</td>\n",
              "      <td>6715.0</td>\n",
              "      <td>49.0</td>\n",
              "      <td>Altark Susent</td>\n",
              "      <td>False</td>\n",
              "    </tr>\n",
              "    <tr>\n",
              "      <th>3</th>\n",
              "      <td>3</td>\n",
              "      <td>3</td>\n",
              "      <td>0003_02</td>\n",
              "      <td>2</td>\n",
              "      <td>0</td>\n",
              "      <td>2</td>\n",
              "      <td>33.0</td>\n",
              "      <td>0</td>\n",
              "      <td>0.0</td>\n",
              "      <td>1283.0</td>\n",
              "      <td>371.0</td>\n",
              "      <td>3329.0</td>\n",
              "      <td>193.0</td>\n",
              "      <td>Solam Susent</td>\n",
              "      <td>False</td>\n",
              "    </tr>\n",
              "    <tr>\n",
              "      <th>4</th>\n",
              "      <td>4</td>\n",
              "      <td>4</td>\n",
              "      <td>0004_01</td>\n",
              "      <td>1</td>\n",
              "      <td>0</td>\n",
              "      <td>2</td>\n",
              "      <td>16.0</td>\n",
              "      <td>0</td>\n",
              "      <td>303.0</td>\n",
              "      <td>70.0</td>\n",
              "      <td>151.0</td>\n",
              "      <td>565.0</td>\n",
              "      <td>2.0</td>\n",
              "      <td>Willy Santantines</td>\n",
              "      <td>True</td>\n",
              "    </tr>\n",
              "  </tbody>\n",
              "</table>\n",
              "</div>\n",
              "      <button class=\"colab-df-convert\" onclick=\"convertToInteractive('df-ff06068e-29fa-4573-8e74-cac2c6da87a6')\"\n",
              "              title=\"Convert this dataframe to an interactive table.\"\n",
              "              style=\"display:none;\">\n",
              "        \n",
              "  <svg xmlns=\"http://www.w3.org/2000/svg\" height=\"24px\"viewBox=\"0 0 24 24\"\n",
              "       width=\"24px\">\n",
              "    <path d=\"M0 0h24v24H0V0z\" fill=\"none\"/>\n",
              "    <path d=\"M18.56 5.44l.94 2.06.94-2.06 2.06-.94-2.06-.94-.94-2.06-.94 2.06-2.06.94zm-11 1L8.5 8.5l.94-2.06 2.06-.94-2.06-.94L8.5 2.5l-.94 2.06-2.06.94zm10 10l.94 2.06.94-2.06 2.06-.94-2.06-.94-.94-2.06-.94 2.06-2.06.94z\"/><path d=\"M17.41 7.96l-1.37-1.37c-.4-.4-.92-.59-1.43-.59-.52 0-1.04.2-1.43.59L10.3 9.45l-7.72 7.72c-.78.78-.78 2.05 0 2.83L4 21.41c.39.39.9.59 1.41.59.51 0 1.02-.2 1.41-.59l7.78-7.78 2.81-2.81c.8-.78.8-2.07 0-2.86zM5.41 20L4 18.59l7.72-7.72 1.47 1.35L5.41 20z\"/>\n",
              "  </svg>\n",
              "      </button>\n",
              "      \n",
              "  <style>\n",
              "    .colab-df-container {\n",
              "      display:flex;\n",
              "      flex-wrap:wrap;\n",
              "      gap: 12px;\n",
              "    }\n",
              "\n",
              "    .colab-df-convert {\n",
              "      background-color: #E8F0FE;\n",
              "      border: none;\n",
              "      border-radius: 50%;\n",
              "      cursor: pointer;\n",
              "      display: none;\n",
              "      fill: #1967D2;\n",
              "      height: 32px;\n",
              "      padding: 0 0 0 0;\n",
              "      width: 32px;\n",
              "    }\n",
              "\n",
              "    .colab-df-convert:hover {\n",
              "      background-color: #E2EBFA;\n",
              "      box-shadow: 0px 1px 2px rgba(60, 64, 67, 0.3), 0px 1px 3px 1px rgba(60, 64, 67, 0.15);\n",
              "      fill: #174EA6;\n",
              "    }\n",
              "\n",
              "    [theme=dark] .colab-df-convert {\n",
              "      background-color: #3B4455;\n",
              "      fill: #D2E3FC;\n",
              "    }\n",
              "\n",
              "    [theme=dark] .colab-df-convert:hover {\n",
              "      background-color: #434B5C;\n",
              "      box-shadow: 0px 1px 3px 1px rgba(0, 0, 0, 0.15);\n",
              "      filter: drop-shadow(0px 1px 2px rgba(0, 0, 0, 0.3));\n",
              "      fill: #FFFFFF;\n",
              "    }\n",
              "  </style>\n",
              "\n",
              "      <script>\n",
              "        const buttonEl =\n",
              "          document.querySelector('#df-ff06068e-29fa-4573-8e74-cac2c6da87a6 button.colab-df-convert');\n",
              "        buttonEl.style.display =\n",
              "          google.colab.kernel.accessAllowed ? 'block' : 'none';\n",
              "\n",
              "        async function convertToInteractive(key) {\n",
              "          const element = document.querySelector('#df-ff06068e-29fa-4573-8e74-cac2c6da87a6');\n",
              "          const dataTable =\n",
              "            await google.colab.kernel.invokeFunction('convertToInteractive',\n",
              "                                                     [key], {});\n",
              "          if (!dataTable) return;\n",
              "\n",
              "          const docLinkHtml = 'Like what you see? Visit the ' +\n",
              "            '<a target=\"_blank\" href=https://colab.research.google.com/notebooks/data_table.ipynb>data table notebook</a>'\n",
              "            + ' to learn more about interactive tables.';\n",
              "          element.innerHTML = '';\n",
              "          dataTable['output_type'] = 'display_data';\n",
              "          await google.colab.output.renderOutput(dataTable, element);\n",
              "          const docLink = document.createElement('div');\n",
              "          docLink.innerHTML = docLinkHtml;\n",
              "          element.appendChild(docLink);\n",
              "        }\n",
              "      </script>\n",
              "    </div>\n",
              "  </div>\n",
              "  "
            ]
          },
          "metadata": {},
          "execution_count": 566
        }
      ]
    },
    {
      "cell_type": "markdown",
      "source": [
        "## Convertir a variables dummies la columna vector objetivo 'Transported'\n",
        "\n",
        "Este proceso se realiza para que sea más interpretable para el modelo de predicción "
      ],
      "metadata": {
        "id": "IS6S8HenH09O"
      }
    },
    {
      "cell_type": "code",
      "source": [
        "#Reemplazar los valores a 0s y 1s en la columna 'Transported'\n",
        "df['Transported'] = df['Transported'].replace(True,1)\n",
        "df['Transported'] = df['Transported'].replace(False,0)"
      ],
      "metadata": {
        "id": "ak5_EhykH9zm"
      },
      "execution_count": 567,
      "outputs": []
    },
    {
      "cell_type": "code",
      "source": [
        "df.head() #verificamos los cambios"
      ],
      "metadata": {
        "colab": {
          "base_uri": "https://localhost:8080/",
          "height": 206
        },
        "id": "ak2J3X6aIIeR",
        "outputId": "75309c50-75da-4866-ad58-ee8450301aed"
      },
      "execution_count": 568,
      "outputs": [
        {
          "output_type": "execute_result",
          "data": {
            "text/plain": [
              "   level_0  index PassengerId  HomePlanet  CryoSleep  Destination   Age  VIP  \\\n",
              "0        0      0     0001_01           2          0            2  39.0    0   \n",
              "1        1      1     0002_01           1          0            2  24.0    0   \n",
              "2        2      2     0003_01           2          0            2  58.0    1   \n",
              "3        3      3     0003_02           2          0            2  33.0    0   \n",
              "4        4      4     0004_01           1          0            2  16.0    0   \n",
              "\n",
              "   RoomService  FoodCourt  ShoppingMall     Spa  VRDeck               Name  \\\n",
              "0          0.0        0.0           0.0     0.0     0.0    Maham Ofracculy   \n",
              "1        109.0        9.0          25.0   549.0    44.0       Juanna Vines   \n",
              "2         43.0     3576.0           0.0  6715.0    49.0      Altark Susent   \n",
              "3          0.0     1283.0         371.0  3329.0   193.0       Solam Susent   \n",
              "4        303.0       70.0         151.0   565.0     2.0  Willy Santantines   \n",
              "\n",
              "   Transported  \n",
              "0            0  \n",
              "1            1  \n",
              "2            0  \n",
              "3            0  \n",
              "4            1  "
            ],
            "text/html": [
              "\n",
              "  <div id=\"df-50d4a95f-71b6-4303-88ef-61c891a0e3f2\">\n",
              "    <div class=\"colab-df-container\">\n",
              "      <div>\n",
              "<style scoped>\n",
              "    .dataframe tbody tr th:only-of-type {\n",
              "        vertical-align: middle;\n",
              "    }\n",
              "\n",
              "    .dataframe tbody tr th {\n",
              "        vertical-align: top;\n",
              "    }\n",
              "\n",
              "    .dataframe thead th {\n",
              "        text-align: right;\n",
              "    }\n",
              "</style>\n",
              "<table border=\"1\" class=\"dataframe\">\n",
              "  <thead>\n",
              "    <tr style=\"text-align: right;\">\n",
              "      <th></th>\n",
              "      <th>level_0</th>\n",
              "      <th>index</th>\n",
              "      <th>PassengerId</th>\n",
              "      <th>HomePlanet</th>\n",
              "      <th>CryoSleep</th>\n",
              "      <th>Destination</th>\n",
              "      <th>Age</th>\n",
              "      <th>VIP</th>\n",
              "      <th>RoomService</th>\n",
              "      <th>FoodCourt</th>\n",
              "      <th>ShoppingMall</th>\n",
              "      <th>Spa</th>\n",
              "      <th>VRDeck</th>\n",
              "      <th>Name</th>\n",
              "      <th>Transported</th>\n",
              "    </tr>\n",
              "  </thead>\n",
              "  <tbody>\n",
              "    <tr>\n",
              "      <th>0</th>\n",
              "      <td>0</td>\n",
              "      <td>0</td>\n",
              "      <td>0001_01</td>\n",
              "      <td>2</td>\n",
              "      <td>0</td>\n",
              "      <td>2</td>\n",
              "      <td>39.0</td>\n",
              "      <td>0</td>\n",
              "      <td>0.0</td>\n",
              "      <td>0.0</td>\n",
              "      <td>0.0</td>\n",
              "      <td>0.0</td>\n",
              "      <td>0.0</td>\n",
              "      <td>Maham Ofracculy</td>\n",
              "      <td>0</td>\n",
              "    </tr>\n",
              "    <tr>\n",
              "      <th>1</th>\n",
              "      <td>1</td>\n",
              "      <td>1</td>\n",
              "      <td>0002_01</td>\n",
              "      <td>1</td>\n",
              "      <td>0</td>\n",
              "      <td>2</td>\n",
              "      <td>24.0</td>\n",
              "      <td>0</td>\n",
              "      <td>109.0</td>\n",
              "      <td>9.0</td>\n",
              "      <td>25.0</td>\n",
              "      <td>549.0</td>\n",
              "      <td>44.0</td>\n",
              "      <td>Juanna Vines</td>\n",
              "      <td>1</td>\n",
              "    </tr>\n",
              "    <tr>\n",
              "      <th>2</th>\n",
              "      <td>2</td>\n",
              "      <td>2</td>\n",
              "      <td>0003_01</td>\n",
              "      <td>2</td>\n",
              "      <td>0</td>\n",
              "      <td>2</td>\n",
              "      <td>58.0</td>\n",
              "      <td>1</td>\n",
              "      <td>43.0</td>\n",
              "      <td>3576.0</td>\n",
              "      <td>0.0</td>\n",
              "      <td>6715.0</td>\n",
              "      <td>49.0</td>\n",
              "      <td>Altark Susent</td>\n",
              "      <td>0</td>\n",
              "    </tr>\n",
              "    <tr>\n",
              "      <th>3</th>\n",
              "      <td>3</td>\n",
              "      <td>3</td>\n",
              "      <td>0003_02</td>\n",
              "      <td>2</td>\n",
              "      <td>0</td>\n",
              "      <td>2</td>\n",
              "      <td>33.0</td>\n",
              "      <td>0</td>\n",
              "      <td>0.0</td>\n",
              "      <td>1283.0</td>\n",
              "      <td>371.0</td>\n",
              "      <td>3329.0</td>\n",
              "      <td>193.0</td>\n",
              "      <td>Solam Susent</td>\n",
              "      <td>0</td>\n",
              "    </tr>\n",
              "    <tr>\n",
              "      <th>4</th>\n",
              "      <td>4</td>\n",
              "      <td>4</td>\n",
              "      <td>0004_01</td>\n",
              "      <td>1</td>\n",
              "      <td>0</td>\n",
              "      <td>2</td>\n",
              "      <td>16.0</td>\n",
              "      <td>0</td>\n",
              "      <td>303.0</td>\n",
              "      <td>70.0</td>\n",
              "      <td>151.0</td>\n",
              "      <td>565.0</td>\n",
              "      <td>2.0</td>\n",
              "      <td>Willy Santantines</td>\n",
              "      <td>1</td>\n",
              "    </tr>\n",
              "  </tbody>\n",
              "</table>\n",
              "</div>\n",
              "      <button class=\"colab-df-convert\" onclick=\"convertToInteractive('df-50d4a95f-71b6-4303-88ef-61c891a0e3f2')\"\n",
              "              title=\"Convert this dataframe to an interactive table.\"\n",
              "              style=\"display:none;\">\n",
              "        \n",
              "  <svg xmlns=\"http://www.w3.org/2000/svg\" height=\"24px\"viewBox=\"0 0 24 24\"\n",
              "       width=\"24px\">\n",
              "    <path d=\"M0 0h24v24H0V0z\" fill=\"none\"/>\n",
              "    <path d=\"M18.56 5.44l.94 2.06.94-2.06 2.06-.94-2.06-.94-.94-2.06-.94 2.06-2.06.94zm-11 1L8.5 8.5l.94-2.06 2.06-.94-2.06-.94L8.5 2.5l-.94 2.06-2.06.94zm10 10l.94 2.06.94-2.06 2.06-.94-2.06-.94-.94-2.06-.94 2.06-2.06.94z\"/><path d=\"M17.41 7.96l-1.37-1.37c-.4-.4-.92-.59-1.43-.59-.52 0-1.04.2-1.43.59L10.3 9.45l-7.72 7.72c-.78.78-.78 2.05 0 2.83L4 21.41c.39.39.9.59 1.41.59.51 0 1.02-.2 1.41-.59l7.78-7.78 2.81-2.81c.8-.78.8-2.07 0-2.86zM5.41 20L4 18.59l7.72-7.72 1.47 1.35L5.41 20z\"/>\n",
              "  </svg>\n",
              "      </button>\n",
              "      \n",
              "  <style>\n",
              "    .colab-df-container {\n",
              "      display:flex;\n",
              "      flex-wrap:wrap;\n",
              "      gap: 12px;\n",
              "    }\n",
              "\n",
              "    .colab-df-convert {\n",
              "      background-color: #E8F0FE;\n",
              "      border: none;\n",
              "      border-radius: 50%;\n",
              "      cursor: pointer;\n",
              "      display: none;\n",
              "      fill: #1967D2;\n",
              "      height: 32px;\n",
              "      padding: 0 0 0 0;\n",
              "      width: 32px;\n",
              "    }\n",
              "\n",
              "    .colab-df-convert:hover {\n",
              "      background-color: #E2EBFA;\n",
              "      box-shadow: 0px 1px 2px rgba(60, 64, 67, 0.3), 0px 1px 3px 1px rgba(60, 64, 67, 0.15);\n",
              "      fill: #174EA6;\n",
              "    }\n",
              "\n",
              "    [theme=dark] .colab-df-convert {\n",
              "      background-color: #3B4455;\n",
              "      fill: #D2E3FC;\n",
              "    }\n",
              "\n",
              "    [theme=dark] .colab-df-convert:hover {\n",
              "      background-color: #434B5C;\n",
              "      box-shadow: 0px 1px 3px 1px rgba(0, 0, 0, 0.15);\n",
              "      filter: drop-shadow(0px 1px 2px rgba(0, 0, 0, 0.3));\n",
              "      fill: #FFFFFF;\n",
              "    }\n",
              "  </style>\n",
              "\n",
              "      <script>\n",
              "        const buttonEl =\n",
              "          document.querySelector('#df-50d4a95f-71b6-4303-88ef-61c891a0e3f2 button.colab-df-convert');\n",
              "        buttonEl.style.display =\n",
              "          google.colab.kernel.accessAllowed ? 'block' : 'none';\n",
              "\n",
              "        async function convertToInteractive(key) {\n",
              "          const element = document.querySelector('#df-50d4a95f-71b6-4303-88ef-61c891a0e3f2');\n",
              "          const dataTable =\n",
              "            await google.colab.kernel.invokeFunction('convertToInteractive',\n",
              "                                                     [key], {});\n",
              "          if (!dataTable) return;\n",
              "\n",
              "          const docLinkHtml = 'Like what you see? Visit the ' +\n",
              "            '<a target=\"_blank\" href=https://colab.research.google.com/notebooks/data_table.ipynb>data table notebook</a>'\n",
              "            + ' to learn more about interactive tables.';\n",
              "          element.innerHTML = '';\n",
              "          dataTable['output_type'] = 'display_data';\n",
              "          await google.colab.output.renderOutput(dataTable, element);\n",
              "          const docLink = document.createElement('div');\n",
              "          docLink.innerHTML = docLinkHtml;\n",
              "          element.appendChild(docLink);\n",
              "        }\n",
              "      </script>\n",
              "    </div>\n",
              "  </div>\n",
              "  "
            ]
          },
          "metadata": {},
          "execution_count": 568
        }
      ]
    },
    {
      "cell_type": "code",
      "source": [
        "# finalmente verificamos que tipo de datos contiene la columna 'Transported'\n",
        "type(df['Transported'][1])"
      ],
      "metadata": {
        "colab": {
          "base_uri": "https://localhost:8080/"
        },
        "id": "W9B8mO0xIWmA",
        "outputId": "6df2edaf-53f7-41f9-fa2a-cfc507a37663"
      },
      "execution_count": 569,
      "outputs": [
        {
          "output_type": "execute_result",
          "data": {
            "text/plain": [
              "numpy.int64"
            ]
          },
          "metadata": {},
          "execution_count": 569
        }
      ]
    },
    {
      "cell_type": "markdown",
      "source": [
        "# Implementación modelo de predicción "
      ],
      "metadata": {
        "id": "XX1F2nwGJAL1"
      }
    },
    {
      "cell_type": "markdown",
      "source": [
        "Importamos la csv de prueba ya aplicada la limpieza de datos que en la df de train \n",
        "\n",
        "Proceso de obtención de df de prueba aplicada los mismos cambios que la df_train:\n",
        "\n",
        "https://colab.research.google.com/drive/1KqHqdtkLBfHglwhv8I381yBSWJFd8qFc#scrollTo=vkn-ouoiUSm8"
      ],
      "metadata": {
        "id": "r2KTpm0UsH0I"
      }
    },
    {
      "cell_type": "markdown",
      "source": [
        "Montamos el conjunto de prueba y verificamos si es el correcto"
      ],
      "metadata": {
        "id": "7UiJhQfk1sst"
      }
    },
    {
      "cell_type": "code",
      "source": [
        "nombrearchivo_prueba = '/content/drive/MyDrive/Coding Dojo/Códigos/Track 3/Deberes /Week 2 - Track 3/spaceship-titanic.zip (Unzipped Files)/Df_prueba_convertir/df_prueba.csv'\n",
        "df_prueba = pd.read_csv(nombrearchivo_prueba)\n",
        "df_prueba.head()"
      ],
      "metadata": {
        "colab": {
          "base_uri": "https://localhost:8080/",
          "height": 206
        },
        "id": "EPQfJvyowm2_",
        "outputId": "33e9c404-5494-4584-e094-a294560e9860"
      },
      "execution_count": 570,
      "outputs": [
        {
          "output_type": "execute_result",
          "data": {
            "text/plain": [
              "   Unnamed: 0  level_0  index PassengerId  HomePlanet  CryoSleep  Destination  \\\n",
              "0           0        0      0     0013_01           1          1            2   \n",
              "1           1        1      1     0018_01           1          0            2   \n",
              "2           2        2      2     0019_01           2          1            1   \n",
              "3           3        3      3     0021_01           2          0            2   \n",
              "4           4        4      4     0023_01           1          0            2   \n",
              "\n",
              "    Age  VIP  RoomService  FoodCourt  ShoppingMall     Spa  VRDeck  \\\n",
              "0  27.0    0          0.0        0.0           0.0     0.0     0.0   \n",
              "1  19.0    0          0.0        9.0           0.0  2823.0     0.0   \n",
              "2  31.0    0          0.0        0.0           0.0     0.0     0.0   \n",
              "3  38.0    0          0.0     6652.0           0.0   181.0   585.0   \n",
              "4  20.0    0         10.0        0.0         635.0     0.0     0.0   \n",
              "\n",
              "               Name  \n",
              "0   Nelly Carsoning  \n",
              "1    Lerome Peckers  \n",
              "2   Sabih Unhearfus  \n",
              "3  Meratz Caltilter  \n",
              "4   Brence Harperez  "
            ],
            "text/html": [
              "\n",
              "  <div id=\"df-5ecc7e44-7239-4850-83bc-9b141504cda0\">\n",
              "    <div class=\"colab-df-container\">\n",
              "      <div>\n",
              "<style scoped>\n",
              "    .dataframe tbody tr th:only-of-type {\n",
              "        vertical-align: middle;\n",
              "    }\n",
              "\n",
              "    .dataframe tbody tr th {\n",
              "        vertical-align: top;\n",
              "    }\n",
              "\n",
              "    .dataframe thead th {\n",
              "        text-align: right;\n",
              "    }\n",
              "</style>\n",
              "<table border=\"1\" class=\"dataframe\">\n",
              "  <thead>\n",
              "    <tr style=\"text-align: right;\">\n",
              "      <th></th>\n",
              "      <th>Unnamed: 0</th>\n",
              "      <th>level_0</th>\n",
              "      <th>index</th>\n",
              "      <th>PassengerId</th>\n",
              "      <th>HomePlanet</th>\n",
              "      <th>CryoSleep</th>\n",
              "      <th>Destination</th>\n",
              "      <th>Age</th>\n",
              "      <th>VIP</th>\n",
              "      <th>RoomService</th>\n",
              "      <th>FoodCourt</th>\n",
              "      <th>ShoppingMall</th>\n",
              "      <th>Spa</th>\n",
              "      <th>VRDeck</th>\n",
              "      <th>Name</th>\n",
              "    </tr>\n",
              "  </thead>\n",
              "  <tbody>\n",
              "    <tr>\n",
              "      <th>0</th>\n",
              "      <td>0</td>\n",
              "      <td>0</td>\n",
              "      <td>0</td>\n",
              "      <td>0013_01</td>\n",
              "      <td>1</td>\n",
              "      <td>1</td>\n",
              "      <td>2</td>\n",
              "      <td>27.0</td>\n",
              "      <td>0</td>\n",
              "      <td>0.0</td>\n",
              "      <td>0.0</td>\n",
              "      <td>0.0</td>\n",
              "      <td>0.0</td>\n",
              "      <td>0.0</td>\n",
              "      <td>Nelly Carsoning</td>\n",
              "    </tr>\n",
              "    <tr>\n",
              "      <th>1</th>\n",
              "      <td>1</td>\n",
              "      <td>1</td>\n",
              "      <td>1</td>\n",
              "      <td>0018_01</td>\n",
              "      <td>1</td>\n",
              "      <td>0</td>\n",
              "      <td>2</td>\n",
              "      <td>19.0</td>\n",
              "      <td>0</td>\n",
              "      <td>0.0</td>\n",
              "      <td>9.0</td>\n",
              "      <td>0.0</td>\n",
              "      <td>2823.0</td>\n",
              "      <td>0.0</td>\n",
              "      <td>Lerome Peckers</td>\n",
              "    </tr>\n",
              "    <tr>\n",
              "      <th>2</th>\n",
              "      <td>2</td>\n",
              "      <td>2</td>\n",
              "      <td>2</td>\n",
              "      <td>0019_01</td>\n",
              "      <td>2</td>\n",
              "      <td>1</td>\n",
              "      <td>1</td>\n",
              "      <td>31.0</td>\n",
              "      <td>0</td>\n",
              "      <td>0.0</td>\n",
              "      <td>0.0</td>\n",
              "      <td>0.0</td>\n",
              "      <td>0.0</td>\n",
              "      <td>0.0</td>\n",
              "      <td>Sabih Unhearfus</td>\n",
              "    </tr>\n",
              "    <tr>\n",
              "      <th>3</th>\n",
              "      <td>3</td>\n",
              "      <td>3</td>\n",
              "      <td>3</td>\n",
              "      <td>0021_01</td>\n",
              "      <td>2</td>\n",
              "      <td>0</td>\n",
              "      <td>2</td>\n",
              "      <td>38.0</td>\n",
              "      <td>0</td>\n",
              "      <td>0.0</td>\n",
              "      <td>6652.0</td>\n",
              "      <td>0.0</td>\n",
              "      <td>181.0</td>\n",
              "      <td>585.0</td>\n",
              "      <td>Meratz Caltilter</td>\n",
              "    </tr>\n",
              "    <tr>\n",
              "      <th>4</th>\n",
              "      <td>4</td>\n",
              "      <td>4</td>\n",
              "      <td>4</td>\n",
              "      <td>0023_01</td>\n",
              "      <td>1</td>\n",
              "      <td>0</td>\n",
              "      <td>2</td>\n",
              "      <td>20.0</td>\n",
              "      <td>0</td>\n",
              "      <td>10.0</td>\n",
              "      <td>0.0</td>\n",
              "      <td>635.0</td>\n",
              "      <td>0.0</td>\n",
              "      <td>0.0</td>\n",
              "      <td>Brence Harperez</td>\n",
              "    </tr>\n",
              "  </tbody>\n",
              "</table>\n",
              "</div>\n",
              "      <button class=\"colab-df-convert\" onclick=\"convertToInteractive('df-5ecc7e44-7239-4850-83bc-9b141504cda0')\"\n",
              "              title=\"Convert this dataframe to an interactive table.\"\n",
              "              style=\"display:none;\">\n",
              "        \n",
              "  <svg xmlns=\"http://www.w3.org/2000/svg\" height=\"24px\"viewBox=\"0 0 24 24\"\n",
              "       width=\"24px\">\n",
              "    <path d=\"M0 0h24v24H0V0z\" fill=\"none\"/>\n",
              "    <path d=\"M18.56 5.44l.94 2.06.94-2.06 2.06-.94-2.06-.94-.94-2.06-.94 2.06-2.06.94zm-11 1L8.5 8.5l.94-2.06 2.06-.94-2.06-.94L8.5 2.5l-.94 2.06-2.06.94zm10 10l.94 2.06.94-2.06 2.06-.94-2.06-.94-.94-2.06-.94 2.06-2.06.94z\"/><path d=\"M17.41 7.96l-1.37-1.37c-.4-.4-.92-.59-1.43-.59-.52 0-1.04.2-1.43.59L10.3 9.45l-7.72 7.72c-.78.78-.78 2.05 0 2.83L4 21.41c.39.39.9.59 1.41.59.51 0 1.02-.2 1.41-.59l7.78-7.78 2.81-2.81c.8-.78.8-2.07 0-2.86zM5.41 20L4 18.59l7.72-7.72 1.47 1.35L5.41 20z\"/>\n",
              "  </svg>\n",
              "      </button>\n",
              "      \n",
              "  <style>\n",
              "    .colab-df-container {\n",
              "      display:flex;\n",
              "      flex-wrap:wrap;\n",
              "      gap: 12px;\n",
              "    }\n",
              "\n",
              "    .colab-df-convert {\n",
              "      background-color: #E8F0FE;\n",
              "      border: none;\n",
              "      border-radius: 50%;\n",
              "      cursor: pointer;\n",
              "      display: none;\n",
              "      fill: #1967D2;\n",
              "      height: 32px;\n",
              "      padding: 0 0 0 0;\n",
              "      width: 32px;\n",
              "    }\n",
              "\n",
              "    .colab-df-convert:hover {\n",
              "      background-color: #E2EBFA;\n",
              "      box-shadow: 0px 1px 2px rgba(60, 64, 67, 0.3), 0px 1px 3px 1px rgba(60, 64, 67, 0.15);\n",
              "      fill: #174EA6;\n",
              "    }\n",
              "\n",
              "    [theme=dark] .colab-df-convert {\n",
              "      background-color: #3B4455;\n",
              "      fill: #D2E3FC;\n",
              "    }\n",
              "\n",
              "    [theme=dark] .colab-df-convert:hover {\n",
              "      background-color: #434B5C;\n",
              "      box-shadow: 0px 1px 3px 1px rgba(0, 0, 0, 0.15);\n",
              "      filter: drop-shadow(0px 1px 2px rgba(0, 0, 0, 0.3));\n",
              "      fill: #FFFFFF;\n",
              "    }\n",
              "  </style>\n",
              "\n",
              "      <script>\n",
              "        const buttonEl =\n",
              "          document.querySelector('#df-5ecc7e44-7239-4850-83bc-9b141504cda0 button.colab-df-convert');\n",
              "        buttonEl.style.display =\n",
              "          google.colab.kernel.accessAllowed ? 'block' : 'none';\n",
              "\n",
              "        async function convertToInteractive(key) {\n",
              "          const element = document.querySelector('#df-5ecc7e44-7239-4850-83bc-9b141504cda0');\n",
              "          const dataTable =\n",
              "            await google.colab.kernel.invokeFunction('convertToInteractive',\n",
              "                                                     [key], {});\n",
              "          if (!dataTable) return;\n",
              "\n",
              "          const docLinkHtml = 'Like what you see? Visit the ' +\n",
              "            '<a target=\"_blank\" href=https://colab.research.google.com/notebooks/data_table.ipynb>data table notebook</a>'\n",
              "            + ' to learn more about interactive tables.';\n",
              "          element.innerHTML = '';\n",
              "          dataTable['output_type'] = 'display_data';\n",
              "          await google.colab.output.renderOutput(dataTable, element);\n",
              "          const docLink = document.createElement('div');\n",
              "          docLink.innerHTML = docLinkHtml;\n",
              "          element.appendChild(docLink);\n",
              "        }\n",
              "      </script>\n",
              "    </div>\n",
              "  </div>\n",
              "  "
            ]
          },
          "metadata": {},
          "execution_count": 570
        }
      ]
    },
    {
      "cell_type": "code",
      "source": [
        "df_prueba.info()"
      ],
      "metadata": {
        "colab": {
          "base_uri": "https://localhost:8080/"
        },
        "id": "YlJupwNen9_p",
        "outputId": "ac01664d-3fb3-4f2c-cf06-4f7ed652ca71"
      },
      "execution_count": 571,
      "outputs": [
        {
          "output_type": "stream",
          "name": "stdout",
          "text": [
            "<class 'pandas.core.frame.DataFrame'>\n",
            "RangeIndex: 4277 entries, 0 to 4276\n",
            "Data columns (total 15 columns):\n",
            " #   Column        Non-Null Count  Dtype  \n",
            "---  ------        --------------  -----  \n",
            " 0   Unnamed: 0    4277 non-null   int64  \n",
            " 1   level_0       4277 non-null   int64  \n",
            " 2   index         4277 non-null   int64  \n",
            " 3   PassengerId   4277 non-null   object \n",
            " 4   HomePlanet    4277 non-null   int64  \n",
            " 5   CryoSleep     4277 non-null   int64  \n",
            " 6   Destination   4277 non-null   int64  \n",
            " 7   Age           4277 non-null   float64\n",
            " 8   VIP           4277 non-null   int64  \n",
            " 9   RoomService   4277 non-null   float64\n",
            " 10  FoodCourt     4277 non-null   float64\n",
            " 11  ShoppingMall  4277 non-null   float64\n",
            " 12  Spa           4277 non-null   float64\n",
            " 13  VRDeck        4277 non-null   float64\n",
            " 14  Name          4183 non-null   object \n",
            "dtypes: float64(6), int64(7), object(2)\n",
            "memory usage: 501.3+ KB\n"
          ]
        }
      ]
    },
    {
      "cell_type": "code",
      "source": [
        "df_prueba.isnull().sum()"
      ],
      "metadata": {
        "colab": {
          "base_uri": "https://localhost:8080/"
        },
        "id": "dGslsv-SoCgn",
        "outputId": "4db672cc-3b3c-4ffe-9f37-a1b29efcfce2"
      },
      "execution_count": 572,
      "outputs": [
        {
          "output_type": "execute_result",
          "data": {
            "text/plain": [
              "Unnamed: 0       0\n",
              "level_0          0\n",
              "index            0\n",
              "PassengerId      0\n",
              "HomePlanet       0\n",
              "CryoSleep        0\n",
              "Destination      0\n",
              "Age              0\n",
              "VIP              0\n",
              "RoomService      0\n",
              "FoodCourt        0\n",
              "ShoppingMall     0\n",
              "Spa              0\n",
              "VRDeck           0\n",
              "Name            94\n",
              "dtype: int64"
            ]
          },
          "metadata": {},
          "execution_count": 572
        }
      ]
    },
    {
      "cell_type": "markdown",
      "source": [
        "## Dvision de conjuntos de prueba y entrenamiento "
      ],
      "metadata": {
        "id": "lkq0_zeptJe_"
      }
    },
    {
      "cell_type": "code",
      "source": [
        "#df con la que trabajaremos para obtener los datos de 'X_train' y 'y_train' \n",
        "df.head(1)"
      ],
      "metadata": {
        "colab": {
          "base_uri": "https://localhost:8080/",
          "height": 81
        },
        "id": "hniiMv7ftwWa",
        "outputId": "200d2c97-c44a-4bcc-ce48-ac5d2d759f61"
      },
      "execution_count": 573,
      "outputs": [
        {
          "output_type": "execute_result",
          "data": {
            "text/plain": [
              "   level_0  index PassengerId  HomePlanet  CryoSleep  Destination   Age  VIP  \\\n",
              "0        0      0     0001_01           2          0            2  39.0    0   \n",
              "\n",
              "   RoomService  FoodCourt  ShoppingMall  Spa  VRDeck             Name  \\\n",
              "0          0.0        0.0           0.0  0.0     0.0  Maham Ofracculy   \n",
              "\n",
              "   Transported  \n",
              "0            0  "
            ],
            "text/html": [
              "\n",
              "  <div id=\"df-4d2b5532-702d-4e65-b07e-e7301759b79b\">\n",
              "    <div class=\"colab-df-container\">\n",
              "      <div>\n",
              "<style scoped>\n",
              "    .dataframe tbody tr th:only-of-type {\n",
              "        vertical-align: middle;\n",
              "    }\n",
              "\n",
              "    .dataframe tbody tr th {\n",
              "        vertical-align: top;\n",
              "    }\n",
              "\n",
              "    .dataframe thead th {\n",
              "        text-align: right;\n",
              "    }\n",
              "</style>\n",
              "<table border=\"1\" class=\"dataframe\">\n",
              "  <thead>\n",
              "    <tr style=\"text-align: right;\">\n",
              "      <th></th>\n",
              "      <th>level_0</th>\n",
              "      <th>index</th>\n",
              "      <th>PassengerId</th>\n",
              "      <th>HomePlanet</th>\n",
              "      <th>CryoSleep</th>\n",
              "      <th>Destination</th>\n",
              "      <th>Age</th>\n",
              "      <th>VIP</th>\n",
              "      <th>RoomService</th>\n",
              "      <th>FoodCourt</th>\n",
              "      <th>ShoppingMall</th>\n",
              "      <th>Spa</th>\n",
              "      <th>VRDeck</th>\n",
              "      <th>Name</th>\n",
              "      <th>Transported</th>\n",
              "    </tr>\n",
              "  </thead>\n",
              "  <tbody>\n",
              "    <tr>\n",
              "      <th>0</th>\n",
              "      <td>0</td>\n",
              "      <td>0</td>\n",
              "      <td>0001_01</td>\n",
              "      <td>2</td>\n",
              "      <td>0</td>\n",
              "      <td>2</td>\n",
              "      <td>39.0</td>\n",
              "      <td>0</td>\n",
              "      <td>0.0</td>\n",
              "      <td>0.0</td>\n",
              "      <td>0.0</td>\n",
              "      <td>0.0</td>\n",
              "      <td>0.0</td>\n",
              "      <td>Maham Ofracculy</td>\n",
              "      <td>0</td>\n",
              "    </tr>\n",
              "  </tbody>\n",
              "</table>\n",
              "</div>\n",
              "      <button class=\"colab-df-convert\" onclick=\"convertToInteractive('df-4d2b5532-702d-4e65-b07e-e7301759b79b')\"\n",
              "              title=\"Convert this dataframe to an interactive table.\"\n",
              "              style=\"display:none;\">\n",
              "        \n",
              "  <svg xmlns=\"http://www.w3.org/2000/svg\" height=\"24px\"viewBox=\"0 0 24 24\"\n",
              "       width=\"24px\">\n",
              "    <path d=\"M0 0h24v24H0V0z\" fill=\"none\"/>\n",
              "    <path d=\"M18.56 5.44l.94 2.06.94-2.06 2.06-.94-2.06-.94-.94-2.06-.94 2.06-2.06.94zm-11 1L8.5 8.5l.94-2.06 2.06-.94-2.06-.94L8.5 2.5l-.94 2.06-2.06.94zm10 10l.94 2.06.94-2.06 2.06-.94-2.06-.94-.94-2.06-.94 2.06-2.06.94z\"/><path d=\"M17.41 7.96l-1.37-1.37c-.4-.4-.92-.59-1.43-.59-.52 0-1.04.2-1.43.59L10.3 9.45l-7.72 7.72c-.78.78-.78 2.05 0 2.83L4 21.41c.39.39.9.59 1.41.59.51 0 1.02-.2 1.41-.59l7.78-7.78 2.81-2.81c.8-.78.8-2.07 0-2.86zM5.41 20L4 18.59l7.72-7.72 1.47 1.35L5.41 20z\"/>\n",
              "  </svg>\n",
              "      </button>\n",
              "      \n",
              "  <style>\n",
              "    .colab-df-container {\n",
              "      display:flex;\n",
              "      flex-wrap:wrap;\n",
              "      gap: 12px;\n",
              "    }\n",
              "\n",
              "    .colab-df-convert {\n",
              "      background-color: #E8F0FE;\n",
              "      border: none;\n",
              "      border-radius: 50%;\n",
              "      cursor: pointer;\n",
              "      display: none;\n",
              "      fill: #1967D2;\n",
              "      height: 32px;\n",
              "      padding: 0 0 0 0;\n",
              "      width: 32px;\n",
              "    }\n",
              "\n",
              "    .colab-df-convert:hover {\n",
              "      background-color: #E2EBFA;\n",
              "      box-shadow: 0px 1px 2px rgba(60, 64, 67, 0.3), 0px 1px 3px 1px rgba(60, 64, 67, 0.15);\n",
              "      fill: #174EA6;\n",
              "    }\n",
              "\n",
              "    [theme=dark] .colab-df-convert {\n",
              "      background-color: #3B4455;\n",
              "      fill: #D2E3FC;\n",
              "    }\n",
              "\n",
              "    [theme=dark] .colab-df-convert:hover {\n",
              "      background-color: #434B5C;\n",
              "      box-shadow: 0px 1px 3px 1px rgba(0, 0, 0, 0.15);\n",
              "      filter: drop-shadow(0px 1px 2px rgba(0, 0, 0, 0.3));\n",
              "      fill: #FFFFFF;\n",
              "    }\n",
              "  </style>\n",
              "\n",
              "      <script>\n",
              "        const buttonEl =\n",
              "          document.querySelector('#df-4d2b5532-702d-4e65-b07e-e7301759b79b button.colab-df-convert');\n",
              "        buttonEl.style.display =\n",
              "          google.colab.kernel.accessAllowed ? 'block' : 'none';\n",
              "\n",
              "        async function convertToInteractive(key) {\n",
              "          const element = document.querySelector('#df-4d2b5532-702d-4e65-b07e-e7301759b79b');\n",
              "          const dataTable =\n",
              "            await google.colab.kernel.invokeFunction('convertToInteractive',\n",
              "                                                     [key], {});\n",
              "          if (!dataTable) return;\n",
              "\n",
              "          const docLinkHtml = 'Like what you see? Visit the ' +\n",
              "            '<a target=\"_blank\" href=https://colab.research.google.com/notebooks/data_table.ipynb>data table notebook</a>'\n",
              "            + ' to learn more about interactive tables.';\n",
              "          element.innerHTML = '';\n",
              "          dataTable['output_type'] = 'display_data';\n",
              "          await google.colab.output.renderOutput(dataTable, element);\n",
              "          const docLink = document.createElement('div');\n",
              "          docLink.innerHTML = docLinkHtml;\n",
              "          element.appendChild(docLink);\n",
              "        }\n",
              "      </script>\n",
              "    </div>\n",
              "  </div>\n",
              "  "
            ]
          },
          "metadata": {},
          "execution_count": 573
        }
      ]
    },
    {
      "cell_type": "markdown",
      "source": [
        "### X_train"
      ],
      "metadata": {
        "id": "ZmxABhNIu2eT"
      }
    },
    {
      "cell_type": "code",
      "source": [
        "#creamos un df llamado 'X_train' con las columnas que serán entrenadas para el modelo\n",
        "X_train = df.loc[:,['HomePlanet','CryoSleep','Destination','Age',\n",
        "                 'VIP','RoomService','FoodCourt','ShoppingMall',\n",
        "                 'Spa','VRDeck']]"
      ],
      "metadata": {
        "id": "eDyLSYoltGk_"
      },
      "execution_count": 574,
      "outputs": []
    },
    {
      "cell_type": "code",
      "source": [
        "X_train.head(1)"
      ],
      "metadata": {
        "colab": {
          "base_uri": "https://localhost:8080/",
          "height": 81
        },
        "id": "02PrjtFtuOrJ",
        "outputId": "8b976a7e-3080-48f3-d535-0629b4f16407"
      },
      "execution_count": 575,
      "outputs": [
        {
          "output_type": "execute_result",
          "data": {
            "text/plain": [
              "   HomePlanet  CryoSleep  Destination   Age  VIP  RoomService  FoodCourt  \\\n",
              "0           2          0            2  39.0    0          0.0        0.0   \n",
              "\n",
              "   ShoppingMall  Spa  VRDeck  \n",
              "0           0.0  0.0     0.0  "
            ],
            "text/html": [
              "\n",
              "  <div id=\"df-78048573-e176-4133-b750-462e65c9404e\">\n",
              "    <div class=\"colab-df-container\">\n",
              "      <div>\n",
              "<style scoped>\n",
              "    .dataframe tbody tr th:only-of-type {\n",
              "        vertical-align: middle;\n",
              "    }\n",
              "\n",
              "    .dataframe tbody tr th {\n",
              "        vertical-align: top;\n",
              "    }\n",
              "\n",
              "    .dataframe thead th {\n",
              "        text-align: right;\n",
              "    }\n",
              "</style>\n",
              "<table border=\"1\" class=\"dataframe\">\n",
              "  <thead>\n",
              "    <tr style=\"text-align: right;\">\n",
              "      <th></th>\n",
              "      <th>HomePlanet</th>\n",
              "      <th>CryoSleep</th>\n",
              "      <th>Destination</th>\n",
              "      <th>Age</th>\n",
              "      <th>VIP</th>\n",
              "      <th>RoomService</th>\n",
              "      <th>FoodCourt</th>\n",
              "      <th>ShoppingMall</th>\n",
              "      <th>Spa</th>\n",
              "      <th>VRDeck</th>\n",
              "    </tr>\n",
              "  </thead>\n",
              "  <tbody>\n",
              "    <tr>\n",
              "      <th>0</th>\n",
              "      <td>2</td>\n",
              "      <td>0</td>\n",
              "      <td>2</td>\n",
              "      <td>39.0</td>\n",
              "      <td>0</td>\n",
              "      <td>0.0</td>\n",
              "      <td>0.0</td>\n",
              "      <td>0.0</td>\n",
              "      <td>0.0</td>\n",
              "      <td>0.0</td>\n",
              "    </tr>\n",
              "  </tbody>\n",
              "</table>\n",
              "</div>\n",
              "      <button class=\"colab-df-convert\" onclick=\"convertToInteractive('df-78048573-e176-4133-b750-462e65c9404e')\"\n",
              "              title=\"Convert this dataframe to an interactive table.\"\n",
              "              style=\"display:none;\">\n",
              "        \n",
              "  <svg xmlns=\"http://www.w3.org/2000/svg\" height=\"24px\"viewBox=\"0 0 24 24\"\n",
              "       width=\"24px\">\n",
              "    <path d=\"M0 0h24v24H0V0z\" fill=\"none\"/>\n",
              "    <path d=\"M18.56 5.44l.94 2.06.94-2.06 2.06-.94-2.06-.94-.94-2.06-.94 2.06-2.06.94zm-11 1L8.5 8.5l.94-2.06 2.06-.94-2.06-.94L8.5 2.5l-.94 2.06-2.06.94zm10 10l.94 2.06.94-2.06 2.06-.94-2.06-.94-.94-2.06-.94 2.06-2.06.94z\"/><path d=\"M17.41 7.96l-1.37-1.37c-.4-.4-.92-.59-1.43-.59-.52 0-1.04.2-1.43.59L10.3 9.45l-7.72 7.72c-.78.78-.78 2.05 0 2.83L4 21.41c.39.39.9.59 1.41.59.51 0 1.02-.2 1.41-.59l7.78-7.78 2.81-2.81c.8-.78.8-2.07 0-2.86zM5.41 20L4 18.59l7.72-7.72 1.47 1.35L5.41 20z\"/>\n",
              "  </svg>\n",
              "      </button>\n",
              "      \n",
              "  <style>\n",
              "    .colab-df-container {\n",
              "      display:flex;\n",
              "      flex-wrap:wrap;\n",
              "      gap: 12px;\n",
              "    }\n",
              "\n",
              "    .colab-df-convert {\n",
              "      background-color: #E8F0FE;\n",
              "      border: none;\n",
              "      border-radius: 50%;\n",
              "      cursor: pointer;\n",
              "      display: none;\n",
              "      fill: #1967D2;\n",
              "      height: 32px;\n",
              "      padding: 0 0 0 0;\n",
              "      width: 32px;\n",
              "    }\n",
              "\n",
              "    .colab-df-convert:hover {\n",
              "      background-color: #E2EBFA;\n",
              "      box-shadow: 0px 1px 2px rgba(60, 64, 67, 0.3), 0px 1px 3px 1px rgba(60, 64, 67, 0.15);\n",
              "      fill: #174EA6;\n",
              "    }\n",
              "\n",
              "    [theme=dark] .colab-df-convert {\n",
              "      background-color: #3B4455;\n",
              "      fill: #D2E3FC;\n",
              "    }\n",
              "\n",
              "    [theme=dark] .colab-df-convert:hover {\n",
              "      background-color: #434B5C;\n",
              "      box-shadow: 0px 1px 3px 1px rgba(0, 0, 0, 0.15);\n",
              "      filter: drop-shadow(0px 1px 2px rgba(0, 0, 0, 0.3));\n",
              "      fill: #FFFFFF;\n",
              "    }\n",
              "  </style>\n",
              "\n",
              "      <script>\n",
              "        const buttonEl =\n",
              "          document.querySelector('#df-78048573-e176-4133-b750-462e65c9404e button.colab-df-convert');\n",
              "        buttonEl.style.display =\n",
              "          google.colab.kernel.accessAllowed ? 'block' : 'none';\n",
              "\n",
              "        async function convertToInteractive(key) {\n",
              "          const element = document.querySelector('#df-78048573-e176-4133-b750-462e65c9404e');\n",
              "          const dataTable =\n",
              "            await google.colab.kernel.invokeFunction('convertToInteractive',\n",
              "                                                     [key], {});\n",
              "          if (!dataTable) return;\n",
              "\n",
              "          const docLinkHtml = 'Like what you see? Visit the ' +\n",
              "            '<a target=\"_blank\" href=https://colab.research.google.com/notebooks/data_table.ipynb>data table notebook</a>'\n",
              "            + ' to learn more about interactive tables.';\n",
              "          element.innerHTML = '';\n",
              "          dataTable['output_type'] = 'display_data';\n",
              "          await google.colab.output.renderOutput(dataTable, element);\n",
              "          const docLink = document.createElement('div');\n",
              "          docLink.innerHTML = docLinkHtml;\n",
              "          element.appendChild(docLink);\n",
              "        }\n",
              "      </script>\n",
              "    </div>\n",
              "  </div>\n",
              "  "
            ]
          },
          "metadata": {},
          "execution_count": 575
        }
      ]
    },
    {
      "cell_type": "code",
      "source": [
        "X_train.shape"
      ],
      "metadata": {
        "colab": {
          "base_uri": "https://localhost:8080/"
        },
        "id": "YG21En1QvT_6",
        "outputId": "66bfcb9d-3d25-4139-b978-900b284f1194"
      },
      "execution_count": 576,
      "outputs": [
        {
          "output_type": "execute_result",
          "data": {
            "text/plain": [
              "(7255, 10)"
            ]
          },
          "metadata": {},
          "execution_count": 576
        }
      ]
    },
    {
      "cell_type": "markdown",
      "source": [
        "### y_train"
      ],
      "metadata": {
        "id": "qnybkxYSu7jp"
      }
    },
    {
      "cell_type": "code",
      "source": [
        "y_train = df['Transported']"
      ],
      "metadata": {
        "id": "DebUPJerubDN"
      },
      "execution_count": 577,
      "outputs": []
    },
    {
      "cell_type": "code",
      "source": [
        "y_train.shape"
      ],
      "metadata": {
        "colab": {
          "base_uri": "https://localhost:8080/"
        },
        "id": "fGjzAp1ovNgC",
        "outputId": "6327a659-3d2b-4c93-abc9-477fca8f7e6d"
      },
      "execution_count": 578,
      "outputs": [
        {
          "output_type": "execute_result",
          "data": {
            "text/plain": [
              "(7255,)"
            ]
          },
          "metadata": {},
          "execution_count": 578
        }
      ]
    },
    {
      "cell_type": "markdown",
      "source": [
        "## Entrenamiento y prueba del modelo "
      ],
      "metadata": {
        "id": "VBpqMPYwwhHG"
      }
    },
    {
      "cell_type": "code",
      "source": [
        "#Importamos librerías que necesitamos para el modelo\n",
        "from sklearn.ensemble import GradientBoostingClassifier"
      ],
      "metadata": {
        "id": "0bGRNABzwmsx"
      },
      "execution_count": 579,
      "outputs": []
    },
    {
      "cell_type": "code",
      "source": [
        "\n",
        "#Entrenamos el modelo\n",
        "gbc = GradientBoostingClassifier()\n",
        "gbc.fit(X_train, y_train)"
      ],
      "metadata": {
        "colab": {
          "base_uri": "https://localhost:8080/"
        },
        "id": "aEQDEEhHxKZ4",
        "outputId": "3487e3d1-afbe-488b-befd-6a99049c17c6"
      },
      "execution_count": 580,
      "outputs": [
        {
          "output_type": "execute_result",
          "data": {
            "text/plain": [
              "GradientBoostingClassifier()"
            ]
          },
          "metadata": {},
          "execution_count": 580
        }
      ]
    },
    {
      "cell_type": "markdown",
      "source": [
        "## X_test y y_test "
      ],
      "metadata": {
        "id": "ot12MamcxZDc"
      }
    },
    {
      "cell_type": "markdown",
      "source": [
        "Se obtienen la df de prueba 'X_test' y 'y_test' a partir de la df_prueba importada"
      ],
      "metadata": {
        "id": "8JU6RYbD2XQ3"
      }
    },
    {
      "cell_type": "markdown",
      "source": [
        "### X_test "
      ],
      "metadata": {
        "id": "UxhXCZG-wNEb"
      }
    },
    {
      "cell_type": "code",
      "source": [
        "X_test = df_prueba.loc[:,['HomePlanet','CryoSleep','Destination','Age',\n",
        "                 'VIP','RoomService','FoodCourt','ShoppingMall',\n",
        "                 'Spa','VRDeck']]"
      ],
      "metadata": {
        "id": "Eo-JXU9-uLOY"
      },
      "execution_count": 581,
      "outputs": []
    },
    {
      "cell_type": "code",
      "source": [
        "X_test.shape"
      ],
      "metadata": {
        "colab": {
          "base_uri": "https://localhost:8080/"
        },
        "id": "lrnJ4xnuvQKB",
        "outputId": "5dc79fbf-46f6-4206-e5e9-e87973fcb289"
      },
      "execution_count": 582,
      "outputs": [
        {
          "output_type": "execute_result",
          "data": {
            "text/plain": [
              "(4277, 10)"
            ]
          },
          "metadata": {},
          "execution_count": 582
        }
      ]
    },
    {
      "cell_type": "code",
      "source": [
        "X_test.head(1)"
      ],
      "metadata": {
        "colab": {
          "base_uri": "https://localhost:8080/",
          "height": 81
        },
        "id": "mUB06WFauwuy",
        "outputId": "7231095d-5964-4b0c-f640-d5e0b38e6880"
      },
      "execution_count": 583,
      "outputs": [
        {
          "output_type": "execute_result",
          "data": {
            "text/plain": [
              "   HomePlanet  CryoSleep  Destination   Age  VIP  RoomService  FoodCourt  \\\n",
              "0           1          1            2  27.0    0          0.0        0.0   \n",
              "\n",
              "   ShoppingMall  Spa  VRDeck  \n",
              "0           0.0  0.0     0.0  "
            ],
            "text/html": [
              "\n",
              "  <div id=\"df-d0d93c13-84b6-410e-a0a2-b6140b92ce09\">\n",
              "    <div class=\"colab-df-container\">\n",
              "      <div>\n",
              "<style scoped>\n",
              "    .dataframe tbody tr th:only-of-type {\n",
              "        vertical-align: middle;\n",
              "    }\n",
              "\n",
              "    .dataframe tbody tr th {\n",
              "        vertical-align: top;\n",
              "    }\n",
              "\n",
              "    .dataframe thead th {\n",
              "        text-align: right;\n",
              "    }\n",
              "</style>\n",
              "<table border=\"1\" class=\"dataframe\">\n",
              "  <thead>\n",
              "    <tr style=\"text-align: right;\">\n",
              "      <th></th>\n",
              "      <th>HomePlanet</th>\n",
              "      <th>CryoSleep</th>\n",
              "      <th>Destination</th>\n",
              "      <th>Age</th>\n",
              "      <th>VIP</th>\n",
              "      <th>RoomService</th>\n",
              "      <th>FoodCourt</th>\n",
              "      <th>ShoppingMall</th>\n",
              "      <th>Spa</th>\n",
              "      <th>VRDeck</th>\n",
              "    </tr>\n",
              "  </thead>\n",
              "  <tbody>\n",
              "    <tr>\n",
              "      <th>0</th>\n",
              "      <td>1</td>\n",
              "      <td>1</td>\n",
              "      <td>2</td>\n",
              "      <td>27.0</td>\n",
              "      <td>0</td>\n",
              "      <td>0.0</td>\n",
              "      <td>0.0</td>\n",
              "      <td>0.0</td>\n",
              "      <td>0.0</td>\n",
              "      <td>0.0</td>\n",
              "    </tr>\n",
              "  </tbody>\n",
              "</table>\n",
              "</div>\n",
              "      <button class=\"colab-df-convert\" onclick=\"convertToInteractive('df-d0d93c13-84b6-410e-a0a2-b6140b92ce09')\"\n",
              "              title=\"Convert this dataframe to an interactive table.\"\n",
              "              style=\"display:none;\">\n",
              "        \n",
              "  <svg xmlns=\"http://www.w3.org/2000/svg\" height=\"24px\"viewBox=\"0 0 24 24\"\n",
              "       width=\"24px\">\n",
              "    <path d=\"M0 0h24v24H0V0z\" fill=\"none\"/>\n",
              "    <path d=\"M18.56 5.44l.94 2.06.94-2.06 2.06-.94-2.06-.94-.94-2.06-.94 2.06-2.06.94zm-11 1L8.5 8.5l.94-2.06 2.06-.94-2.06-.94L8.5 2.5l-.94 2.06-2.06.94zm10 10l.94 2.06.94-2.06 2.06-.94-2.06-.94-.94-2.06-.94 2.06-2.06.94z\"/><path d=\"M17.41 7.96l-1.37-1.37c-.4-.4-.92-.59-1.43-.59-.52 0-1.04.2-1.43.59L10.3 9.45l-7.72 7.72c-.78.78-.78 2.05 0 2.83L4 21.41c.39.39.9.59 1.41.59.51 0 1.02-.2 1.41-.59l7.78-7.78 2.81-2.81c.8-.78.8-2.07 0-2.86zM5.41 20L4 18.59l7.72-7.72 1.47 1.35L5.41 20z\"/>\n",
              "  </svg>\n",
              "      </button>\n",
              "      \n",
              "  <style>\n",
              "    .colab-df-container {\n",
              "      display:flex;\n",
              "      flex-wrap:wrap;\n",
              "      gap: 12px;\n",
              "    }\n",
              "\n",
              "    .colab-df-convert {\n",
              "      background-color: #E8F0FE;\n",
              "      border: none;\n",
              "      border-radius: 50%;\n",
              "      cursor: pointer;\n",
              "      display: none;\n",
              "      fill: #1967D2;\n",
              "      height: 32px;\n",
              "      padding: 0 0 0 0;\n",
              "      width: 32px;\n",
              "    }\n",
              "\n",
              "    .colab-df-convert:hover {\n",
              "      background-color: #E2EBFA;\n",
              "      box-shadow: 0px 1px 2px rgba(60, 64, 67, 0.3), 0px 1px 3px 1px rgba(60, 64, 67, 0.15);\n",
              "      fill: #174EA6;\n",
              "    }\n",
              "\n",
              "    [theme=dark] .colab-df-convert {\n",
              "      background-color: #3B4455;\n",
              "      fill: #D2E3FC;\n",
              "    }\n",
              "\n",
              "    [theme=dark] .colab-df-convert:hover {\n",
              "      background-color: #434B5C;\n",
              "      box-shadow: 0px 1px 3px 1px rgba(0, 0, 0, 0.15);\n",
              "      filter: drop-shadow(0px 1px 2px rgba(0, 0, 0, 0.3));\n",
              "      fill: #FFFFFF;\n",
              "    }\n",
              "  </style>\n",
              "\n",
              "      <script>\n",
              "        const buttonEl =\n",
              "          document.querySelector('#df-d0d93c13-84b6-410e-a0a2-b6140b92ce09 button.colab-df-convert');\n",
              "        buttonEl.style.display =\n",
              "          google.colab.kernel.accessAllowed ? 'block' : 'none';\n",
              "\n",
              "        async function convertToInteractive(key) {\n",
              "          const element = document.querySelector('#df-d0d93c13-84b6-410e-a0a2-b6140b92ce09');\n",
              "          const dataTable =\n",
              "            await google.colab.kernel.invokeFunction('convertToInteractive',\n",
              "                                                     [key], {});\n",
              "          if (!dataTable) return;\n",
              "\n",
              "          const docLinkHtml = 'Like what you see? Visit the ' +\n",
              "            '<a target=\"_blank\" href=https://colab.research.google.com/notebooks/data_table.ipynb>data table notebook</a>'\n",
              "            + ' to learn more about interactive tables.';\n",
              "          element.innerHTML = '';\n",
              "          dataTable['output_type'] = 'display_data';\n",
              "          await google.colab.output.renderOutput(dataTable, element);\n",
              "          const docLink = document.createElement('div');\n",
              "          docLink.innerHTML = docLinkHtml;\n",
              "          element.appendChild(docLink);\n",
              "        }\n",
              "      </script>\n",
              "    </div>\n",
              "  </div>\n",
              "  "
            ]
          },
          "metadata": {},
          "execution_count": 583
        }
      ]
    },
    {
      "cell_type": "markdown",
      "source": [
        "### y_test"
      ],
      "metadata": {
        "id": "VDZ7xJ1Hu41c"
      }
    },
    {
      "cell_type": "code",
      "source": [
        "y_test = gbc.predict(X_test) #realizamos predicciones que serán nuestras predicciones generadas a partir del conjunto de prueba"
      ],
      "metadata": {
        "id": "xXq7ahUfxd0-"
      },
      "execution_count": 584,
      "outputs": []
    },
    {
      "cell_type": "markdown",
      "source": [
        "Puntuamos el modelo a partir de nuestra base de entrenamiento para conocer si tenemos un modelo bueno"
      ],
      "metadata": {
        "id": "_1UvA8LX2u2b"
      }
    },
    {
      "cell_type": "code",
      "source": [
        "gbc.score(X_train,y_train)"
      ],
      "metadata": {
        "colab": {
          "base_uri": "https://localhost:8080/"
        },
        "id": "LeNiwnIwx334",
        "outputId": "d581510f-a64d-4660-8a72-8328c456c41b"
      },
      "execution_count": 585,
      "outputs": [
        {
          "output_type": "execute_result",
          "data": {
            "text/plain": [
              "0.8144727773949001"
            ]
          },
          "metadata": {},
          "execution_count": 585
        }
      ]
    },
    {
      "cell_type": "markdown",
      "source": [
        "#Guardamos en forma de df para presentarlo a kaggle"
      ],
      "metadata": {
        "id": "r8N7HgctyduW"
      }
    },
    {
      "cell_type": "code",
      "source": [
        "to_submit = pd.DataFrame({'PassengerId':df_prueba['PassengerId'],'Transported':y_test})"
      ],
      "metadata": {
        "id": "QdHLUnnXx11S"
      },
      "execution_count": 586,
      "outputs": []
    },
    {
      "cell_type": "code",
      "source": [
        "to_submit.head()"
      ],
      "metadata": {
        "colab": {
          "base_uri": "https://localhost:8080/",
          "height": 206
        },
        "id": "ZD0oVY19y5fg",
        "outputId": "34c4c7c2-acb3-44ff-9df0-af7494881f22"
      },
      "execution_count": 587,
      "outputs": [
        {
          "output_type": "execute_result",
          "data": {
            "text/plain": [
              "  PassengerId  Transported\n",
              "0     0013_01            1\n",
              "1     0018_01            0\n",
              "2     0019_01            1\n",
              "3     0021_01            1\n",
              "4     0023_01            1"
            ],
            "text/html": [
              "\n",
              "  <div id=\"df-3b62854f-ebb5-43b1-a6dd-b3d58d48d4ac\">\n",
              "    <div class=\"colab-df-container\">\n",
              "      <div>\n",
              "<style scoped>\n",
              "    .dataframe tbody tr th:only-of-type {\n",
              "        vertical-align: middle;\n",
              "    }\n",
              "\n",
              "    .dataframe tbody tr th {\n",
              "        vertical-align: top;\n",
              "    }\n",
              "\n",
              "    .dataframe thead th {\n",
              "        text-align: right;\n",
              "    }\n",
              "</style>\n",
              "<table border=\"1\" class=\"dataframe\">\n",
              "  <thead>\n",
              "    <tr style=\"text-align: right;\">\n",
              "      <th></th>\n",
              "      <th>PassengerId</th>\n",
              "      <th>Transported</th>\n",
              "    </tr>\n",
              "  </thead>\n",
              "  <tbody>\n",
              "    <tr>\n",
              "      <th>0</th>\n",
              "      <td>0013_01</td>\n",
              "      <td>1</td>\n",
              "    </tr>\n",
              "    <tr>\n",
              "      <th>1</th>\n",
              "      <td>0018_01</td>\n",
              "      <td>0</td>\n",
              "    </tr>\n",
              "    <tr>\n",
              "      <th>2</th>\n",
              "      <td>0019_01</td>\n",
              "      <td>1</td>\n",
              "    </tr>\n",
              "    <tr>\n",
              "      <th>3</th>\n",
              "      <td>0021_01</td>\n",
              "      <td>1</td>\n",
              "    </tr>\n",
              "    <tr>\n",
              "      <th>4</th>\n",
              "      <td>0023_01</td>\n",
              "      <td>1</td>\n",
              "    </tr>\n",
              "  </tbody>\n",
              "</table>\n",
              "</div>\n",
              "      <button class=\"colab-df-convert\" onclick=\"convertToInteractive('df-3b62854f-ebb5-43b1-a6dd-b3d58d48d4ac')\"\n",
              "              title=\"Convert this dataframe to an interactive table.\"\n",
              "              style=\"display:none;\">\n",
              "        \n",
              "  <svg xmlns=\"http://www.w3.org/2000/svg\" height=\"24px\"viewBox=\"0 0 24 24\"\n",
              "       width=\"24px\">\n",
              "    <path d=\"M0 0h24v24H0V0z\" fill=\"none\"/>\n",
              "    <path d=\"M18.56 5.44l.94 2.06.94-2.06 2.06-.94-2.06-.94-.94-2.06-.94 2.06-2.06.94zm-11 1L8.5 8.5l.94-2.06 2.06-.94-2.06-.94L8.5 2.5l-.94 2.06-2.06.94zm10 10l.94 2.06.94-2.06 2.06-.94-2.06-.94-.94-2.06-.94 2.06-2.06.94z\"/><path d=\"M17.41 7.96l-1.37-1.37c-.4-.4-.92-.59-1.43-.59-.52 0-1.04.2-1.43.59L10.3 9.45l-7.72 7.72c-.78.78-.78 2.05 0 2.83L4 21.41c.39.39.9.59 1.41.59.51 0 1.02-.2 1.41-.59l7.78-7.78 2.81-2.81c.8-.78.8-2.07 0-2.86zM5.41 20L4 18.59l7.72-7.72 1.47 1.35L5.41 20z\"/>\n",
              "  </svg>\n",
              "      </button>\n",
              "      \n",
              "  <style>\n",
              "    .colab-df-container {\n",
              "      display:flex;\n",
              "      flex-wrap:wrap;\n",
              "      gap: 12px;\n",
              "    }\n",
              "\n",
              "    .colab-df-convert {\n",
              "      background-color: #E8F0FE;\n",
              "      border: none;\n",
              "      border-radius: 50%;\n",
              "      cursor: pointer;\n",
              "      display: none;\n",
              "      fill: #1967D2;\n",
              "      height: 32px;\n",
              "      padding: 0 0 0 0;\n",
              "      width: 32px;\n",
              "    }\n",
              "\n",
              "    .colab-df-convert:hover {\n",
              "      background-color: #E2EBFA;\n",
              "      box-shadow: 0px 1px 2px rgba(60, 64, 67, 0.3), 0px 1px 3px 1px rgba(60, 64, 67, 0.15);\n",
              "      fill: #174EA6;\n",
              "    }\n",
              "\n",
              "    [theme=dark] .colab-df-convert {\n",
              "      background-color: #3B4455;\n",
              "      fill: #D2E3FC;\n",
              "    }\n",
              "\n",
              "    [theme=dark] .colab-df-convert:hover {\n",
              "      background-color: #434B5C;\n",
              "      box-shadow: 0px 1px 3px 1px rgba(0, 0, 0, 0.15);\n",
              "      filter: drop-shadow(0px 1px 2px rgba(0, 0, 0, 0.3));\n",
              "      fill: #FFFFFF;\n",
              "    }\n",
              "  </style>\n",
              "\n",
              "      <script>\n",
              "        const buttonEl =\n",
              "          document.querySelector('#df-3b62854f-ebb5-43b1-a6dd-b3d58d48d4ac button.colab-df-convert');\n",
              "        buttonEl.style.display =\n",
              "          google.colab.kernel.accessAllowed ? 'block' : 'none';\n",
              "\n",
              "        async function convertToInteractive(key) {\n",
              "          const element = document.querySelector('#df-3b62854f-ebb5-43b1-a6dd-b3d58d48d4ac');\n",
              "          const dataTable =\n",
              "            await google.colab.kernel.invokeFunction('convertToInteractive',\n",
              "                                                     [key], {});\n",
              "          if (!dataTable) return;\n",
              "\n",
              "          const docLinkHtml = 'Like what you see? Visit the ' +\n",
              "            '<a target=\"_blank\" href=https://colab.research.google.com/notebooks/data_table.ipynb>data table notebook</a>'\n",
              "            + ' to learn more about interactive tables.';\n",
              "          element.innerHTML = '';\n",
              "          dataTable['output_type'] = 'display_data';\n",
              "          await google.colab.output.renderOutput(dataTable, element);\n",
              "          const docLink = document.createElement('div');\n",
              "          docLink.innerHTML = docLinkHtml;\n",
              "          element.appendChild(docLink);\n",
              "        }\n",
              "      </script>\n",
              "    </div>\n",
              "  </div>\n",
              "  "
            ]
          },
          "metadata": {},
          "execution_count": 587
        }
      ]
    },
    {
      "cell_type": "markdown",
      "source": [
        "Volvemos a cambiar los valores de nuestro vector objetivo a 'True' y 'False'"
      ],
      "metadata": {
        "id": "97jN9tq0x_iE"
      }
    },
    {
      "cell_type": "code",
      "source": [
        "to_submit['Transported'] = to_submit['Transported'].replace(1,'True')\n",
        "to_submit['Transported'] = to_submit['Transported'].replace(0,'False')"
      ],
      "metadata": {
        "id": "6zKo9Skix49P"
      },
      "execution_count": 588,
      "outputs": []
    },
    {
      "cell_type": "code",
      "source": [
        "to_submit.head()"
      ],
      "metadata": {
        "colab": {
          "base_uri": "https://localhost:8080/",
          "height": 206
        },
        "id": "xpaIlZt8z82o",
        "outputId": "f871e519-e9ba-4cd3-f734-4d90d36a916b"
      },
      "execution_count": 589,
      "outputs": [
        {
          "output_type": "execute_result",
          "data": {
            "text/plain": [
              "  PassengerId Transported\n",
              "0     0013_01        True\n",
              "1     0018_01       False\n",
              "2     0019_01        True\n",
              "3     0021_01        True\n",
              "4     0023_01        True"
            ],
            "text/html": [
              "\n",
              "  <div id=\"df-b8c58e6a-263a-4af1-b927-cfc1a435cf04\">\n",
              "    <div class=\"colab-df-container\">\n",
              "      <div>\n",
              "<style scoped>\n",
              "    .dataframe tbody tr th:only-of-type {\n",
              "        vertical-align: middle;\n",
              "    }\n",
              "\n",
              "    .dataframe tbody tr th {\n",
              "        vertical-align: top;\n",
              "    }\n",
              "\n",
              "    .dataframe thead th {\n",
              "        text-align: right;\n",
              "    }\n",
              "</style>\n",
              "<table border=\"1\" class=\"dataframe\">\n",
              "  <thead>\n",
              "    <tr style=\"text-align: right;\">\n",
              "      <th></th>\n",
              "      <th>PassengerId</th>\n",
              "      <th>Transported</th>\n",
              "    </tr>\n",
              "  </thead>\n",
              "  <tbody>\n",
              "    <tr>\n",
              "      <th>0</th>\n",
              "      <td>0013_01</td>\n",
              "      <td>True</td>\n",
              "    </tr>\n",
              "    <tr>\n",
              "      <th>1</th>\n",
              "      <td>0018_01</td>\n",
              "      <td>False</td>\n",
              "    </tr>\n",
              "    <tr>\n",
              "      <th>2</th>\n",
              "      <td>0019_01</td>\n",
              "      <td>True</td>\n",
              "    </tr>\n",
              "    <tr>\n",
              "      <th>3</th>\n",
              "      <td>0021_01</td>\n",
              "      <td>True</td>\n",
              "    </tr>\n",
              "    <tr>\n",
              "      <th>4</th>\n",
              "      <td>0023_01</td>\n",
              "      <td>True</td>\n",
              "    </tr>\n",
              "  </tbody>\n",
              "</table>\n",
              "</div>\n",
              "      <button class=\"colab-df-convert\" onclick=\"convertToInteractive('df-b8c58e6a-263a-4af1-b927-cfc1a435cf04')\"\n",
              "              title=\"Convert this dataframe to an interactive table.\"\n",
              "              style=\"display:none;\">\n",
              "        \n",
              "  <svg xmlns=\"http://www.w3.org/2000/svg\" height=\"24px\"viewBox=\"0 0 24 24\"\n",
              "       width=\"24px\">\n",
              "    <path d=\"M0 0h24v24H0V0z\" fill=\"none\"/>\n",
              "    <path d=\"M18.56 5.44l.94 2.06.94-2.06 2.06-.94-2.06-.94-.94-2.06-.94 2.06-2.06.94zm-11 1L8.5 8.5l.94-2.06 2.06-.94-2.06-.94L8.5 2.5l-.94 2.06-2.06.94zm10 10l.94 2.06.94-2.06 2.06-.94-2.06-.94-.94-2.06-.94 2.06-2.06.94z\"/><path d=\"M17.41 7.96l-1.37-1.37c-.4-.4-.92-.59-1.43-.59-.52 0-1.04.2-1.43.59L10.3 9.45l-7.72 7.72c-.78.78-.78 2.05 0 2.83L4 21.41c.39.39.9.59 1.41.59.51 0 1.02-.2 1.41-.59l7.78-7.78 2.81-2.81c.8-.78.8-2.07 0-2.86zM5.41 20L4 18.59l7.72-7.72 1.47 1.35L5.41 20z\"/>\n",
              "  </svg>\n",
              "      </button>\n",
              "      \n",
              "  <style>\n",
              "    .colab-df-container {\n",
              "      display:flex;\n",
              "      flex-wrap:wrap;\n",
              "      gap: 12px;\n",
              "    }\n",
              "\n",
              "    .colab-df-convert {\n",
              "      background-color: #E8F0FE;\n",
              "      border: none;\n",
              "      border-radius: 50%;\n",
              "      cursor: pointer;\n",
              "      display: none;\n",
              "      fill: #1967D2;\n",
              "      height: 32px;\n",
              "      padding: 0 0 0 0;\n",
              "      width: 32px;\n",
              "    }\n",
              "\n",
              "    .colab-df-convert:hover {\n",
              "      background-color: #E2EBFA;\n",
              "      box-shadow: 0px 1px 2px rgba(60, 64, 67, 0.3), 0px 1px 3px 1px rgba(60, 64, 67, 0.15);\n",
              "      fill: #174EA6;\n",
              "    }\n",
              "\n",
              "    [theme=dark] .colab-df-convert {\n",
              "      background-color: #3B4455;\n",
              "      fill: #D2E3FC;\n",
              "    }\n",
              "\n",
              "    [theme=dark] .colab-df-convert:hover {\n",
              "      background-color: #434B5C;\n",
              "      box-shadow: 0px 1px 3px 1px rgba(0, 0, 0, 0.15);\n",
              "      filter: drop-shadow(0px 1px 2px rgba(0, 0, 0, 0.3));\n",
              "      fill: #FFFFFF;\n",
              "    }\n",
              "  </style>\n",
              "\n",
              "      <script>\n",
              "        const buttonEl =\n",
              "          document.querySelector('#df-b8c58e6a-263a-4af1-b927-cfc1a435cf04 button.colab-df-convert');\n",
              "        buttonEl.style.display =\n",
              "          google.colab.kernel.accessAllowed ? 'block' : 'none';\n",
              "\n",
              "        async function convertToInteractive(key) {\n",
              "          const element = document.querySelector('#df-b8c58e6a-263a-4af1-b927-cfc1a435cf04');\n",
              "          const dataTable =\n",
              "            await google.colab.kernel.invokeFunction('convertToInteractive',\n",
              "                                                     [key], {});\n",
              "          if (!dataTable) return;\n",
              "\n",
              "          const docLinkHtml = 'Like what you see? Visit the ' +\n",
              "            '<a target=\"_blank\" href=https://colab.research.google.com/notebooks/data_table.ipynb>data table notebook</a>'\n",
              "            + ' to learn more about interactive tables.';\n",
              "          element.innerHTML = '';\n",
              "          dataTable['output_type'] = 'display_data';\n",
              "          await google.colab.output.renderOutput(dataTable, element);\n",
              "          const docLink = document.createElement('div');\n",
              "          docLink.innerHTML = docLinkHtml;\n",
              "          element.appendChild(docLink);\n",
              "        }\n",
              "      </script>\n",
              "    </div>\n",
              "  </div>\n",
              "  "
            ]
          },
          "metadata": {},
          "execution_count": 589
        }
      ]
    },
    {
      "cell_type": "markdown",
      "source": [
        "### Convertimos a csv para subirlo a Kaggle"
      ],
      "metadata": {
        "id": "fVW-zkCUzP1Z"
      }
    },
    {
      "cell_type": "code",
      "source": [
        "to_submit.to_csv('/content/drive/MyDrive/Coding Dojo/Códigos/Track 3/Deberes /Week 2 - Track 3/spaceship-titanic.zip (Unzipped Files)/kaggle.csv',index = False)"
      ],
      "metadata": {
        "id": "b1G8D4h6zJEh"
      },
      "execution_count": 590,
      "outputs": []
    },
    {
      "cell_type": "markdown",
      "source": [
        "# **Implementación de modelo de red Neuronal**\n",
        "\n"
      ],
      "metadata": {
        "id": "RnR-MLcY5uns"
      }
    },
    {
      "cell_type": "markdown",
      "source": [
        "Mostramos los conjuntos de prueba y entrenamiento que utilizaremos en la red neuronal"
      ],
      "metadata": {
        "id": "LY0Txz546XfQ"
      }
    },
    {
      "cell_type": "markdown",
      "source": [
        "X_train"
      ],
      "metadata": {
        "id": "x8xipgpiUFpb"
      }
    },
    {
      "cell_type": "code",
      "source": [
        "X_train.head()"
      ],
      "metadata": {
        "colab": {
          "base_uri": "https://localhost:8080/",
          "height": 206
        },
        "id": "qSCRMw6J51jL",
        "outputId": "93ed8363-8b39-49fa-f0ab-a99e75b929c7"
      },
      "execution_count": 591,
      "outputs": [
        {
          "output_type": "execute_result",
          "data": {
            "text/plain": [
              "   HomePlanet  CryoSleep  Destination   Age  VIP  RoomService  FoodCourt  \\\n",
              "0           2          0            2  39.0    0          0.0        0.0   \n",
              "1           1          0            2  24.0    0        109.0        9.0   \n",
              "2           2          0            2  58.0    1         43.0     3576.0   \n",
              "3           2          0            2  33.0    0          0.0     1283.0   \n",
              "4           1          0            2  16.0    0        303.0       70.0   \n",
              "\n",
              "   ShoppingMall     Spa  VRDeck  \n",
              "0           0.0     0.0     0.0  \n",
              "1          25.0   549.0    44.0  \n",
              "2           0.0  6715.0    49.0  \n",
              "3         371.0  3329.0   193.0  \n",
              "4         151.0   565.0     2.0  "
            ],
            "text/html": [
              "\n",
              "  <div id=\"df-c5e158b2-e7c6-41f4-ad6e-b35a8a40b8a4\">\n",
              "    <div class=\"colab-df-container\">\n",
              "      <div>\n",
              "<style scoped>\n",
              "    .dataframe tbody tr th:only-of-type {\n",
              "        vertical-align: middle;\n",
              "    }\n",
              "\n",
              "    .dataframe tbody tr th {\n",
              "        vertical-align: top;\n",
              "    }\n",
              "\n",
              "    .dataframe thead th {\n",
              "        text-align: right;\n",
              "    }\n",
              "</style>\n",
              "<table border=\"1\" class=\"dataframe\">\n",
              "  <thead>\n",
              "    <tr style=\"text-align: right;\">\n",
              "      <th></th>\n",
              "      <th>HomePlanet</th>\n",
              "      <th>CryoSleep</th>\n",
              "      <th>Destination</th>\n",
              "      <th>Age</th>\n",
              "      <th>VIP</th>\n",
              "      <th>RoomService</th>\n",
              "      <th>FoodCourt</th>\n",
              "      <th>ShoppingMall</th>\n",
              "      <th>Spa</th>\n",
              "      <th>VRDeck</th>\n",
              "    </tr>\n",
              "  </thead>\n",
              "  <tbody>\n",
              "    <tr>\n",
              "      <th>0</th>\n",
              "      <td>2</td>\n",
              "      <td>0</td>\n",
              "      <td>2</td>\n",
              "      <td>39.0</td>\n",
              "      <td>0</td>\n",
              "      <td>0.0</td>\n",
              "      <td>0.0</td>\n",
              "      <td>0.0</td>\n",
              "      <td>0.0</td>\n",
              "      <td>0.0</td>\n",
              "    </tr>\n",
              "    <tr>\n",
              "      <th>1</th>\n",
              "      <td>1</td>\n",
              "      <td>0</td>\n",
              "      <td>2</td>\n",
              "      <td>24.0</td>\n",
              "      <td>0</td>\n",
              "      <td>109.0</td>\n",
              "      <td>9.0</td>\n",
              "      <td>25.0</td>\n",
              "      <td>549.0</td>\n",
              "      <td>44.0</td>\n",
              "    </tr>\n",
              "    <tr>\n",
              "      <th>2</th>\n",
              "      <td>2</td>\n",
              "      <td>0</td>\n",
              "      <td>2</td>\n",
              "      <td>58.0</td>\n",
              "      <td>1</td>\n",
              "      <td>43.0</td>\n",
              "      <td>3576.0</td>\n",
              "      <td>0.0</td>\n",
              "      <td>6715.0</td>\n",
              "      <td>49.0</td>\n",
              "    </tr>\n",
              "    <tr>\n",
              "      <th>3</th>\n",
              "      <td>2</td>\n",
              "      <td>0</td>\n",
              "      <td>2</td>\n",
              "      <td>33.0</td>\n",
              "      <td>0</td>\n",
              "      <td>0.0</td>\n",
              "      <td>1283.0</td>\n",
              "      <td>371.0</td>\n",
              "      <td>3329.0</td>\n",
              "      <td>193.0</td>\n",
              "    </tr>\n",
              "    <tr>\n",
              "      <th>4</th>\n",
              "      <td>1</td>\n",
              "      <td>0</td>\n",
              "      <td>2</td>\n",
              "      <td>16.0</td>\n",
              "      <td>0</td>\n",
              "      <td>303.0</td>\n",
              "      <td>70.0</td>\n",
              "      <td>151.0</td>\n",
              "      <td>565.0</td>\n",
              "      <td>2.0</td>\n",
              "    </tr>\n",
              "  </tbody>\n",
              "</table>\n",
              "</div>\n",
              "      <button class=\"colab-df-convert\" onclick=\"convertToInteractive('df-c5e158b2-e7c6-41f4-ad6e-b35a8a40b8a4')\"\n",
              "              title=\"Convert this dataframe to an interactive table.\"\n",
              "              style=\"display:none;\">\n",
              "        \n",
              "  <svg xmlns=\"http://www.w3.org/2000/svg\" height=\"24px\"viewBox=\"0 0 24 24\"\n",
              "       width=\"24px\">\n",
              "    <path d=\"M0 0h24v24H0V0z\" fill=\"none\"/>\n",
              "    <path d=\"M18.56 5.44l.94 2.06.94-2.06 2.06-.94-2.06-.94-.94-2.06-.94 2.06-2.06.94zm-11 1L8.5 8.5l.94-2.06 2.06-.94-2.06-.94L8.5 2.5l-.94 2.06-2.06.94zm10 10l.94 2.06.94-2.06 2.06-.94-2.06-.94-.94-2.06-.94 2.06-2.06.94z\"/><path d=\"M17.41 7.96l-1.37-1.37c-.4-.4-.92-.59-1.43-.59-.52 0-1.04.2-1.43.59L10.3 9.45l-7.72 7.72c-.78.78-.78 2.05 0 2.83L4 21.41c.39.39.9.59 1.41.59.51 0 1.02-.2 1.41-.59l7.78-7.78 2.81-2.81c.8-.78.8-2.07 0-2.86zM5.41 20L4 18.59l7.72-7.72 1.47 1.35L5.41 20z\"/>\n",
              "  </svg>\n",
              "      </button>\n",
              "      \n",
              "  <style>\n",
              "    .colab-df-container {\n",
              "      display:flex;\n",
              "      flex-wrap:wrap;\n",
              "      gap: 12px;\n",
              "    }\n",
              "\n",
              "    .colab-df-convert {\n",
              "      background-color: #E8F0FE;\n",
              "      border: none;\n",
              "      border-radius: 50%;\n",
              "      cursor: pointer;\n",
              "      display: none;\n",
              "      fill: #1967D2;\n",
              "      height: 32px;\n",
              "      padding: 0 0 0 0;\n",
              "      width: 32px;\n",
              "    }\n",
              "\n",
              "    .colab-df-convert:hover {\n",
              "      background-color: #E2EBFA;\n",
              "      box-shadow: 0px 1px 2px rgba(60, 64, 67, 0.3), 0px 1px 3px 1px rgba(60, 64, 67, 0.15);\n",
              "      fill: #174EA6;\n",
              "    }\n",
              "\n",
              "    [theme=dark] .colab-df-convert {\n",
              "      background-color: #3B4455;\n",
              "      fill: #D2E3FC;\n",
              "    }\n",
              "\n",
              "    [theme=dark] .colab-df-convert:hover {\n",
              "      background-color: #434B5C;\n",
              "      box-shadow: 0px 1px 3px 1px rgba(0, 0, 0, 0.15);\n",
              "      filter: drop-shadow(0px 1px 2px rgba(0, 0, 0, 0.3));\n",
              "      fill: #FFFFFF;\n",
              "    }\n",
              "  </style>\n",
              "\n",
              "      <script>\n",
              "        const buttonEl =\n",
              "          document.querySelector('#df-c5e158b2-e7c6-41f4-ad6e-b35a8a40b8a4 button.colab-df-convert');\n",
              "        buttonEl.style.display =\n",
              "          google.colab.kernel.accessAllowed ? 'block' : 'none';\n",
              "\n",
              "        async function convertToInteractive(key) {\n",
              "          const element = document.querySelector('#df-c5e158b2-e7c6-41f4-ad6e-b35a8a40b8a4');\n",
              "          const dataTable =\n",
              "            await google.colab.kernel.invokeFunction('convertToInteractive',\n",
              "                                                     [key], {});\n",
              "          if (!dataTable) return;\n",
              "\n",
              "          const docLinkHtml = 'Like what you see? Visit the ' +\n",
              "            '<a target=\"_blank\" href=https://colab.research.google.com/notebooks/data_table.ipynb>data table notebook</a>'\n",
              "            + ' to learn more about interactive tables.';\n",
              "          element.innerHTML = '';\n",
              "          dataTable['output_type'] = 'display_data';\n",
              "          await google.colab.output.renderOutput(dataTable, element);\n",
              "          const docLink = document.createElement('div');\n",
              "          docLink.innerHTML = docLinkHtml;\n",
              "          element.appendChild(docLink);\n",
              "        }\n",
              "      </script>\n",
              "    </div>\n",
              "  </div>\n",
              "  "
            ]
          },
          "metadata": {},
          "execution_count": 591
        }
      ]
    },
    {
      "cell_type": "code",
      "source": [
        "X_train.shape"
      ],
      "metadata": {
        "colab": {
          "base_uri": "https://localhost:8080/"
        },
        "id": "nnDqzSSJ8QmD",
        "outputId": "7c80072a-a45e-494e-b37b-419e949a6233"
      },
      "execution_count": 592,
      "outputs": [
        {
          "output_type": "execute_result",
          "data": {
            "text/plain": [
              "(7255, 10)"
            ]
          },
          "metadata": {},
          "execution_count": 592
        }
      ]
    },
    {
      "cell_type": "markdown",
      "source": [
        "X_test"
      ],
      "metadata": {
        "id": "smahpoTOUH2t"
      }
    },
    {
      "cell_type": "code",
      "source": [
        "X_test.head()"
      ],
      "metadata": {
        "colab": {
          "base_uri": "https://localhost:8080/",
          "height": 206
        },
        "id": "ALcZnlee6eSP",
        "outputId": "1ac69ee8-75a9-49c0-92b0-9fc18ad42f7a"
      },
      "execution_count": 593,
      "outputs": [
        {
          "output_type": "execute_result",
          "data": {
            "text/plain": [
              "   HomePlanet  CryoSleep  Destination   Age  VIP  RoomService  FoodCourt  \\\n",
              "0           1          1            2  27.0    0          0.0        0.0   \n",
              "1           1          0            2  19.0    0          0.0        9.0   \n",
              "2           2          1            1  31.0    0          0.0        0.0   \n",
              "3           2          0            2  38.0    0          0.0     6652.0   \n",
              "4           1          0            2  20.0    0         10.0        0.0   \n",
              "\n",
              "   ShoppingMall     Spa  VRDeck  \n",
              "0           0.0     0.0     0.0  \n",
              "1           0.0  2823.0     0.0  \n",
              "2           0.0     0.0     0.0  \n",
              "3           0.0   181.0   585.0  \n",
              "4         635.0     0.0     0.0  "
            ],
            "text/html": [
              "\n",
              "  <div id=\"df-d5cb62b7-63b5-4fad-a948-10a437f2abf1\">\n",
              "    <div class=\"colab-df-container\">\n",
              "      <div>\n",
              "<style scoped>\n",
              "    .dataframe tbody tr th:only-of-type {\n",
              "        vertical-align: middle;\n",
              "    }\n",
              "\n",
              "    .dataframe tbody tr th {\n",
              "        vertical-align: top;\n",
              "    }\n",
              "\n",
              "    .dataframe thead th {\n",
              "        text-align: right;\n",
              "    }\n",
              "</style>\n",
              "<table border=\"1\" class=\"dataframe\">\n",
              "  <thead>\n",
              "    <tr style=\"text-align: right;\">\n",
              "      <th></th>\n",
              "      <th>HomePlanet</th>\n",
              "      <th>CryoSleep</th>\n",
              "      <th>Destination</th>\n",
              "      <th>Age</th>\n",
              "      <th>VIP</th>\n",
              "      <th>RoomService</th>\n",
              "      <th>FoodCourt</th>\n",
              "      <th>ShoppingMall</th>\n",
              "      <th>Spa</th>\n",
              "      <th>VRDeck</th>\n",
              "    </tr>\n",
              "  </thead>\n",
              "  <tbody>\n",
              "    <tr>\n",
              "      <th>0</th>\n",
              "      <td>1</td>\n",
              "      <td>1</td>\n",
              "      <td>2</td>\n",
              "      <td>27.0</td>\n",
              "      <td>0</td>\n",
              "      <td>0.0</td>\n",
              "      <td>0.0</td>\n",
              "      <td>0.0</td>\n",
              "      <td>0.0</td>\n",
              "      <td>0.0</td>\n",
              "    </tr>\n",
              "    <tr>\n",
              "      <th>1</th>\n",
              "      <td>1</td>\n",
              "      <td>0</td>\n",
              "      <td>2</td>\n",
              "      <td>19.0</td>\n",
              "      <td>0</td>\n",
              "      <td>0.0</td>\n",
              "      <td>9.0</td>\n",
              "      <td>0.0</td>\n",
              "      <td>2823.0</td>\n",
              "      <td>0.0</td>\n",
              "    </tr>\n",
              "    <tr>\n",
              "      <th>2</th>\n",
              "      <td>2</td>\n",
              "      <td>1</td>\n",
              "      <td>1</td>\n",
              "      <td>31.0</td>\n",
              "      <td>0</td>\n",
              "      <td>0.0</td>\n",
              "      <td>0.0</td>\n",
              "      <td>0.0</td>\n",
              "      <td>0.0</td>\n",
              "      <td>0.0</td>\n",
              "    </tr>\n",
              "    <tr>\n",
              "      <th>3</th>\n",
              "      <td>2</td>\n",
              "      <td>0</td>\n",
              "      <td>2</td>\n",
              "      <td>38.0</td>\n",
              "      <td>0</td>\n",
              "      <td>0.0</td>\n",
              "      <td>6652.0</td>\n",
              "      <td>0.0</td>\n",
              "      <td>181.0</td>\n",
              "      <td>585.0</td>\n",
              "    </tr>\n",
              "    <tr>\n",
              "      <th>4</th>\n",
              "      <td>1</td>\n",
              "      <td>0</td>\n",
              "      <td>2</td>\n",
              "      <td>20.0</td>\n",
              "      <td>0</td>\n",
              "      <td>10.0</td>\n",
              "      <td>0.0</td>\n",
              "      <td>635.0</td>\n",
              "      <td>0.0</td>\n",
              "      <td>0.0</td>\n",
              "    </tr>\n",
              "  </tbody>\n",
              "</table>\n",
              "</div>\n",
              "      <button class=\"colab-df-convert\" onclick=\"convertToInteractive('df-d5cb62b7-63b5-4fad-a948-10a437f2abf1')\"\n",
              "              title=\"Convert this dataframe to an interactive table.\"\n",
              "              style=\"display:none;\">\n",
              "        \n",
              "  <svg xmlns=\"http://www.w3.org/2000/svg\" height=\"24px\"viewBox=\"0 0 24 24\"\n",
              "       width=\"24px\">\n",
              "    <path d=\"M0 0h24v24H0V0z\" fill=\"none\"/>\n",
              "    <path d=\"M18.56 5.44l.94 2.06.94-2.06 2.06-.94-2.06-.94-.94-2.06-.94 2.06-2.06.94zm-11 1L8.5 8.5l.94-2.06 2.06-.94-2.06-.94L8.5 2.5l-.94 2.06-2.06.94zm10 10l.94 2.06.94-2.06 2.06-.94-2.06-.94-.94-2.06-.94 2.06-2.06.94z\"/><path d=\"M17.41 7.96l-1.37-1.37c-.4-.4-.92-.59-1.43-.59-.52 0-1.04.2-1.43.59L10.3 9.45l-7.72 7.72c-.78.78-.78 2.05 0 2.83L4 21.41c.39.39.9.59 1.41.59.51 0 1.02-.2 1.41-.59l7.78-7.78 2.81-2.81c.8-.78.8-2.07 0-2.86zM5.41 20L4 18.59l7.72-7.72 1.47 1.35L5.41 20z\"/>\n",
              "  </svg>\n",
              "      </button>\n",
              "      \n",
              "  <style>\n",
              "    .colab-df-container {\n",
              "      display:flex;\n",
              "      flex-wrap:wrap;\n",
              "      gap: 12px;\n",
              "    }\n",
              "\n",
              "    .colab-df-convert {\n",
              "      background-color: #E8F0FE;\n",
              "      border: none;\n",
              "      border-radius: 50%;\n",
              "      cursor: pointer;\n",
              "      display: none;\n",
              "      fill: #1967D2;\n",
              "      height: 32px;\n",
              "      padding: 0 0 0 0;\n",
              "      width: 32px;\n",
              "    }\n",
              "\n",
              "    .colab-df-convert:hover {\n",
              "      background-color: #E2EBFA;\n",
              "      box-shadow: 0px 1px 2px rgba(60, 64, 67, 0.3), 0px 1px 3px 1px rgba(60, 64, 67, 0.15);\n",
              "      fill: #174EA6;\n",
              "    }\n",
              "\n",
              "    [theme=dark] .colab-df-convert {\n",
              "      background-color: #3B4455;\n",
              "      fill: #D2E3FC;\n",
              "    }\n",
              "\n",
              "    [theme=dark] .colab-df-convert:hover {\n",
              "      background-color: #434B5C;\n",
              "      box-shadow: 0px 1px 3px 1px rgba(0, 0, 0, 0.15);\n",
              "      filter: drop-shadow(0px 1px 2px rgba(0, 0, 0, 0.3));\n",
              "      fill: #FFFFFF;\n",
              "    }\n",
              "  </style>\n",
              "\n",
              "      <script>\n",
              "        const buttonEl =\n",
              "          document.querySelector('#df-d5cb62b7-63b5-4fad-a948-10a437f2abf1 button.colab-df-convert');\n",
              "        buttonEl.style.display =\n",
              "          google.colab.kernel.accessAllowed ? 'block' : 'none';\n",
              "\n",
              "        async function convertToInteractive(key) {\n",
              "          const element = document.querySelector('#df-d5cb62b7-63b5-4fad-a948-10a437f2abf1');\n",
              "          const dataTable =\n",
              "            await google.colab.kernel.invokeFunction('convertToInteractive',\n",
              "                                                     [key], {});\n",
              "          if (!dataTable) return;\n",
              "\n",
              "          const docLinkHtml = 'Like what you see? Visit the ' +\n",
              "            '<a target=\"_blank\" href=https://colab.research.google.com/notebooks/data_table.ipynb>data table notebook</a>'\n",
              "            + ' to learn more about interactive tables.';\n",
              "          element.innerHTML = '';\n",
              "          dataTable['output_type'] = 'display_data';\n",
              "          await google.colab.output.renderOutput(dataTable, element);\n",
              "          const docLink = document.createElement('div');\n",
              "          docLink.innerHTML = docLinkHtml;\n",
              "          element.appendChild(docLink);\n",
              "        }\n",
              "      </script>\n",
              "    </div>\n",
              "  </div>\n",
              "  "
            ]
          },
          "metadata": {},
          "execution_count": 593
        }
      ]
    },
    {
      "cell_type": "code",
      "source": [
        "X_test.shape"
      ],
      "metadata": {
        "colab": {
          "base_uri": "https://localhost:8080/"
        },
        "id": "nKFdzkXZ8T7y",
        "outputId": "75a3e70e-c1ee-46a8-9601-9083fd8923fa"
      },
      "execution_count": 594,
      "outputs": [
        {
          "output_type": "execute_result",
          "data": {
            "text/plain": [
              "(4277, 10)"
            ]
          },
          "metadata": {},
          "execution_count": 594
        }
      ]
    },
    {
      "cell_type": "markdown",
      "source": [
        "y_train"
      ],
      "metadata": {
        "id": "b4WU0_cvUJkN"
      }
    },
    {
      "cell_type": "code",
      "source": [
        "y_train.head()"
      ],
      "metadata": {
        "colab": {
          "base_uri": "https://localhost:8080/"
        },
        "id": "1Q1NGqBF6jFK",
        "outputId": "3ab0f2ab-1e0c-46ae-b9b5-6517e8409ed7"
      },
      "execution_count": 595,
      "outputs": [
        {
          "output_type": "execute_result",
          "data": {
            "text/plain": [
              "0    0\n",
              "1    1\n",
              "2    0\n",
              "3    0\n",
              "4    1\n",
              "Name: Transported, dtype: int64"
            ]
          },
          "metadata": {},
          "execution_count": 595
        }
      ]
    },
    {
      "cell_type": "markdown",
      "source": [
        "Importamos la librerías que necesitamos para la red neuronal"
      ],
      "metadata": {
        "id": "5Yq26RDS9_9G"
      }
    },
    {
      "cell_type": "code",
      "source": [
        "# Importamos librerías\n",
        "\n",
        "from sklearn.preprocessing import StandardScaler\n",
        "from tensorflow.keras.models import Sequential\n",
        "from tensorflow.keras.layers import Dense, Dropout"
      ],
      "metadata": {
        "id": "mtAZXzXn6mta"
      },
      "execution_count": 596,
      "outputs": []
    },
    {
      "cell_type": "markdown",
      "source": [
        "## Preprocesamiento de datos \n",
        "\n",
        "Escalamos los datos\n"
      ],
      "metadata": {
        "id": "kLZg7vMX-lkq"
      }
    },
    {
      "cell_type": "code",
      "source": [
        "scaler = StandardScaler()\n",
        "X_train = scaler.fit_transform(X_train)\n",
        "X_test = scaler.transform(X_test)"
      ],
      "metadata": {
        "id": "WaBfF6LZPkWg"
      },
      "execution_count": 597,
      "outputs": []
    },
    {
      "cell_type": "markdown",
      "source": [
        "## Red neuronal "
      ],
      "metadata": {
        "id": "gXTtY4ex-qo9"
      }
    },
    {
      "cell_type": "markdown",
      "source": [
        "**Paso 1:** Definir la estructura de la red neuronal"
      ],
      "metadata": {
        "id": "_Tp-dvlk-tgk"
      }
    },
    {
      "cell_type": "code",
      "source": [
        "# Guardamos la cantidad de características que tendrá nuestra entrada\n",
        "input_shape = X_train.shape[1]\n",
        "input_shape"
      ],
      "metadata": {
        "colab": {
          "base_uri": "https://localhost:8080/"
        },
        "id": "_C7pKDQ0-oLC",
        "outputId": "de531109-e363-4a89-f7ef-51f4a9174ae7"
      },
      "execution_count": 598,
      "outputs": [
        {
          "output_type": "execute_result",
          "data": {
            "text/plain": [
              "10"
            ]
          },
          "metadata": {},
          "execution_count": 598
        }
      ]
    },
    {
      "cell_type": "code",
      "source": [
        "#instanciamos el modelo, en este caso usaremos el modelo 'secuencial'\n",
        "model = Sequential()"
      ],
      "metadata": {
        "id": "J3tvy4v5_Mx7"
      },
      "execution_count": 599,
      "outputs": []
    },
    {
      "cell_type": "markdown",
      "source": [
        "Definimos las capas ocultas que tendrá el modelo"
      ],
      "metadata": {
        "id": "RC3CnMH5_VdE"
      }
    },
    {
      "cell_type": "code",
      "source": [
        "# Primera capa oculta\n",
        "model.add(Dense(100, # Cuántas neuronas tienes en tu primera capa oculta\n",
        "                input_dim = input_shape, #numero de columnas que tiene el df\n",
        "                activation = 'relu')) # ¿Qué función de activación estás usando?\n",
        "model.add(Dropout(.2)) #funcion de dilucion para evitar el overfitting\n",
        "\n",
        "\n",
        "#Seguna capa oculta\n",
        "\n",
        "model.add(Dense(50, \n",
        "                activation = 'relu'))\n",
        "model.add(Dropout(0.2)) #funcion de dilucion para evitar el overfitting\n",
        "\n",
        "\n",
        "#Tercera capa oculta \n",
        "\n",
        "model.add(Dense(20, \n",
        "                activation = 'relu'))\n",
        "model.add(Dropout(0.2))\n",
        "\n",
        "#Capa de salida \n",
        "model.add(Dense(1, activation = 'sigmoid'))\n"
      ],
      "metadata": {
        "id": "o9Vf9fmO_Fne"
      },
      "execution_count": 600,
      "outputs": []
    },
    {
      "cell_type": "markdown",
      "source": [
        "**Paso 2:** Compilar el modelo"
      ],
      "metadata": {
        "id": "jRrRWwmWAj1V"
      }
    },
    {
      "cell_type": "code",
      "source": [
        "#compilamos el modelo\n",
        "\n",
        "model.compile(optimizer = 'adam', loss = 'binary_crossentropy', metrics=['accuracy'])\n"
      ],
      "metadata": {
        "id": "I1c-UchJAaEH"
      },
      "execution_count": 601,
      "outputs": []
    },
    {
      "cell_type": "markdown",
      "source": [
        "**Paso 3:** Entrenar el modelo"
      ],
      "metadata": {
        "id": "P1vpGmJKAm53"
      }
    },
    {
      "cell_type": "code",
      "source": [
        "#entrenamos el modelo\n",
        "history = model.fit(X_train, y_train, \n",
        "                    epochs=100)"
      ],
      "metadata": {
        "colab": {
          "base_uri": "https://localhost:8080/"
        },
        "id": "s6ojS1vlAa6t",
        "outputId": "d0e330b7-667c-414e-dac3-809024cffce9"
      },
      "execution_count": 602,
      "outputs": [
        {
          "output_type": "stream",
          "name": "stdout",
          "text": [
            "Epoch 1/100\n",
            "227/227 [==============================] - 1s 2ms/step - loss: 0.5318 - accuracy: 0.7563\n",
            "Epoch 2/100\n",
            "227/227 [==============================] - 1s 2ms/step - loss: 0.4695 - accuracy: 0.7824\n",
            "Epoch 3/100\n",
            "227/227 [==============================] - 1s 2ms/step - loss: 0.4512 - accuracy: 0.7904\n",
            "Epoch 4/100\n",
            "227/227 [==============================] - 0s 2ms/step - loss: 0.4459 - accuracy: 0.7908\n",
            "Epoch 5/100\n",
            "227/227 [==============================] - 0s 2ms/step - loss: 0.4394 - accuracy: 0.7930\n",
            "Epoch 6/100\n",
            "227/227 [==============================] - 0s 2ms/step - loss: 0.4386 - accuracy: 0.7910\n",
            "Epoch 7/100\n",
            "227/227 [==============================] - 0s 2ms/step - loss: 0.4362 - accuracy: 0.7988\n",
            "Epoch 8/100\n",
            "227/227 [==============================] - 0s 2ms/step - loss: 0.4336 - accuracy: 0.7978\n",
            "Epoch 9/100\n",
            "227/227 [==============================] - 0s 2ms/step - loss: 0.4285 - accuracy: 0.8000\n",
            "Epoch 10/100\n",
            "227/227 [==============================] - 0s 2ms/step - loss: 0.4301 - accuracy: 0.8015\n",
            "Epoch 11/100\n",
            "227/227 [==============================] - 1s 2ms/step - loss: 0.4239 - accuracy: 0.7964\n",
            "Epoch 12/100\n",
            "227/227 [==============================] - 1s 4ms/step - loss: 0.4278 - accuracy: 0.7999\n",
            "Epoch 13/100\n",
            "227/227 [==============================] - 1s 4ms/step - loss: 0.4273 - accuracy: 0.7966\n",
            "Epoch 14/100\n",
            "227/227 [==============================] - 1s 3ms/step - loss: 0.4234 - accuracy: 0.7982\n",
            "Epoch 15/100\n",
            "227/227 [==============================] - 1s 4ms/step - loss: 0.4274 - accuracy: 0.7978\n",
            "Epoch 16/100\n",
            "227/227 [==============================] - 1s 4ms/step - loss: 0.4206 - accuracy: 0.8022\n",
            "Epoch 17/100\n",
            "227/227 [==============================] - 1s 4ms/step - loss: 0.4260 - accuracy: 0.8021\n",
            "Epoch 18/100\n",
            "227/227 [==============================] - 1s 4ms/step - loss: 0.4216 - accuracy: 0.8026\n",
            "Epoch 19/100\n",
            "227/227 [==============================] - 1s 4ms/step - loss: 0.4221 - accuracy: 0.8014\n",
            "Epoch 20/100\n",
            "227/227 [==============================] - 1s 4ms/step - loss: 0.4203 - accuracy: 0.8000\n",
            "Epoch 21/100\n",
            "227/227 [==============================] - 1s 4ms/step - loss: 0.4205 - accuracy: 0.8012\n",
            "Epoch 22/100\n",
            "227/227 [==============================] - 1s 6ms/step - loss: 0.4208 - accuracy: 0.8006\n",
            "Epoch 23/100\n",
            "227/227 [==============================] - 1s 2ms/step - loss: 0.4173 - accuracy: 0.7990\n",
            "Epoch 24/100\n",
            "227/227 [==============================] - 1s 2ms/step - loss: 0.4189 - accuracy: 0.8014\n",
            "Epoch 25/100\n",
            "227/227 [==============================] - 1s 2ms/step - loss: 0.4210 - accuracy: 0.8041\n",
            "Epoch 26/100\n",
            "227/227 [==============================] - 0s 2ms/step - loss: 0.4196 - accuracy: 0.8026\n",
            "Epoch 27/100\n",
            "227/227 [==============================] - 1s 2ms/step - loss: 0.4142 - accuracy: 0.8037\n",
            "Epoch 28/100\n",
            "227/227 [==============================] - 0s 2ms/step - loss: 0.4171 - accuracy: 0.8021\n",
            "Epoch 29/100\n",
            "227/227 [==============================] - 0s 2ms/step - loss: 0.4186 - accuracy: 0.8021\n",
            "Epoch 30/100\n",
            "227/227 [==============================] - 1s 2ms/step - loss: 0.4163 - accuracy: 0.8052\n",
            "Epoch 31/100\n",
            "227/227 [==============================] - 1s 2ms/step - loss: 0.4151 - accuracy: 0.8018\n",
            "Epoch 32/100\n",
            "227/227 [==============================] - 1s 2ms/step - loss: 0.4160 - accuracy: 0.8018\n",
            "Epoch 33/100\n",
            "227/227 [==============================] - 1s 2ms/step - loss: 0.4163 - accuracy: 0.8030\n",
            "Epoch 34/100\n",
            "227/227 [==============================] - 0s 2ms/step - loss: 0.4163 - accuracy: 0.8037\n",
            "Epoch 35/100\n",
            "227/227 [==============================] - 0s 2ms/step - loss: 0.4131 - accuracy: 0.8022\n",
            "Epoch 36/100\n",
            "227/227 [==============================] - 0s 2ms/step - loss: 0.4179 - accuracy: 0.8037\n",
            "Epoch 37/100\n",
            "227/227 [==============================] - 1s 2ms/step - loss: 0.4151 - accuracy: 0.8036\n",
            "Epoch 38/100\n",
            "227/227 [==============================] - 0s 2ms/step - loss: 0.4131 - accuracy: 0.8045\n",
            "Epoch 39/100\n",
            "227/227 [==============================] - 1s 2ms/step - loss: 0.4118 - accuracy: 0.8061\n",
            "Epoch 40/100\n",
            "227/227 [==============================] - 0s 2ms/step - loss: 0.4130 - accuracy: 0.8011\n",
            "Epoch 41/100\n",
            "227/227 [==============================] - 0s 2ms/step - loss: 0.4118 - accuracy: 0.8051\n",
            "Epoch 42/100\n",
            "227/227 [==============================] - 0s 2ms/step - loss: 0.4111 - accuracy: 0.8081\n",
            "Epoch 43/100\n",
            "227/227 [==============================] - 1s 2ms/step - loss: 0.4093 - accuracy: 0.8076\n",
            "Epoch 44/100\n",
            "227/227 [==============================] - 0s 2ms/step - loss: 0.4123 - accuracy: 0.8025\n",
            "Epoch 45/100\n",
            "227/227 [==============================] - 0s 2ms/step - loss: 0.4139 - accuracy: 0.8036\n",
            "Epoch 46/100\n",
            "227/227 [==============================] - 0s 2ms/step - loss: 0.4125 - accuracy: 0.8041\n",
            "Epoch 47/100\n",
            "227/227 [==============================] - 0s 2ms/step - loss: 0.4132 - accuracy: 0.8066\n",
            "Epoch 48/100\n",
            "227/227 [==============================] - 0s 2ms/step - loss: 0.4107 - accuracy: 0.8041\n",
            "Epoch 49/100\n",
            "227/227 [==============================] - 1s 2ms/step - loss: 0.4082 - accuracy: 0.8052\n",
            "Epoch 50/100\n",
            "227/227 [==============================] - 0s 2ms/step - loss: 0.4094 - accuracy: 0.8040\n",
            "Epoch 51/100\n",
            "227/227 [==============================] - 0s 2ms/step - loss: 0.4105 - accuracy: 0.8050\n",
            "Epoch 52/100\n",
            "227/227 [==============================] - 1s 2ms/step - loss: 0.4132 - accuracy: 0.8034\n",
            "Epoch 53/100\n",
            "227/227 [==============================] - 0s 2ms/step - loss: 0.4082 - accuracy: 0.8032\n",
            "Epoch 54/100\n",
            "227/227 [==============================] - 1s 2ms/step - loss: 0.4120 - accuracy: 0.8045\n",
            "Epoch 55/100\n",
            "227/227 [==============================] - 0s 2ms/step - loss: 0.4095 - accuracy: 0.8040\n",
            "Epoch 56/100\n",
            "227/227 [==============================] - 1s 2ms/step - loss: 0.4101 - accuracy: 0.8043\n",
            "Epoch 57/100\n",
            "227/227 [==============================] - 0s 2ms/step - loss: 0.4094 - accuracy: 0.8072\n",
            "Epoch 58/100\n",
            "227/227 [==============================] - 1s 2ms/step - loss: 0.4090 - accuracy: 0.8044\n",
            "Epoch 59/100\n",
            "227/227 [==============================] - 0s 2ms/step - loss: 0.4106 - accuracy: 0.8036\n",
            "Epoch 60/100\n",
            "227/227 [==============================] - 0s 2ms/step - loss: 0.4057 - accuracy: 0.8072\n",
            "Epoch 61/100\n",
            "227/227 [==============================] - 1s 2ms/step - loss: 0.4042 - accuracy: 0.8033\n",
            "Epoch 62/100\n",
            "227/227 [==============================] - 0s 2ms/step - loss: 0.4045 - accuracy: 0.8077\n",
            "Epoch 63/100\n",
            "227/227 [==============================] - 0s 2ms/step - loss: 0.4083 - accuracy: 0.8047\n",
            "Epoch 64/100\n",
            "227/227 [==============================] - 1s 2ms/step - loss: 0.4087 - accuracy: 0.8044\n",
            "Epoch 65/100\n",
            "227/227 [==============================] - 0s 2ms/step - loss: 0.4081 - accuracy: 0.8051\n",
            "Epoch 66/100\n",
            "227/227 [==============================] - 0s 2ms/step - loss: 0.4089 - accuracy: 0.8030\n",
            "Epoch 67/100\n",
            "227/227 [==============================] - 0s 2ms/step - loss: 0.4107 - accuracy: 0.8043\n",
            "Epoch 68/100\n",
            "227/227 [==============================] - 1s 2ms/step - loss: 0.4077 - accuracy: 0.8059\n",
            "Epoch 69/100\n",
            "227/227 [==============================] - 0s 2ms/step - loss: 0.4058 - accuracy: 0.8061\n",
            "Epoch 70/100\n",
            "227/227 [==============================] - 1s 2ms/step - loss: 0.4080 - accuracy: 0.8052\n",
            "Epoch 71/100\n",
            "227/227 [==============================] - 0s 2ms/step - loss: 0.4080 - accuracy: 0.8073\n",
            "Epoch 72/100\n",
            "227/227 [==============================] - 1s 2ms/step - loss: 0.4076 - accuracy: 0.8018\n",
            "Epoch 73/100\n",
            "227/227 [==============================] - 1s 2ms/step - loss: 0.4062 - accuracy: 0.8044\n",
            "Epoch 74/100\n",
            "227/227 [==============================] - 0s 2ms/step - loss: 0.4091 - accuracy: 0.8081\n",
            "Epoch 75/100\n",
            "227/227 [==============================] - 0s 2ms/step - loss: 0.4053 - accuracy: 0.8065\n",
            "Epoch 76/100\n",
            "227/227 [==============================] - 1s 2ms/step - loss: 0.4060 - accuracy: 0.8073\n",
            "Epoch 77/100\n",
            "227/227 [==============================] - 0s 2ms/step - loss: 0.4046 - accuracy: 0.8074\n",
            "Epoch 78/100\n",
            "227/227 [==============================] - 1s 2ms/step - loss: 0.4037 - accuracy: 0.8058\n",
            "Epoch 79/100\n",
            "227/227 [==============================] - 0s 2ms/step - loss: 0.4038 - accuracy: 0.8048\n",
            "Epoch 80/100\n",
            "227/227 [==============================] - 1s 2ms/step - loss: 0.4043 - accuracy: 0.8073\n",
            "Epoch 81/100\n",
            "227/227 [==============================] - 0s 2ms/step - loss: 0.4069 - accuracy: 0.8062\n",
            "Epoch 82/100\n",
            "227/227 [==============================] - 1s 2ms/step - loss: 0.4074 - accuracy: 0.8077\n",
            "Epoch 83/100\n",
            "227/227 [==============================] - 0s 2ms/step - loss: 0.4055 - accuracy: 0.8051\n",
            "Epoch 84/100\n",
            "227/227 [==============================] - 1s 2ms/step - loss: 0.4066 - accuracy: 0.8069\n",
            "Epoch 85/100\n",
            "227/227 [==============================] - 0s 2ms/step - loss: 0.4066 - accuracy: 0.8058\n",
            "Epoch 86/100\n",
            "227/227 [==============================] - 1s 2ms/step - loss: 0.4046 - accuracy: 0.8052\n",
            "Epoch 87/100\n",
            "227/227 [==============================] - 0s 2ms/step - loss: 0.4023 - accuracy: 0.8063\n",
            "Epoch 88/100\n",
            "227/227 [==============================] - 1s 2ms/step - loss: 0.4015 - accuracy: 0.8051\n",
            "Epoch 89/100\n",
            "227/227 [==============================] - 0s 2ms/step - loss: 0.4017 - accuracy: 0.8083\n",
            "Epoch 90/100\n",
            "227/227 [==============================] - 1s 2ms/step - loss: 0.4036 - accuracy: 0.8070\n",
            "Epoch 91/100\n",
            "227/227 [==============================] - 0s 2ms/step - loss: 0.4023 - accuracy: 0.8069\n",
            "Epoch 92/100\n",
            "227/227 [==============================] - 1s 2ms/step - loss: 0.4041 - accuracy: 0.8074\n",
            "Epoch 93/100\n",
            "227/227 [==============================] - 0s 2ms/step - loss: 0.4025 - accuracy: 0.8057\n",
            "Epoch 94/100\n",
            "227/227 [==============================] - 1s 2ms/step - loss: 0.4023 - accuracy: 0.8092\n",
            "Epoch 95/100\n",
            "227/227 [==============================] - 0s 2ms/step - loss: 0.4017 - accuracy: 0.8079\n",
            "Epoch 96/100\n",
            "227/227 [==============================] - 1s 2ms/step - loss: 0.4020 - accuracy: 0.8076\n",
            "Epoch 97/100\n",
            "227/227 [==============================] - 1s 2ms/step - loss: 0.4030 - accuracy: 0.8058\n",
            "Epoch 98/100\n",
            "227/227 [==============================] - 1s 2ms/step - loss: 0.4024 - accuracy: 0.8087\n",
            "Epoch 99/100\n",
            "227/227 [==============================] - 1s 2ms/step - loss: 0.4032 - accuracy: 0.8092\n",
            "Epoch 100/100\n",
            "227/227 [==============================] - 1s 2ms/step - loss: 0.4026 - accuracy: 0.8045\n"
          ]
        }
      ]
    },
    {
      "cell_type": "code",
      "source": [
        "# Visualizar la perdida\n",
        "plt.plot(history.history['loss'], label='Train loss')\n",
        "\n",
        "plt.legend();"
      ],
      "metadata": {
        "colab": {
          "base_uri": "https://localhost:8080/",
          "height": 265
        },
        "id": "aE4QNBjzAub6",
        "outputId": "589696e1-704e-47d8-e9ce-000a6cab91bb"
      },
      "execution_count": 603,
      "outputs": [
        {
          "output_type": "display_data",
          "data": {
            "text/plain": [
              "<Figure size 432x288 with 1 Axes>"
            ],
            "image/png": "[encoded data removed]"
          },
          "metadata": {
            "needs_background": "light"
          }
        }
      ]
    },
    {
      "cell_type": "markdown",
      "source": [
        "*Plantilla para la estructuración de la red neuronal utilizada y obtenida de la plataforma **Coding Dojo**.* "
      ],
      "metadata": {
        "id": "IoWwLcKqUUnq"
      }
    },
    {
      "cell_type": "markdown",
      "source": [
        "Realizamos predicciones"
      ],
      "metadata": {
        "id": "-JX9DqzOf-Ll"
      }
    },
    {
      "cell_type": "code",
      "source": [
        "predictions_rn = model.predict(X_test)\n",
        "predictions_rn"
      ],
      "metadata": {
        "colab": {
          "base_uri": "https://localhost:8080/"
        },
        "id": "rEj97J5DAy4S",
        "outputId": "275b7233-514f-44af-fdbd-6d058eb825b5"
      },
      "execution_count": 604,
      "outputs": [
        {
          "output_type": "execute_result",
          "data": {
            "text/plain": [
              "array([[0.5944637 ],\n",
              "       [0.00211948],\n",
              "       [0.99746454],\n",
              "       ...,\n",
              "       [0.9530847 ],\n",
              "       [0.6048715 ],\n",
              "       [0.65180075]], dtype=float32)"
            ]
          },
          "metadata": {},
          "execution_count": 604
        }
      ]
    },
    {
      "cell_type": "markdown",
      "source": [
        "Según el porcentaje de probabilidad de que la categoría pertenezca a '0' y '1', modificamos las predicciones para que se ajusten a los parámetros que requiere kaggle"
      ],
      "metadata": {
        "id": "1WwoTSt7gAXb"
      }
    },
    {
      "cell_type": "code",
      "source": [
        "#filtro para cambiar las predicciones a '0' y '1'\n",
        "for i in range (len(predictions_rn)):\n",
        "  if predictions_rn[i] > 0.50:\n",
        "    predictions_rn[i] = 1\n",
        "  else:\n",
        "    predictions_rn[i] = 0\n"
      ],
      "metadata": {
        "id": "zYXas1ixEO8w"
      },
      "execution_count": 605,
      "outputs": []
    },
    {
      "cell_type": "code",
      "source": [
        "#verificamos los cambios\n",
        "predictions_rn"
      ],
      "metadata": {
        "colab": {
          "base_uri": "https://localhost:8080/"
        },
        "id": "lemyfKs3QjSf",
        "outputId": "dc152a59-0455-4d21-91d9-dd06daea9457"
      },
      "execution_count": 606,
      "outputs": [
        {
          "output_type": "execute_result",
          "data": {
            "text/plain": [
              "array([[1.],\n",
              "       [0.],\n",
              "       [1.],\n",
              "       ...,\n",
              "       [1.],\n",
              "       [1.],\n",
              "       [1.]], dtype=float32)"
            ]
          },
          "metadata": {},
          "execution_count": 606
        }
      ]
    },
    {
      "cell_type": "markdown",
      "source": [
        "Convertimos todos los datos a enteros\n"
      ],
      "metadata": {
        "id": "65CZLCCtRH5b"
      }
    },
    {
      "cell_type": "code",
      "source": [
        "#creamos lista para alojar allí los nuevos valores \n",
        "\n",
        "int_predictions_rn = []"
      ],
      "metadata": {
        "id": "Fm2O3_Bb1wnf"
      },
      "execution_count": 607,
      "outputs": []
    },
    {
      "cell_type": "code",
      "source": [
        "#bucle para ingresar valores enteros a la nueva lista\n",
        "for i in range (len(predictions_rn)):\n",
        "  to_int = int(predictions_rn[i])\n",
        "  int_predictions_rn.append(to_int)"
      ],
      "metadata": {
        "id": "zUXT0zQURORF"
      },
      "execution_count": 608,
      "outputs": []
    },
    {
      "cell_type": "code",
      "source": [
        "#verificamos si la lista fue creada correctamente\n",
        "int_predictions_rn[0:5]"
      ],
      "metadata": {
        "id": "W4uKCVxKRXXU",
        "colab": {
          "base_uri": "https://localhost:8080/"
        },
        "outputId": "6b6f8626-31d6-406c-e396-e6f0153b3075"
      },
      "execution_count": 609,
      "outputs": [
        {
          "output_type": "execute_result",
          "data": {
            "text/plain": [
              "[1, 0, 1, 1, 1]"
            ]
          },
          "metadata": {},
          "execution_count": 609
        }
      ]
    },
    {
      "cell_type": "markdown",
      "source": [
        "Proceso para poder subir las respuestas a Kaggle"
      ],
      "metadata": {
        "id": "ALtBosnT2e8p"
      }
    },
    {
      "cell_type": "code",
      "source": [
        "#creamos una nueva df con el formato para la subida de respuestas a kaggle\n",
        "to_submit_rn = pd.DataFrame({'PassengerId':df_prueba['PassengerId'],'Transported':int_predictions_rn})"
      ],
      "metadata": {
        "id": "QeaUBHT-2Bl1"
      },
      "execution_count": 610,
      "outputs": []
    },
    {
      "cell_type": "code",
      "source": [
        "#mostramos la df\n",
        "to_submit_rn"
      ],
      "metadata": {
        "colab": {
          "base_uri": "https://localhost:8080/",
          "height": 424
        },
        "id": "jrCLJEvN2V2R",
        "outputId": "5ef41549-bcb3-4a68-ff01-7e2ff3c42166"
      },
      "execution_count": 611,
      "outputs": [
        {
          "output_type": "execute_result",
          "data": {
            "text/plain": [
              "     PassengerId  Transported\n",
              "0        0013_01            1\n",
              "1        0018_01            0\n",
              "2        0019_01            1\n",
              "3        0021_01            1\n",
              "4        0023_01            1\n",
              "...          ...          ...\n",
              "4272     9266_02            1\n",
              "4273     9269_01            0\n",
              "4274     9271_01            1\n",
              "4275     9273_01            1\n",
              "4276     9277_01            1\n",
              "\n",
              "[4277 rows x 2 columns]"
            ],
            "text/html": [
              "\n",
              "  <div id=\"df-13f93f5d-cdda-4a0b-8949-570914d83126\">\n",
              "    <div class=\"colab-df-container\">\n",
              "      <div>\n",
              "<style scoped>\n",
              "    .dataframe tbody tr th:only-of-type {\n",
              "        vertical-align: middle;\n",
              "    }\n",
              "\n",
              "    .dataframe tbody tr th {\n",
              "        vertical-align: top;\n",
              "    }\n",
              "\n",
              "    .dataframe thead th {\n",
              "        text-align: right;\n",
              "    }\n",
              "</style>\n",
              "<table border=\"1\" class=\"dataframe\">\n",
              "  <thead>\n",
              "    <tr style=\"text-align: right;\">\n",
              "      <th></th>\n",
              "      <th>PassengerId</th>\n",
              "      <th>Transported</th>\n",
              "    </tr>\n",
              "  </thead>\n",
              "  <tbody>\n",
              "    <tr>\n",
              "      <th>0</th>\n",
              "      <td>0013_01</td>\n",
              "      <td>1</td>\n",
              "    </tr>\n",
              "    <tr>\n",
              "      <th>1</th>\n",
              "      <td>0018_01</td>\n",
              "      <td>0</td>\n",
              "    </tr>\n",
              "    <tr>\n",
              "      <th>2</th>\n",
              "      <td>0019_01</td>\n",
              "      <td>1</td>\n",
              "    </tr>\n",
              "    <tr>\n",
              "      <th>3</th>\n",
              "      <td>0021_01</td>\n",
              "      <td>1</td>\n",
              "    </tr>\n",
              "    <tr>\n",
              "      <th>4</th>\n",
              "      <td>0023_01</td>\n",
              "      <td>1</td>\n",
              "    </tr>\n",
              "    <tr>\n",
              "      <th>...</th>\n",
              "      <td>...</td>\n",
              "      <td>...</td>\n",
              "    </tr>\n",
              "    <tr>\n",
              "      <th>4272</th>\n",
              "      <td>9266_02</td>\n",
              "      <td>1</td>\n",
              "    </tr>\n",
              "    <tr>\n",
              "      <th>4273</th>\n",
              "      <td>9269_01</td>\n",
              "      <td>0</td>\n",
              "    </tr>\n",
              "    <tr>\n",
              "      <th>4274</th>\n",
              "      <td>9271_01</td>\n",
              "      <td>1</td>\n",
              "    </tr>\n",
              "    <tr>\n",
              "      <th>4275</th>\n",
              "      <td>9273_01</td>\n",
              "      <td>1</td>\n",
              "    </tr>\n",
              "    <tr>\n",
              "      <th>4276</th>\n",
              "      <td>9277_01</td>\n",
              "      <td>1</td>\n",
              "    </tr>\n",
              "  </tbody>\n",
              "</table>\n",
              "<p>4277 rows × 2 columns</p>\n",
              "</div>\n",
              "      <button class=\"colab-df-convert\" onclick=\"convertToInteractive('df-13f93f5d-cdda-4a0b-8949-570914d83126')\"\n",
              "              title=\"Convert this dataframe to an interactive table.\"\n",
              "              style=\"display:none;\">\n",
              "        \n",
              "  <svg xmlns=\"http://www.w3.org/2000/svg\" height=\"24px\"viewBox=\"0 0 24 24\"\n",
              "       width=\"24px\">\n",
              "    <path d=\"M0 0h24v24H0V0z\" fill=\"none\"/>\n",
              "    <path d=\"M18.56 5.44l.94 2.06.94-2.06 2.06-.94-2.06-.94-.94-2.06-.94 2.06-2.06.94zm-11 1L8.5 8.5l.94-2.06 2.06-.94-2.06-.94L8.5 2.5l-.94 2.06-2.06.94zm10 10l.94 2.06.94-2.06 2.06-.94-2.06-.94-.94-2.06-.94 2.06-2.06.94z\"/><path d=\"M17.41 7.96l-1.37-1.37c-.4-.4-.92-.59-1.43-.59-.52 0-1.04.2-1.43.59L10.3 9.45l-7.72 7.72c-.78.78-.78 2.05 0 2.83L4 21.41c.39.39.9.59 1.41.59.51 0 1.02-.2 1.41-.59l7.78-7.78 2.81-2.81c.8-.78.8-2.07 0-2.86zM5.41 20L4 18.59l7.72-7.72 1.47 1.35L5.41 20z\"/>\n",
              "  </svg>\n",
              "      </button>\n",
              "      \n",
              "  <style>\n",
              "    .colab-df-container {\n",
              "      display:flex;\n",
              "      flex-wrap:wrap;\n",
              "      gap: 12px;\n",
              "    }\n",
              "\n",
              "    .colab-df-convert {\n",
              "      background-color: #E8F0FE;\n",
              "      border: none;\n",
              "      border-radius: 50%;\n",
              "      cursor: pointer;\n",
              "      display: none;\n",
              "      fill: #1967D2;\n",
              "      height: 32px;\n",
              "      padding: 0 0 0 0;\n",
              "      width: 32px;\n",
              "    }\n",
              "\n",
              "    .colab-df-convert:hover {\n",
              "      background-color: #E2EBFA;\n",
              "      box-shadow: 0px 1px 2px rgba(60, 64, 67, 0.3), 0px 1px 3px 1px rgba(60, 64, 67, 0.15);\n",
              "      fill: #174EA6;\n",
              "    }\n",
              "\n",
              "    [theme=dark] .colab-df-convert {\n",
              "      background-color: #3B4455;\n",
              "      fill: #D2E3FC;\n",
              "    }\n",
              "\n",
              "    [theme=dark] .colab-df-convert:hover {\n",
              "      background-color: #434B5C;\n",
              "      box-shadow: 0px 1px 3px 1px rgba(0, 0, 0, 0.15);\n",
              "      filter: drop-shadow(0px 1px 2px rgba(0, 0, 0, 0.3));\n",
              "      fill: #FFFFFF;\n",
              "    }\n",
              "  </style>\n",
              "\n",
              "      <script>\n",
              "        const buttonEl =\n",
              "          document.querySelector('#df-13f93f5d-cdda-4a0b-8949-570914d83126 button.colab-df-convert');\n",
              "        buttonEl.style.display =\n",
              "          google.colab.kernel.accessAllowed ? 'block' : 'none';\n",
              "\n",
              "        async function convertToInteractive(key) {\n",
              "          const element = document.querySelector('#df-13f93f5d-cdda-4a0b-8949-570914d83126');\n",
              "          const dataTable =\n",
              "            await google.colab.kernel.invokeFunction('convertToInteractive',\n",
              "                                                     [key], {});\n",
              "          if (!dataTable) return;\n",
              "\n",
              "          const docLinkHtml = 'Like what you see? Visit the ' +\n",
              "            '<a target=\"_blank\" href=https://colab.research.google.com/notebooks/data_table.ipynb>data table notebook</a>'\n",
              "            + ' to learn more about interactive tables.';\n",
              "          element.innerHTML = '';\n",
              "          dataTable['output_type'] = 'display_data';\n",
              "          await google.colab.output.renderOutput(dataTable, element);\n",
              "          const docLink = document.createElement('div');\n",
              "          docLink.innerHTML = docLinkHtml;\n",
              "          element.appendChild(docLink);\n",
              "        }\n",
              "      </script>\n",
              "    </div>\n",
              "  </div>\n",
              "  "
            ]
          },
          "metadata": {},
          "execution_count": 611
        }
      ]
    },
    {
      "cell_type": "markdown",
      "source": [
        "Cambiamos las respuestas '0' y '1', a 'True' y 'False' que es el formato que requiere Kaggle que sea presentado"
      ],
      "metadata": {
        "id": "rPD3nKIA2uvc"
      }
    },
    {
      "cell_type": "code",
      "source": [
        "to_submit_rn['Transported'] = to_submit_rn['Transported'].replace(1,'True')\n",
        "to_submit_rn['Transported'] = to_submit_rn['Transported'].replace(0,'False')"
      ],
      "metadata": {
        "id": "GE_X7YEY2qIs"
      },
      "execution_count": 612,
      "outputs": []
    },
    {
      "cell_type": "code",
      "source": [
        "#verificamos los cambios\n",
        "to_submit_rn.head()"
      ],
      "metadata": {
        "id": "wkMR_wVO25nF",
        "colab": {
          "base_uri": "https://localhost:8080/",
          "height": 206
        },
        "outputId": "05a442de-5acb-47a8-d934-c5a5462597e6"
      },
      "execution_count": 613,
      "outputs": [
        {
          "output_type": "execute_result",
          "data": {
            "text/plain": [
              "  PassengerId Transported\n",
              "0     0013_01        True\n",
              "1     0018_01       False\n",
              "2     0019_01        True\n",
              "3     0021_01        True\n",
              "4     0023_01        True"
            ],
            "text/html": [
              "\n",
              "  <div id=\"df-01de22a5-c1e9-4319-921a-d51ece01a924\">\n",
              "    <div class=\"colab-df-container\">\n",
              "      <div>\n",
              "<style scoped>\n",
              "    .dataframe tbody tr th:only-of-type {\n",
              "        vertical-align: middle;\n",
              "    }\n",
              "\n",
              "    .dataframe tbody tr th {\n",
              "        vertical-align: top;\n",
              "    }\n",
              "\n",
              "    .dataframe thead th {\n",
              "        text-align: right;\n",
              "    }\n",
              "</style>\n",
              "<table border=\"1\" class=\"dataframe\">\n",
              "  <thead>\n",
              "    <tr style=\"text-align: right;\">\n",
              "      <th></th>\n",
              "      <th>PassengerId</th>\n",
              "      <th>Transported</th>\n",
              "    </tr>\n",
              "  </thead>\n",
              "  <tbody>\n",
              "    <tr>\n",
              "      <th>0</th>\n",
              "      <td>0013_01</td>\n",
              "      <td>True</td>\n",
              "    </tr>\n",
              "    <tr>\n",
              "      <th>1</th>\n",
              "      <td>0018_01</td>\n",
              "      <td>False</td>\n",
              "    </tr>\n",
              "    <tr>\n",
              "      <th>2</th>\n",
              "      <td>0019_01</td>\n",
              "      <td>True</td>\n",
              "    </tr>\n",
              "    <tr>\n",
              "      <th>3</th>\n",
              "      <td>0021_01</td>\n",
              "      <td>True</td>\n",
              "    </tr>\n",
              "    <tr>\n",
              "      <th>4</th>\n",
              "      <td>0023_01</td>\n",
              "      <td>True</td>\n",
              "    </tr>\n",
              "  </tbody>\n",
              "</table>\n",
              "</div>\n",
              "      <button class=\"colab-df-convert\" onclick=\"convertToInteractive('df-01de22a5-c1e9-4319-921a-d51ece01a924')\"\n",
              "              title=\"Convert this dataframe to an interactive table.\"\n",
              "              style=\"display:none;\">\n",
              "        \n",
              "  <svg xmlns=\"http://www.w3.org/2000/svg\" height=\"24px\"viewBox=\"0 0 24 24\"\n",
              "       width=\"24px\">\n",
              "    <path d=\"M0 0h24v24H0V0z\" fill=\"none\"/>\n",
              "    <path d=\"M18.56 5.44l.94 2.06.94-2.06 2.06-.94-2.06-.94-.94-2.06-.94 2.06-2.06.94zm-11 1L8.5 8.5l.94-2.06 2.06-.94-2.06-.94L8.5 2.5l-.94 2.06-2.06.94zm10 10l.94 2.06.94-2.06 2.06-.94-2.06-.94-.94-2.06-.94 2.06-2.06.94z\"/><path d=\"M17.41 7.96l-1.37-1.37c-.4-.4-.92-.59-1.43-.59-.52 0-1.04.2-1.43.59L10.3 9.45l-7.72 7.72c-.78.78-.78 2.05 0 2.83L4 21.41c.39.39.9.59 1.41.59.51 0 1.02-.2 1.41-.59l7.78-7.78 2.81-2.81c.8-.78.8-2.07 0-2.86zM5.41 20L4 18.59l7.72-7.72 1.47 1.35L5.41 20z\"/>\n",
              "  </svg>\n",
              "      </button>\n",
              "      \n",
              "  <style>\n",
              "    .colab-df-container {\n",
              "      display:flex;\n",
              "      flex-wrap:wrap;\n",
              "      gap: 12px;\n",
              "    }\n",
              "\n",
              "    .colab-df-convert {\n",
              "      background-color: #E8F0FE;\n",
              "      border: none;\n",
              "      border-radius: 50%;\n",
              "      cursor: pointer;\n",
              "      display: none;\n",
              "      fill: #1967D2;\n",
              "      height: 32px;\n",
              "      padding: 0 0 0 0;\n",
              "      width: 32px;\n",
              "    }\n",
              "\n",
              "    .colab-df-convert:hover {\n",
              "      background-color: #E2EBFA;\n",
              "      box-shadow: 0px 1px 2px rgba(60, 64, 67, 0.3), 0px 1px 3px 1px rgba(60, 64, 67, 0.15);\n",
              "      fill: #174EA6;\n",
              "    }\n",
              "\n",
              "    [theme=dark] .colab-df-convert {\n",
              "      background-color: #3B4455;\n",
              "      fill: #D2E3FC;\n",
              "    }\n",
              "\n",
              "    [theme=dark] .colab-df-convert:hover {\n",
              "      background-color: #434B5C;\n",
              "      box-shadow: 0px 1px 3px 1px rgba(0, 0, 0, 0.15);\n",
              "      filter: drop-shadow(0px 1px 2px rgba(0, 0, 0, 0.3));\n",
              "      fill: #FFFFFF;\n",
              "    }\n",
              "  </style>\n",
              "\n",
              "      <script>\n",
              "        const buttonEl =\n",
              "          document.querySelector('#df-01de22a5-c1e9-4319-921a-d51ece01a924 button.colab-df-convert');\n",
              "        buttonEl.style.display =\n",
              "          google.colab.kernel.accessAllowed ? 'block' : 'none';\n",
              "\n",
              "        async function convertToInteractive(key) {\n",
              "          const element = document.querySelector('#df-01de22a5-c1e9-4319-921a-d51ece01a924');\n",
              "          const dataTable =\n",
              "            await google.colab.kernel.invokeFunction('convertToInteractive',\n",
              "                                                     [key], {});\n",
              "          if (!dataTable) return;\n",
              "\n",
              "          const docLinkHtml = 'Like what you see? Visit the ' +\n",
              "            '<a target=\"_blank\" href=https://colab.research.google.com/notebooks/data_table.ipynb>data table notebook</a>'\n",
              "            + ' to learn more about interactive tables.';\n",
              "          element.innerHTML = '';\n",
              "          dataTable['output_type'] = 'display_data';\n",
              "          await google.colab.output.renderOutput(dataTable, element);\n",
              "          const docLink = document.createElement('div');\n",
              "          docLink.innerHTML = docLinkHtml;\n",
              "          element.appendChild(docLink);\n",
              "        }\n",
              "      </script>\n",
              "    </div>\n",
              "  </div>\n",
              "  "
            ]
          },
          "metadata": {},
          "execution_count": 613
        }
      ]
    },
    {
      "cell_type": "markdown",
      "source": [
        "Finalmente lo exportamos como archivo csv"
      ],
      "metadata": {
        "id": "HXknN9s93O4H"
      }
    },
    {
      "cell_type": "code",
      "source": [
        "to_submit_rn.to_csv('/content/drive/MyDrive/Coding Dojo/Códigos/Track 3/Deberes /Week 3 - Track 3/Ejecicio Spaceship con redes neuronales/kaggle_rn.csv',index = False)"
      ],
      "metadata": {
        "id": "kdl04m-z3NjQ"
      },
      "execution_count": 614,
      "outputs": []
    },
    {
      "cell_type": "markdown",
      "source": [
        "Obtenemos un puntaje un poco más bajo que nuestra primera entrada, pero pudimos lograr la aplicación de una red neuronal para la resolución del ejercicio.\n",
        "\n",
        "![Puntaje_red_neuronal.png](data:image/png;base64,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)"
      ],
      "metadata": {
        "id": "hXlmlbv7VKZ8"
      }
    }
  ]
}